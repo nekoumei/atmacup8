{
 "cells": [
  {
   "cell_type": "code",
   "execution_count": 1,
   "metadata": {
    "ExecuteTime": {
     "end_time": "2020-12-15T09:20:33.692758Z",
     "start_time": "2020-12-15T09:20:32.497318Z"
    }
   },
   "outputs": [],
   "source": [
    "import catboost as cbt\n",
    "import numpy as np\n",
    "import pandas as pd\n",
    "import lightgbm as lgb\n",
    "from sklearn.model_selection import KFold, StratifiedKFold, GroupKFold\n",
    "from sklearn.metrics import mean_squared_log_error\n",
    "from gensim.models import word2vec\n",
    "import jpholiday\n",
    "import swifter\n",
    "import datetime\n",
    "from tqdm.notebook import tqdm\n",
    "from sklearn.decomposition import PCA\n",
    "from sklearn.preprocessing import StandardScaler, LabelEncoder, OrdinalEncoder\n",
    "\n",
    "from sklearn.feature_extraction.text import TfidfVectorizer\n",
    "import matplotlib.pyplot as plt\n",
    "import seaborn as sns\n",
    "import joblib\n",
    "import xgboost as xgb\n",
    "%matplotlib inline\n",
    "from utils import StratifiedGroupKFold\n",
    "pd.options.display.max_rows = 1000"
   ]
  },
  {
   "cell_type": "code",
   "execution_count": 2,
   "metadata": {
    "ExecuteTime": {
     "end_time": "2020-12-15T09:20:33.749274Z",
     "start_time": "2020-12-15T09:20:33.693958Z"
    }
   },
   "outputs": [],
   "source": [
    "train, test, groups = joblib.load('../output/features.joblib')"
   ]
  },
  {
   "cell_type": "code",
   "execution_count": 3,
   "metadata": {
    "ExecuteTime": {
     "end_time": "2020-12-15T09:20:33.770457Z",
     "start_time": "2020-12-15T09:20:33.750354Z"
    }
   },
   "outputs": [],
   "source": [
    "X_train = train.drop(['NA_Sales', 'EU_Sales', 'JP_Sales', 'Other_Sales', 'Global_Sales'], axis=1)\n",
    "y_train = np.log1p(train['Global_Sales'])\n",
    "X_test = test.drop(['NA_Sales', 'EU_Sales', 'JP_Sales', 'Other_Sales', 'Global_Sales'], axis=1).copy()"
   ]
  },
  {
   "cell_type": "code",
   "execution_count": 5,
   "metadata": {
    "ExecuteTime": {
     "end_time": "2020-12-15T09:20:33.898396Z",
     "start_time": "2020-12-15T09:20:33.774626Z"
    }
   },
   "outputs": [],
   "source": [
    "oe = OrdinalEncoder()\n",
    "whole = pd.concat([X_train, X_test], axis=0, ignore_index=True)\n",
    "whole[['Platform', 'Genre', 'Rating', 'Genre_Platform', 'Genre_Rating',\n",
    "       'Genre_Bin_Year', 'Platform_Rating', 'Platform_Bin_Year',\n",
    "       'Rating_Bin_Year']] = oe.fit_transform(whole[['Platform', 'Genre', 'Rating', 'Genre_Platform', 'Genre_Rating',\n",
    "       'Genre_Bin_Year', 'Platform_Rating', 'Platform_Bin_Year',\n",
    "       'Rating_Bin_Year']].fillna('nan_value'))\n",
    "X_train = whole.iloc[:len(X_train), :].reset_index(drop=True)\n",
    "X_test = whole.iloc[len(X_train):, :].reset_index(drop=True)"
   ]
  },
  {
   "cell_type": "code",
   "execution_count": 6,
   "metadata": {
    "ExecuteTime": {
     "end_time": "2020-12-15T09:20:33.902289Z",
     "start_time": "2020-12-15T09:20:33.899434Z"
    }
   },
   "outputs": [],
   "source": [
    "stratified_y = pd.cut(y_train, 10, labels=False)"
   ]
  },
  {
   "cell_type": "code",
   "execution_count": 7,
   "metadata": {
    "ExecuteTime": {
     "end_time": "2020-12-15T09:22:06.975193Z",
     "start_time": "2020-12-15T09:20:33.903056Z"
    },
    "scrolled": true
   },
   "outputs": [
    {
     "name": "stdout",
     "output_type": "stream",
     "text": [
      "Start 1 fold\n",
      "--------------------\n",
      "[0]\tvalidation_0-rmse:2.70856\n",
      "Will train until validation_0-rmse hasn't improved in 1000 rounds.\n",
      "[1000]\tvalidation_0-rmse:0.90935\n",
      "Stopping. Best iteration:\n",
      "[483]\tvalidation_0-rmse:0.86688\n",
      "\n",
      "Start 2 fold\n",
      "--------------------\n",
      "[0]\tvalidation_0-rmse:2.71948\n",
      "Will train until validation_0-rmse hasn't improved in 1000 rounds.\n",
      "[1000]\tvalidation_0-rmse:0.85269\n",
      "[2000]\tvalidation_0-rmse:0.84542\n",
      "[3000]\tvalidation_0-rmse:0.84013\n",
      "[4000]\tvalidation_0-rmse:0.83552\n",
      "[5000]\tvalidation_0-rmse:0.83341\n",
      "[6000]\tvalidation_0-rmse:0.83241\n",
      "[7000]\tvalidation_0-rmse:0.83115\n",
      "[8000]\tvalidation_0-rmse:0.83091\n",
      "[9000]\tvalidation_0-rmse:0.83027\n",
      "[10000]\tvalidation_0-rmse:0.83057\n",
      "Stopping. Best iteration:\n",
      "[9110]\tvalidation_0-rmse:0.83001\n",
      "\n",
      "Start 3 fold\n",
      "--------------------\n",
      "[0]\tvalidation_0-rmse:2.71147\n",
      "Will train until validation_0-rmse hasn't improved in 1000 rounds.\n",
      "[1000]\tvalidation_0-rmse:0.84780\n",
      "[2000]\tvalidation_0-rmse:0.83118\n",
      "[3000]\tvalidation_0-rmse:0.82441\n",
      "[4000]\tvalidation_0-rmse:0.82172\n",
      "[5000]\tvalidation_0-rmse:0.82070\n",
      "[6000]\tvalidation_0-rmse:0.82017\n",
      "[7000]\tvalidation_0-rmse:0.81993\n",
      "[8000]\tvalidation_0-rmse:0.82015\n",
      "Stopping. Best iteration:\n",
      "[7048]\tvalidation_0-rmse:0.81979\n",
      "\n",
      "Start 4 fold\n",
      "--------------------\n",
      "[0]\tvalidation_0-rmse:2.73657\n",
      "Will train until validation_0-rmse hasn't improved in 1000 rounds.\n",
      "[1000]\tvalidation_0-rmse:0.86602\n",
      "[2000]\tvalidation_0-rmse:0.84779\n",
      "[3000]\tvalidation_0-rmse:0.84108\n",
      "[4000]\tvalidation_0-rmse:0.83692\n",
      "[5000]\tvalidation_0-rmse:0.83562\n",
      "[6000]\tvalidation_0-rmse:0.83477\n",
      "[7000]\tvalidation_0-rmse:0.83366\n",
      "[8000]\tvalidation_0-rmse:0.83279\n",
      "[9000]\tvalidation_0-rmse:0.83173\n",
      "[10000]\tvalidation_0-rmse:0.83180\n",
      "Stopping. Best iteration:\n",
      "[9809]\tvalidation_0-rmse:0.83155\n",
      "\n",
      "Start 5 fold\n",
      "--------------------\n",
      "[0]\tvalidation_0-rmse:2.70463\n",
      "Will train until validation_0-rmse hasn't improved in 1000 rounds.\n",
      "[1000]\tvalidation_0-rmse:0.81869\n",
      "[2000]\tvalidation_0-rmse:0.80284\n",
      "[3000]\tvalidation_0-rmse:0.79591\n",
      "[4000]\tvalidation_0-rmse:0.78957\n",
      "[5000]\tvalidation_0-rmse:0.78694\n",
      "[6000]\tvalidation_0-rmse:0.78609\n",
      "[7000]\tvalidation_0-rmse:0.78587\n",
      "Stopping. Best iteration:\n",
      "[6975]\tvalidation_0-rmse:0.78580\n",
      "\n"
     ]
    }
   ],
   "source": [
    "#kf = GroupKFold(n_splits=5)\n",
    "kf = StratifiedGroupKFold(n_splits=5, random_state=0)\n",
    "oof = np.zeros(X_train.shape[0])\n",
    "y_pred = np.zeros(X_test.shape[0])\n",
    "models = []\n",
    "\n",
    "for i, (train_index, valid_index) in enumerate(kf.split(X_train, y=stratified_y, groups=groups)):\n",
    "    print(f'Start {i+1} fold')\n",
    "    print('-' * 20)\n",
    "    X_tr, y_tr = X_train.iloc[train_index, :], y_train.iloc[train_index]\n",
    "    X_val, y_val = X_train.iloc[valid_index, :], y_train.iloc[valid_index]\n",
    "    X_tes = X_test.copy()\n",
    "    \n",
    "    params = {\n",
    "        'objective': 'reg:squarederror',\n",
    "        'n_estimators': 10000000,\n",
    "        'max_depth': 4,\n",
    "        'learning_rate': 0.01,\n",
    "        'verbosity': 1,\n",
    "        'colsample_bytree': 0.4,\n",
    "        'eval_metric': 'rmse',\n",
    "        'random_state': 0,\n",
    "        'tree_method': 'gpu_hist',\n",
    "        'gpu_id': 0\n",
    "    }\n",
    "    model = xgb.XGBRegressor(**params)\n",
    "    model.fit(X_tr, y_tr, eval_set=[(X_val, y_val)], early_stopping_rounds=1000, verbose=1000)\n",
    "    models.append(model)\n",
    "    oof[valid_index] = model.predict(X_val)\n",
    "    y_pred += model.predict(X_tes) / 5"
   ]
  },
  {
   "cell_type": "code",
   "execution_count": 8,
   "metadata": {
    "ExecuteTime": {
     "end_time": "2020-12-15T09:22:06.980823Z",
     "start_time": "2020-12-15T09:22:06.976250Z"
    }
   },
   "outputs": [
    {
     "name": "stdout",
     "output_type": "stream",
     "text": [
      "0.827261109202819\n"
     ]
    }
   ],
   "source": [
    "oof = np.where(oof < 0, 0, oof)\n",
    "y_pred = np.where(y_pred < 0, 0, y_pred)\n",
    "\n",
    "y_train = np.expm1(y_train)\n",
    "oof = np.expm1(oof)\n",
    "y_pred = np.expm1(y_pred)\n",
    "\n",
    "print(mean_squared_log_error(y_train, oof) ** .5)"
   ]
  },
  {
   "cell_type": "code",
   "execution_count": 9,
   "metadata": {
    "ExecuteTime": {
     "end_time": "2020-12-15T09:22:06.991406Z",
     "start_time": "2020-12-15T09:22:06.982249Z"
    }
   },
   "outputs": [
    {
     "data": {
      "text/plain": [
       "['../output/XGB_oof_preds.joblib']"
      ]
     },
     "execution_count": 9,
     "metadata": {},
     "output_type": "execute_result"
    }
   ],
   "source": [
    "joblib.dump((oof, y_pred), '../output/XGB_oof_preds.joblib')"
   ]
  }
 ],
 "metadata": {
  "kernelspec": {
   "display_name": "Python 3",
   "language": "python",
   "name": "python3"
  },
  "language_info": {
   "codemirror_mode": {
    "name": "ipython",
    "version": 3
   },
   "file_extension": ".py",
   "mimetype": "text/x-python",
   "name": "python",
   "nbconvert_exporter": "python",
   "pygments_lexer": "ipython3",
   "version": "3.7.4"
  }
 },
 "nbformat": 4,
 "nbformat_minor": 4
}
