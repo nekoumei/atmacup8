{
 "cells": [
  {
   "cell_type": "code",
   "execution_count": 1,
   "metadata": {
    "ExecuteTime": {
     "end_time": "2020-12-15T08:59:11.672347Z",
     "start_time": "2020-12-15T08:59:10.518915Z"
    }
   },
   "outputs": [],
   "source": [
    "import catboost as cbt\n",
    "import numpy as np\n",
    "import pandas as pd\n",
    "import lightgbm as lgb\n",
    "from sklearn.model_selection import KFold, StratifiedKFold, GroupKFold\n",
    "from sklearn.metrics import mean_squared_log_error\n",
    "from gensim.models import word2vec\n",
    "import jpholiday\n",
    "import swifter\n",
    "import datetime\n",
    "from tqdm.notebook import tqdm\n",
    "from sklearn.decomposition import PCA\n",
    "from sklearn.preprocessing import StandardScaler\n",
    "\n",
    "from sklearn.feature_extraction.text import TfidfVectorizer\n",
    "import matplotlib.pyplot as plt\n",
    "import seaborn as sns\n",
    "import joblib\n",
    "%matplotlib inline\n",
    "from utils import StratifiedGroupKFold\n",
    "pd.options.display.max_rows = 1000"
   ]
  },
  {
   "cell_type": "code",
   "execution_count": 2,
   "metadata": {
    "ExecuteTime": {
     "end_time": "2020-12-15T08:59:11.731104Z",
     "start_time": "2020-12-15T08:59:11.673522Z"
    }
   },
   "outputs": [],
   "source": [
    "train, test, groups = joblib.load('../output/features.joblib')"
   ]
  },
  {
   "cell_type": "code",
   "execution_count": 3,
   "metadata": {
    "ExecuteTime": {
     "end_time": "2020-12-15T08:59:11.755163Z",
     "start_time": "2020-12-15T08:59:11.732545Z"
    }
   },
   "outputs": [],
   "source": [
    "X_train = train.drop(['NA_Sales', 'EU_Sales', 'JP_Sales', 'Other_Sales', 'Global_Sales'], axis=1)\n",
    "y_train = np.log1p(train['Global_Sales'])\n",
    "X_test = test.drop(['NA_Sales', 'EU_Sales', 'JP_Sales', 'Other_Sales', 'Global_Sales'], axis=1).copy()\n",
    "\n",
    "category_cols = X_train.columns[X_train.dtypes=='category']\n",
    "for col in category_cols:\n",
    "    X_train[col] = X_train[col].astype(object)\n",
    "    X_test[col] = X_test[col].astype(object)"
   ]
  },
  {
   "cell_type": "code",
   "execution_count": 4,
   "metadata": {
    "ExecuteTime": {
     "end_time": "2020-12-15T08:59:11.759173Z",
     "start_time": "2020-12-15T08:59:11.756569Z"
    }
   },
   "outputs": [],
   "source": [
    "stratified_y = pd.cut(y_train, 10, labels=False)"
   ]
  },
  {
   "cell_type": "code",
   "execution_count": 5,
   "metadata": {
    "ExecuteTime": {
     "end_time": "2020-12-15T08:59:11.785761Z",
     "start_time": "2020-12-15T08:59:11.759948Z"
    },
    "scrolled": true
   },
   "outputs": [],
   "source": [
    "category_cols = X_train.columns[X_train.dtypes=='object']\n",
    "for col in category_cols:\n",
    "    X_train[col] = X_train[col].astype(str)\n",
    "    X_test[col] = X_test[col].astype(str)"
   ]
  },
  {
   "cell_type": "code",
   "execution_count": 6,
   "metadata": {
    "ExecuteTime": {
     "end_time": "2020-12-15T08:59:11.791460Z",
     "start_time": "2020-12-15T08:59:11.786651Z"
    }
   },
   "outputs": [
    {
     "data": {
      "text/plain": [
       "Index(['Platform', 'Genre', 'Rating', 'Genre_Platform', 'Genre_Rating',\n",
       "       'Genre_Bin_Year', 'Platform_Rating', 'Platform_Bin_Year',\n",
       "       'Rating_Bin_Year'],\n",
       "      dtype='object')"
      ]
     },
     "execution_count": 6,
     "metadata": {},
     "output_type": "execute_result"
    }
   ],
   "source": [
    "category_cols"
   ]
  },
  {
   "cell_type": "code",
   "execution_count": 7,
   "metadata": {
    "ExecuteTime": {
     "end_time": "2020-12-15T09:15:51.889166Z",
     "start_time": "2020-12-15T08:59:11.792213Z"
    },
    "scrolled": true
   },
   "outputs": [
    {
     "name": "stdout",
     "output_type": "stream",
     "text": [
      "Start 1 fold\n",
      "--------------------\n",
      "0:\tlearn: 1.3071777\ttest: 1.2932342\tbest: 1.2932342 (0)\ttotal: 11.2ms\tremaining: 12d 23h 24m 2s\n",
      "1000:\tlearn: 0.8973836\ttest: 0.9197817\tbest: 0.9197817 (1000)\ttotal: 9.26s\tremaining: 10d 16h 52m 51s\n",
      "2000:\tlearn: 0.8586886\ttest: 0.8925105\tbest: 0.8925105 (2000)\ttotal: 18.5s\tremaining: 10d 16h 23m 32s\n",
      "3000:\tlearn: 0.8382523\ttest: 0.8845174\tbest: 0.8844817 (2958)\ttotal: 27.9s\tremaining: 10d 18h 8m 34s\n",
      "4000:\tlearn: 0.8218504\ttest: 0.8833666\tbest: 0.8823749 (3702)\ttotal: 37s\tremaining: 10d 17h 9m 13s\n",
      "5000:\tlearn: 0.8082347\ttest: 0.8802155\tbest: 0.8802124 (4998)\ttotal: 46.5s\tremaining: 10d 18h 17m 45s\n",
      "6000:\tlearn: 0.7995495\ttest: 0.8778724\tbest: 0.8778272 (5980)\ttotal: 55.9s\tremaining: 10d 18h 55m 18s\n",
      "7000:\tlearn: 0.7909851\ttest: 0.8757755\tbest: 0.8757569 (6992)\ttotal: 1m 5s\tremaining: 10d 19h 47m 22s\n",
      "8000:\tlearn: 0.7842468\ttest: 0.8771749\tbest: 0.8756579 (7067)\ttotal: 1m 14s\tremaining: 10d 19h 51m 24s\n",
      "bestTest = 0.8756579381\n",
      "bestIteration = 7067\n",
      "Shrink model to first 7068 iterations.\n",
      "Start 2 fold\n",
      "--------------------\n",
      "0:\tlearn: 1.3045211\ttest: 1.3027451\tbest: 1.3027451 (0)\ttotal: 10.3ms\tremaining: 11d 22h 54m 29s\n",
      "1000:\tlearn: 0.9049005\ttest: 0.8995390\tbest: 0.8995390 (1000)\ttotal: 9.26s\tremaining: 10d 17h 3m 13s\n",
      "2000:\tlearn: 0.8679518\ttest: 0.8854965\tbest: 0.8854965 (2000)\ttotal: 18.5s\tremaining: 10d 17h 13m 46s\n",
      "3000:\tlearn: 0.8451790\ttest: 0.8815778\tbest: 0.8815647 (2997)\ttotal: 28s\tremaining: 10d 19h 13m 51s\n",
      "4000:\tlearn: 0.8274470\ttest: 0.8789712\tbest: 0.8789712 (4000)\ttotal: 37.5s\tremaining: 10d 20h 36m 1s\n",
      "5000:\tlearn: 0.8136234\ttest: 0.8771261\tbest: 0.8770680 (4976)\ttotal: 47.1s\tremaining: 10d 21h 39m 54s\n",
      "6000:\tlearn: 0.8047863\ttest: 0.8765231\tbest: 0.8765231 (6000)\ttotal: 56.4s\tremaining: 10d 21h 8m\n",
      "7000:\tlearn: 0.7947257\ttest: 0.8762495\tbest: 0.8761743 (6487)\ttotal: 1m 5s\tremaining: 10d 21h 9m 28s\n",
      "bestTest = 0.876174254\n",
      "bestIteration = 6487\n",
      "Shrink model to first 6488 iterations.\n",
      "Start 3 fold\n",
      "--------------------\n",
      "0:\tlearn: 1.3042863\ttest: 1.3033155\tbest: 1.3033155 (0)\ttotal: 10.6ms\tremaining: 12d 6h 55m 59s\n",
      "1000:\tlearn: 0.9006106\ttest: 0.9343401\tbest: 0.9343401 (1000)\ttotal: 9.58s\tremaining: 11d 1h 45m 47s\n",
      "2000:\tlearn: 0.8582966\ttest: 0.9080390\tbest: 0.9080390 (2000)\ttotal: 19s\tremaining: 11d 19m 2s\n",
      "3000:\tlearn: 0.8356440\ttest: 0.8965614\tbest: 0.8965470 (2999)\ttotal: 28.6s\tremaining: 11d 51m 50s\n",
      "4000:\tlearn: 0.8194035\ttest: 0.8907619\tbest: 0.8907571 (3999)\ttotal: 37.7s\tremaining: 10d 21h 34m 33s\n",
      "5000:\tlearn: 0.8077611\ttest: 0.8870279\tbest: 0.8870139 (4997)\ttotal: 46.8s\tremaining: 10d 20h 6m 53s\n",
      "6000:\tlearn: 0.7999285\ttest: 0.8861876\tbest: 0.8859587 (5720)\ttotal: 56.1s\tremaining: 10d 19h 47m 53s\n",
      "7000:\tlearn: 0.7939254\ttest: 0.8854302\tbest: 0.8854302 (7000)\ttotal: 1m 5s\tremaining: 10d 19h 26m 26s\n",
      "8000:\tlearn: 0.7875108\ttest: 0.8834143\tbest: 0.8833412 (7962)\ttotal: 1m 14s\tremaining: 10d 19h 18m 44s\n",
      "9000:\tlearn: 0.7809705\ttest: 0.8811055\tbest: 0.8810831 (8986)\ttotal: 1m 24s\tremaining: 10d 19h 17m 7s\n",
      "10000:\tlearn: 0.7758300\ttest: 0.8795666\tbest: 0.8795516 (9997)\ttotal: 1m 33s\tremaining: 10d 18h 59m 58s\n",
      "11000:\tlearn: 0.7708734\ttest: 0.8787848\tbest: 0.8787808 (10992)\ttotal: 1m 42s\tremaining: 10d 19h 13m 20s\n",
      "12000:\tlearn: 0.7663175\ttest: 0.8777997\tbest: 0.8777861 (11960)\ttotal: 1m 52s\tremaining: 10d 19h 46m 49s\n",
      "13000:\tlearn: 0.7626007\ttest: 0.8772415\tbest: 0.8772354 (12999)\ttotal: 2m 1s\tremaining: 10d 20h 19m 24s\n",
      "14000:\tlearn: 0.7596572\ttest: 0.8769561\tbest: 0.8768798 (13422)\ttotal: 2m 11s\tremaining: 10d 20h 43m 17s\n",
      "15000:\tlearn: 0.7563866\ttest: 0.8768990\tbest: 0.8768335 (14567)\ttotal: 2m 20s\tremaining: 10d 20h 50m 4s\n",
      "16000:\tlearn: 0.7527600\ttest: 0.8763959\tbest: 0.8763637 (15992)\ttotal: 2m 30s\tremaining: 10d 20h 42m 36s\n",
      "17000:\tlearn: 0.7494999\ttest: 0.8752992\tbest: 0.8752463 (16884)\ttotal: 2m 39s\tremaining: 10d 20h 46m 47s\n",
      "18000:\tlearn: 0.7464813\ttest: 0.8744228\tbest: 0.8743530 (17956)\ttotal: 2m 49s\tremaining: 10d 21h 9m 23s\n",
      "19000:\tlearn: 0.7425071\ttest: 0.8738216\tbest: 0.8738216 (19000)\ttotal: 2m 58s\tremaining: 10d 21h 10m 43s\n",
      "20000:\tlearn: 0.7379966\ttest: 0.8732260\tbest: 0.8732098 (19998)\ttotal: 3m 8s\tremaining: 10d 21h 27m 31s\n",
      "21000:\tlearn: 0.7343240\ttest: 0.8727044\tbest: 0.8727044 (21000)\ttotal: 3m 17s\tremaining: 10d 21h 46m 25s\n",
      "22000:\tlearn: 0.7301676\ttest: 0.8725941\tbest: 0.8725170 (21772)\ttotal: 3m 27s\tremaining: 10d 21h 48m 13s\n",
      "23000:\tlearn: 0.7266432\ttest: 0.8726134\tbest: 0.8724214 (22504)\ttotal: 3m 36s\tremaining: 10d 21h 55m 28s\n",
      "bestTest = 0.8724214025\n",
      "bestIteration = 22504\n",
      "Shrink model to first 22505 iterations.\n",
      "Start 4 fold\n",
      "--------------------\n",
      "0:\tlearn: 1.2971471\ttest: 1.3332855\tbest: 1.3332855 (0)\ttotal: 10.4ms\tremaining: 12d 2h 2m 5s\n",
      "1000:\tlearn: 0.8940791\ttest: 0.9558419\tbest: 0.9558419 (1000)\ttotal: 9.59s\tremaining: 11d 2h 57s\n",
      "2000:\tlearn: 0.8586965\ttest: 0.9335138\tbest: 0.9335135 (1998)\ttotal: 19s\tremaining: 11d 14m 5s\n",
      "3000:\tlearn: 0.8328315\ttest: 0.9200559\tbest: 0.9200559 (3000)\ttotal: 28.3s\tremaining: 10d 21h 44m 37s\n",
      "4000:\tlearn: 0.8164770\ttest: 0.9125461\tbest: 0.9125461 (4000)\ttotal: 37.5s\tremaining: 10d 20h 28m 13s\n",
      "5000:\tlearn: 0.8024762\ttest: 0.9061585\tbest: 0.9061453 (4994)\ttotal: 47.2s\tremaining: 10d 22h 9m 28s\n",
      "6000:\tlearn: 0.7918059\ttest: 0.9016491\tbest: 0.9016491 (6000)\ttotal: 56.8s\tremaining: 10d 22h 58m 45s\n",
      "7000:\tlearn: 0.7854054\ttest: 0.8988732\tbest: 0.8988732 (7000)\ttotal: 1m 6s\tremaining: 10d 22h 57m 39s\n",
      "8000:\tlearn: 0.7804242\ttest: 0.8966005\tbest: 0.8965827 (7983)\ttotal: 1m 15s\tremaining: 10d 23h 33m 5s\n",
      "9000:\tlearn: 0.7750534\ttest: 0.8946980\tbest: 0.8946980 (9000)\ttotal: 1m 25s\tremaining: 10d 23h 31m 44s\n",
      "10000:\tlearn: 0.7688580\ttest: 0.8928582\tbest: 0.8928582 (10000)\ttotal: 1m 34s\tremaining: 10d 23h 19m 17s\n",
      "11000:\tlearn: 0.7643133\ttest: 0.8917520\tbest: 0.8917335 (10976)\ttotal: 1m 44s\tremaining: 10d 22h 56m 21s\n",
      "12000:\tlearn: 0.7588773\ttest: 0.8901252\tbest: 0.8901158 (11990)\ttotal: 1m 53s\tremaining: 10d 22h 23m 44s\n",
      "13000:\tlearn: 0.7541063\ttest: 0.8883964\tbest: 0.8883793 (12995)\ttotal: 2m 3s\tremaining: 10d 23h 1m 58s\n",
      "14000:\tlearn: 0.7503571\ttest: 0.8872207\tbest: 0.8871844 (13949)\ttotal: 2m 12s\tremaining: 10d 23h 12m 42s\n",
      "15000:\tlearn: 0.7469692\ttest: 0.8859767\tbest: 0.8859767 (15000)\ttotal: 2m 22s\tremaining: 10d 23h 26m 51s\n",
      "16000:\tlearn: 0.7430002\ttest: 0.8849039\tbest: 0.8847891 (15891)\ttotal: 2m 31s\tremaining: 10d 23h 17m 41s\n",
      "17000:\tlearn: 0.7399972\ttest: 0.8841285\tbest: 0.8841275 (16997)\ttotal: 2m 41s\tremaining: 10d 23h 8m 28s\n",
      "18000:\tlearn: 0.7360968\ttest: 0.8828785\tbest: 0.8828768 (17988)\ttotal: 2m 50s\tremaining: 10d 23h 27m 25s\n",
      "19000:\tlearn: 0.7329625\ttest: 0.8815305\tbest: 0.8815301 (18982)\ttotal: 3m\tremaining: 10d 23h 24m 5s\n",
      "20000:\tlearn: 0.7297318\ttest: 0.8805045\tbest: 0.8805032 (19997)\ttotal: 3m 9s\tremaining: 10d 23h 35m 33s\n",
      "21000:\tlearn: 0.7267248\ttest: 0.8800236\tbest: 0.8800200 (20999)\ttotal: 3m 19s\tremaining: 10d 23h 45m 19s\n",
      "22000:\tlearn: 0.7234684\ttest: 0.8793938\tbest: 0.8793807 (21979)\ttotal: 3m 29s\tremaining: 10d 23h 58m 36s\n",
      "23000:\tlearn: 0.7202723\ttest: 0.8792239\tbest: 0.8792239 (23000)\ttotal: 3m 38s\tremaining: 11d 20m\n",
      "24000:\tlearn: 0.7174283\ttest: 0.8778475\tbest: 0.8778475 (24000)\ttotal: 3m 48s\tremaining: 11d 41m 29s\n",
      "25000:\tlearn: 0.7149511\ttest: 0.8771985\tbest: 0.8771967 (24996)\ttotal: 3m 58s\tremaining: 11d 1h 2m 16s\n",
      "26000:\tlearn: 0.7119794\ttest: 0.8763683\tbest: 0.8763675 (25994)\ttotal: 4m 8s\tremaining: 11d 1h 22m 26s\n",
      "27000:\tlearn: 0.7098524\ttest: 0.8758544\tbest: 0.8758537 (26999)\ttotal: 4m 18s\tremaining: 11d 1h 41m 1s\n",
      "28000:\tlearn: 0.7070741\ttest: 0.8751630\tbest: 0.8751591 (27996)\ttotal: 4m 27s\tremaining: 11d 1h 44m 32s\n",
      "29000:\tlearn: 0.7044509\ttest: 0.8747035\tbest: 0.8746075 (28751)\ttotal: 4m 37s\tremaining: 11d 2h 5m 13s\n",
      "30000:\tlearn: 0.7024891\ttest: 0.8743095\tbest: 0.8742998 (29984)\ttotal: 4m 47s\tremaining: 11d 2h 6m 16s\n",
      "31000:\tlearn: 0.7009392\ttest: 0.8737085\tbest: 0.8736865 (30941)\ttotal: 4m 57s\tremaining: 11d 2h 6m 49s\n",
      "32000:\tlearn: 0.6985752\ttest: 0.8730642\tbest: 0.8730642 (32000)\ttotal: 5m 6s\tremaining: 11d 2h 13m 12s\n",
      "33000:\tlearn: 0.6963225\ttest: 0.8726334\tbest: 0.8726324 (32963)\ttotal: 5m 16s\tremaining: 11d 2h 23m 57s\n",
      "34000:\tlearn: 0.6941212\ttest: 0.8727743\tbest: 0.8725885 (33234)\ttotal: 5m 26s\tremaining: 11d 2h 33m 5s\n",
      "bestTest = 0.8725884654\n",
      "bestIteration = 33234\n",
      "Shrink model to first 33235 iterations.\n"
     ]
    },
    {
     "name": "stdout",
     "output_type": "stream",
     "text": [
      "Start 5 fold\n",
      "--------------------\n",
      "0:\tlearn: 1.3084992\ttest: 1.2880484\tbest: 1.2880484 (0)\ttotal: 10ms\tremaining: 11d 15h 5m 12s\n",
      "1000:\tlearn: 0.9103877\ttest: 0.9005221\tbest: 0.9005221 (1000)\ttotal: 9.51s\tremaining: 10d 23h 53m 12s\n",
      "2000:\tlearn: 0.8699864\ttest: 0.8724200\tbest: 0.8724200 (2000)\ttotal: 19.2s\tremaining: 11d 1h 51m 39s\n",
      "3000:\tlearn: 0.8453335\ttest: 0.8605766\tbest: 0.8605766 (3000)\ttotal: 28.6s\tremaining: 11d 46m 15s\n",
      "4000:\tlearn: 0.8280861\ttest: 0.8523308\tbest: 0.8523283 (3999)\ttotal: 38.1s\tremaining: 11d 25m 52s\n",
      "5000:\tlearn: 0.8148940\ttest: 0.8486090\tbest: 0.8486028 (4995)\ttotal: 47.6s\tremaining: 11d 6m 39s\n",
      "6000:\tlearn: 0.8053713\ttest: 0.8463832\tbest: 0.8463821 (5999)\ttotal: 57.1s\tremaining: 11d 7m 14s\n",
      "7000:\tlearn: 0.8002615\ttest: 0.8450050\tbest: 0.8449477 (6903)\ttotal: 1m 6s\tremaining: 10d 22h 40m 55s\n",
      "8000:\tlearn: 0.7953530\ttest: 0.8436999\tbest: 0.8436621 (7990)\ttotal: 1m 15s\tremaining: 10d 22h 49m 9s\n",
      "9000:\tlearn: 0.7899492\ttest: 0.8419693\tbest: 0.8419297 (8981)\ttotal: 1m 25s\tremaining: 10d 22h 26m 33s\n",
      "10000:\tlearn: 0.7843405\ttest: 0.8410450\tbest: 0.8410127 (9970)\ttotal: 1m 34s\tremaining: 10d 22h 54m 3s\n",
      "11000:\tlearn: 0.7786239\ttest: 0.8400480\tbest: 0.8400479 (10993)\ttotal: 1m 44s\tremaining: 10d 22h 38m 13s\n",
      "12000:\tlearn: 0.7727799\ttest: 0.8388564\tbest: 0.8388564 (12000)\ttotal: 1m 53s\tremaining: 10d 22h 16m 47s\n",
      "13000:\tlearn: 0.7677189\ttest: 0.8382889\tbest: 0.8380865 (12791)\ttotal: 2m 2s\tremaining: 10d 22h 20m 51s\n",
      "14000:\tlearn: 0.7636410\ttest: 0.8375082\tbest: 0.8375036 (13997)\ttotal: 2m 12s\tremaining: 10d 22h 23m 49s\n",
      "15000:\tlearn: 0.7593717\ttest: 0.8364834\tbest: 0.8364834 (15000)\ttotal: 2m 21s\tremaining: 10d 22h 50m 14s\n",
      "16000:\tlearn: 0.7553400\ttest: 0.8355558\tbest: 0.8355558 (16000)\ttotal: 2m 31s\tremaining: 10d 23h 7m 21s\n",
      "17000:\tlearn: 0.7519574\ttest: 0.8352026\tbest: 0.8351770 (16989)\ttotal: 2m 41s\tremaining: 10d 23h 16m 36s\n",
      "18000:\tlearn: 0.7480164\ttest: 0.8342272\tbest: 0.8342271 (17999)\ttotal: 2m 50s\tremaining: 10d 23h 31m 48s\n",
      "19000:\tlearn: 0.7443490\ttest: 0.8333472\tbest: 0.8333472 (19000)\ttotal: 3m\tremaining: 10d 23h 26m 43s\n",
      "20000:\tlearn: 0.7413892\ttest: 0.8325637\tbest: 0.8325605 (19990)\ttotal: 3m 9s\tremaining: 10d 23h 28m 33s\n",
      "21000:\tlearn: 0.7381032\ttest: 0.8321099\tbest: 0.8319604 (20731)\ttotal: 3m 19s\tremaining: 10d 23h 34m 26s\n",
      "22000:\tlearn: 0.7351155\ttest: 0.8318617\tbest: 0.8317737 (21671)\ttotal: 3m 28s\tremaining: 10d 23h 37m 42s\n",
      "23000:\tlearn: 0.7329484\ttest: 0.8318957\tbest: 0.8317122 (22840)\ttotal: 3m 38s\tremaining: 10d 23h 56m 22s\n",
      "24000:\tlearn: 0.7307283\ttest: 0.8314961\tbest: 0.8314930 (23998)\ttotal: 3m 48s\tremaining: 11d 2m 51s\n",
      "25000:\tlearn: 0.7285403\ttest: 0.8313571\tbest: 0.8312848 (24948)\ttotal: 3m 57s\tremaining: 11d 8m 3s\n",
      "26000:\tlearn: 0.7264919\ttest: 0.8309318\tbest: 0.8309318 (26000)\ttotal: 4m 7s\tremaining: 11d 25m 6s\n",
      "27000:\tlearn: 0.7245492\ttest: 0.8303898\tbest: 0.8303838 (26996)\ttotal: 4m 17s\tremaining: 11d 25m 1s\n",
      "28000:\tlearn: 0.7217653\ttest: 0.8300010\tbest: 0.8299592 (27954)\ttotal: 4m 26s\tremaining: 11d 45m 26s\n",
      "29000:\tlearn: 0.7188974\ttest: 0.8298350\tbest: 0.8298201 (28673)\ttotal: 4m 36s\tremaining: 11d 1h 7m 24s\n",
      "30000:\tlearn: 0.7162177\ttest: 0.8296135\tbest: 0.8295699 (29665)\ttotal: 4m 46s\tremaining: 11d 1h 24m 36s\n",
      "bestTest = 0.8295698616\n",
      "bestIteration = 29665\n",
      "Shrink model to first 29666 iterations.\n"
     ]
    }
   ],
   "source": [
    "#kf = GroupKFold(n_splits=5)\n",
    "kf = StratifiedGroupKFold(n_splits=5, random_state=0)\n",
    "oof = np.zeros(X_train.shape[0])\n",
    "y_pred = np.zeros(X_test.shape[0])\n",
    "models = []\n",
    "\n",
    "for i, (train_index, valid_index) in enumerate(kf.split(X_train, y=stratified_y, groups=groups)):\n",
    "    print(f'Start {i+1} fold')\n",
    "    print('-' * 20)\n",
    "    X_tr, y_tr = X_train.iloc[train_index, :], y_train.iloc[train_index]\n",
    "    X_val, y_val = X_train.iloc[valid_index, :], y_train.iloc[valid_index]\n",
    "    X_tes = X_test.copy()\n",
    "    \n",
    "    params_cbt = {\n",
    "        'iterations': 100000000,\n",
    "        'depth': 3,\n",
    "        'learning_rate': 0.01,\n",
    "        'random_seed': 0,\n",
    "        'cat_features': ['Platform', 'Genre', 'Rating', 'Genre_Platform', 'Genre_Rating',\n",
    "       'Genre_Bin_Year', 'Platform_Rating', 'Platform_Bin_Year',\n",
    "       'Rating_Bin_Year'],\n",
    "        'task_type': 'GPU',\n",
    "    }\n",
    "    model = cbt.CatBoostRegressor(**params_cbt)\n",
    "    model.fit(X_tr, y_tr, eval_set=[(X_val, y_val)], early_stopping_rounds=1000, verbose=1000)\n",
    "    models.append(model)\n",
    "    oof[valid_index] = model.predict(X_val)\n",
    "    y_pred += model.predict(X_tes) / 5"
   ]
  },
  {
   "cell_type": "code",
   "execution_count": 8,
   "metadata": {
    "ExecuteTime": {
     "end_time": "2020-12-15T09:15:51.893607Z",
     "start_time": "2020-12-15T09:15:51.890009Z"
    }
   },
   "outputs": [
    {
     "name": "stdout",
     "output_type": "stream",
     "text": [
      "0.865501207218099\n"
     ]
    }
   ],
   "source": [
    "oof = np.where(oof < 0, 0, oof)\n",
    "y_pred = np.where(y_pred < 0, 0, y_pred)\n",
    "\n",
    "y_train = np.expm1(y_train)\n",
    "oof = np.expm1(oof)\n",
    "y_pred = np.expm1(y_pred)\n",
    "\n",
    "print(mean_squared_log_error(y_train, oof) ** .5)"
   ]
  },
  {
   "cell_type": "code",
   "execution_count": 9,
   "metadata": {
    "ExecuteTime": {
     "end_time": "2020-12-15T09:15:51.903668Z",
     "start_time": "2020-12-15T09:15:51.894702Z"
    }
   },
   "outputs": [
    {
     "data": {
      "text/plain": [
       "['../output/CBT_oof_preds.joblib']"
      ]
     },
     "execution_count": 9,
     "metadata": {},
     "output_type": "execute_result"
    }
   ],
   "source": [
    "joblib.dump((oof, y_pred), '../output/CBT_oof_preds.joblib')"
   ]
  },
  {
   "cell_type": "code",
   "execution_count": null,
   "metadata": {},
   "outputs": [],
   "source": []
  }
 ],
 "metadata": {
  "kernelspec": {
   "display_name": "Python 3",
   "language": "python",
   "name": "python3"
  },
  "language_info": {
   "codemirror_mode": {
    "name": "ipython",
    "version": 3
   },
   "file_extension": ".py",
   "mimetype": "text/x-python",
   "name": "python",
   "nbconvert_exporter": "python",
   "pygments_lexer": "ipython3",
   "version": "3.7.4"
  }
 },
 "nbformat": 4,
 "nbformat_minor": 4
}
