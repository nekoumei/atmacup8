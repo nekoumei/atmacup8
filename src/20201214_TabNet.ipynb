{
 "cells": [
  {
   "cell_type": "markdown",
   "metadata": {},
   "source": [
    "ref: https://zenn.dev/sinchir0/articles/9228eccebfbf579bfdf4"
   ]
  },
  {
   "cell_type": "code",
   "execution_count": 1,
   "metadata": {
    "ExecuteTime": {
     "end_time": "2020-12-15T08:47:41.018507Z",
     "start_time": "2020-12-15T08:47:39.921706Z"
    }
   },
   "outputs": [],
   "source": [
    "import numpy as np\n",
    "import pandas as pd\n",
    "import lightgbm as lgb\n",
    "from sklearn.model_selection import StratifiedKFold, GroupKFold\n",
    "from sklearn.metrics import average_precision_score, mean_squared_error, mean_squared_log_error\n",
    "import swifter\n",
    "from pytz import timezone\n",
    "import jpholiday\n",
    "from datetime import datetime\n",
    "import joblib\n",
    "import swifter\n",
    "\n",
    "pd.options.display.max_columns = 100\n",
    "\n",
    "from tqdm.notebook import tqdm\n",
    "\n",
    "import os\n",
    "from logzero import logger\n",
    "import numpy as np\n",
    "import pandas as pd\n",
    "import random\n",
    "import torch\n",
    "import torch.nn as nn\n",
    "import torch.nn.functional as F\n",
    "import torch.optim as optim\n",
    "import torchvision\n",
    "from torchvision import models, transforms\n",
    "from sklearn.metrics import accuracy_score, mean_squared_error\n",
    "from sklearn.model_selection import StratifiedKFold\n",
    "from sklearn.preprocessing import StandardScaler, LabelEncoder, QuantileTransformer\n",
    "\n",
    "from pytorch_tabnet.pretraining import TabNetPretrainer\n",
    "\n",
    "from pytorch_tabnet.tab_model import TabNetRegressor\n",
    "from utils import StratifiedGroupKFold"
   ]
  },
  {
   "cell_type": "code",
   "execution_count": 2,
   "metadata": {
    "ExecuteTime": {
     "end_time": "2020-12-15T08:47:41.078500Z",
     "start_time": "2020-12-15T08:47:41.019744Z"
    }
   },
   "outputs": [],
   "source": [
    "train, test, groups = joblib.load('../output/features.joblib')"
   ]
  },
  {
   "cell_type": "code",
   "execution_count": 3,
   "metadata": {
    "ExecuteTime": {
     "end_time": "2020-12-15T08:47:41.102005Z",
     "start_time": "2020-12-15T08:47:41.079605Z"
    }
   },
   "outputs": [],
   "source": [
    "X_train = train.drop(['NA_Sales', 'EU_Sales', 'JP_Sales', 'Other_Sales', 'Global_Sales'], axis=1)\n",
    "y_train = np.log1p(train['Global_Sales'])\n",
    "X_test = test.drop(['NA_Sales', 'EU_Sales', 'JP_Sales', 'Other_Sales', 'Global_Sales'], axis=1).copy()"
   ]
  },
  {
   "cell_type": "code",
   "execution_count": 4,
   "metadata": {
    "ExecuteTime": {
     "end_time": "2020-12-15T08:47:41.106481Z",
     "start_time": "2020-12-15T08:47:41.103425Z"
    }
   },
   "outputs": [],
   "source": [
    "stratified_y = pd.cut(y_train, 10, labels=False)"
   ]
  },
  {
   "cell_type": "code",
   "execution_count": 5,
   "metadata": {
    "ExecuteTime": {
     "end_time": "2020-12-15T08:47:41.695411Z",
     "start_time": "2020-12-15T08:47:41.107532Z"
    },
    "scrolled": true
   },
   "outputs": [
    {
     "data": {
      "application/vnd.jupyter.widget-view+json": {
       "model_id": "4416ae58f4ac487192dfa3e1ad3b363c",
       "version_major": 2,
       "version_minor": 0
      },
      "text/plain": [
       "HBox(children=(HTML(value=''), FloatProgress(value=0.0, max=9.0), HTML(value='')))"
      ]
     },
     "metadata": {},
     "output_type": "display_data"
    },
    {
     "data": {
      "application/vnd.jupyter.widget-view+json": {
       "model_id": "f8053fe7a7dc4752897e3f1edad60cb7",
       "version_major": 2,
       "version_minor": 0
      },
      "text/plain": [
       "HBox(children=(HTML(value='Pandas Apply'), FloatProgress(value=0.0, max=7653.0), HTML(value='')))"
      ]
     },
     "metadata": {},
     "output_type": "display_data"
    },
    {
     "name": "stdout",
     "output_type": "stream",
     "text": [
      "\n"
     ]
    },
    {
     "data": {
      "application/vnd.jupyter.widget-view+json": {
       "model_id": "3d8b37c4c4bc4515ab18c43e6a1a9279",
       "version_major": 2,
       "version_minor": 0
      },
      "text/plain": [
       "HBox(children=(HTML(value='Pandas Apply'), FloatProgress(value=0.0, max=8360.0), HTML(value='')))"
      ]
     },
     "metadata": {},
     "output_type": "display_data"
    },
    {
     "name": "stdout",
     "output_type": "stream",
     "text": [
      "\n"
     ]
    },
    {
     "data": {
      "application/vnd.jupyter.widget-view+json": {
       "model_id": "b12b9ba4967b41bc8932f1137e8219ed",
       "version_major": 2,
       "version_minor": 0
      },
      "text/plain": [
       "HBox(children=(HTML(value='Pandas Apply'), FloatProgress(value=0.0, max=7653.0), HTML(value='')))"
      ]
     },
     "metadata": {},
     "output_type": "display_data"
    },
    {
     "name": "stdout",
     "output_type": "stream",
     "text": [
      "\n"
     ]
    },
    {
     "data": {
      "application/vnd.jupyter.widget-view+json": {
       "model_id": "f1835509357944a1ab0d69ff24edc145",
       "version_major": 2,
       "version_minor": 0
      },
      "text/plain": [
       "HBox(children=(HTML(value='Pandas Apply'), FloatProgress(value=0.0, max=8360.0), HTML(value='')))"
      ]
     },
     "metadata": {},
     "output_type": "display_data"
    },
    {
     "name": "stdout",
     "output_type": "stream",
     "text": [
      "\n"
     ]
    },
    {
     "data": {
      "application/vnd.jupyter.widget-view+json": {
       "model_id": "7c723f34dbc84722910b960ad6e1d710",
       "version_major": 2,
       "version_minor": 0
      },
      "text/plain": [
       "HBox(children=(HTML(value='Pandas Apply'), FloatProgress(value=0.0, max=7653.0), HTML(value='')))"
      ]
     },
     "metadata": {},
     "output_type": "display_data"
    },
    {
     "name": "stdout",
     "output_type": "stream",
     "text": [
      "\n"
     ]
    },
    {
     "data": {
      "application/vnd.jupyter.widget-view+json": {
       "model_id": "c30401edd60c4ddea670d968405e553b",
       "version_major": 2,
       "version_minor": 0
      },
      "text/plain": [
       "HBox(children=(HTML(value='Pandas Apply'), FloatProgress(value=0.0, max=8360.0), HTML(value='')))"
      ]
     },
     "metadata": {},
     "output_type": "display_data"
    },
    {
     "name": "stdout",
     "output_type": "stream",
     "text": [
      "\n"
     ]
    },
    {
     "data": {
      "application/vnd.jupyter.widget-view+json": {
       "model_id": "243904cd6f314b91a97d13fd75dfa217",
       "version_major": 2,
       "version_minor": 0
      },
      "text/plain": [
       "HBox(children=(HTML(value='Pandas Apply'), FloatProgress(value=0.0, max=7653.0), HTML(value='')))"
      ]
     },
     "metadata": {},
     "output_type": "display_data"
    },
    {
     "name": "stdout",
     "output_type": "stream",
     "text": [
      "\n"
     ]
    },
    {
     "data": {
      "application/vnd.jupyter.widget-view+json": {
       "model_id": "a80d46ebd5aa4a2c830e885b6b4de2e4",
       "version_major": 2,
       "version_minor": 0
      },
      "text/plain": [
       "HBox(children=(HTML(value='Pandas Apply'), FloatProgress(value=0.0, max=8360.0), HTML(value='')))"
      ]
     },
     "metadata": {},
     "output_type": "display_data"
    },
    {
     "name": "stdout",
     "output_type": "stream",
     "text": [
      "\n"
     ]
    },
    {
     "data": {
      "application/vnd.jupyter.widget-view+json": {
       "model_id": "0c06c7aad3a244bc8c1af12b60753423",
       "version_major": 2,
       "version_minor": 0
      },
      "text/plain": [
       "HBox(children=(HTML(value='Pandas Apply'), FloatProgress(value=0.0, max=7653.0), HTML(value='')))"
      ]
     },
     "metadata": {},
     "output_type": "display_data"
    },
    {
     "name": "stdout",
     "output_type": "stream",
     "text": [
      "\n"
     ]
    },
    {
     "data": {
      "application/vnd.jupyter.widget-view+json": {
       "model_id": "8f17bdcd135740a3b44624845da09801",
       "version_major": 2,
       "version_minor": 0
      },
      "text/plain": [
       "HBox(children=(HTML(value='Pandas Apply'), FloatProgress(value=0.0, max=8360.0), HTML(value='')))"
      ]
     },
     "metadata": {},
     "output_type": "display_data"
    },
    {
     "name": "stdout",
     "output_type": "stream",
     "text": [
      "\n"
     ]
    },
    {
     "data": {
      "application/vnd.jupyter.widget-view+json": {
       "model_id": "4896081b073e4a1cbc55b037bb064ede",
       "version_major": 2,
       "version_minor": 0
      },
      "text/plain": [
       "HBox(children=(HTML(value='Pandas Apply'), FloatProgress(value=0.0, max=7653.0), HTML(value='')))"
      ]
     },
     "metadata": {},
     "output_type": "display_data"
    },
    {
     "name": "stdout",
     "output_type": "stream",
     "text": [
      "\n"
     ]
    },
    {
     "data": {
      "application/vnd.jupyter.widget-view+json": {
       "model_id": "93560dd5eebe4938b8857f24d7ed828b",
       "version_major": 2,
       "version_minor": 0
      },
      "text/plain": [
       "HBox(children=(HTML(value='Pandas Apply'), FloatProgress(value=0.0, max=8360.0), HTML(value='')))"
      ]
     },
     "metadata": {},
     "output_type": "display_data"
    },
    {
     "name": "stdout",
     "output_type": "stream",
     "text": [
      "\n"
     ]
    },
    {
     "data": {
      "application/vnd.jupyter.widget-view+json": {
       "model_id": "8db76fe026e444038c9adb0e23611946",
       "version_major": 2,
       "version_minor": 0
      },
      "text/plain": [
       "HBox(children=(HTML(value='Pandas Apply'), FloatProgress(value=0.0, max=7653.0), HTML(value='')))"
      ]
     },
     "metadata": {},
     "output_type": "display_data"
    },
    {
     "name": "stdout",
     "output_type": "stream",
     "text": [
      "\n"
     ]
    },
    {
     "data": {
      "application/vnd.jupyter.widget-view+json": {
       "model_id": "027dd5060c5b4167a4b579d92e8ef438",
       "version_major": 2,
       "version_minor": 0
      },
      "text/plain": [
       "HBox(children=(HTML(value='Pandas Apply'), FloatProgress(value=0.0, max=8360.0), HTML(value='')))"
      ]
     },
     "metadata": {},
     "output_type": "display_data"
    },
    {
     "name": "stdout",
     "output_type": "stream",
     "text": [
      "\n"
     ]
    },
    {
     "data": {
      "application/vnd.jupyter.widget-view+json": {
       "model_id": "849bca5e1a9b4ce18cc6f45fe5ff2b73",
       "version_major": 2,
       "version_minor": 0
      },
      "text/plain": [
       "HBox(children=(HTML(value='Pandas Apply'), FloatProgress(value=0.0, max=7653.0), HTML(value='')))"
      ]
     },
     "metadata": {},
     "output_type": "display_data"
    },
    {
     "name": "stdout",
     "output_type": "stream",
     "text": [
      "\n"
     ]
    },
    {
     "data": {
      "application/vnd.jupyter.widget-view+json": {
       "model_id": "436ec578fbac47eb83808bf98b2bd756",
       "version_major": 2,
       "version_minor": 0
      },
      "text/plain": [
       "HBox(children=(HTML(value='Pandas Apply'), FloatProgress(value=0.0, max=8360.0), HTML(value='')))"
      ]
     },
     "metadata": {},
     "output_type": "display_data"
    },
    {
     "name": "stdout",
     "output_type": "stream",
     "text": [
      "\n"
     ]
    },
    {
     "data": {
      "application/vnd.jupyter.widget-view+json": {
       "model_id": "0332545d350646669e738f6b69145e7c",
       "version_major": 2,
       "version_minor": 0
      },
      "text/plain": [
       "HBox(children=(HTML(value='Pandas Apply'), FloatProgress(value=0.0, max=7653.0), HTML(value='')))"
      ]
     },
     "metadata": {},
     "output_type": "display_data"
    },
    {
     "name": "stdout",
     "output_type": "stream",
     "text": [
      "\n"
     ]
    },
    {
     "data": {
      "application/vnd.jupyter.widget-view+json": {
       "model_id": "5f37b39cc4304225afef2461fc99d856",
       "version_major": 2,
       "version_minor": 0
      },
      "text/plain": [
       "HBox(children=(HTML(value='Pandas Apply'), FloatProgress(value=0.0, max=8360.0), HTML(value='')))"
      ]
     },
     "metadata": {},
     "output_type": "display_data"
    },
    {
     "name": "stdout",
     "output_type": "stream",
     "text": [
      "\n",
      "\n"
     ]
    }
   ],
   "source": [
    "category_cols = X_train.columns[X_train.dtypes=='category']\n",
    "for col in category_cols:\n",
    "    X_train[col] = X_train[col].astype(object)\n",
    "    X_test[col] = X_test[col].astype(object)\n",
    "\n",
    "object_cols = X_train.columns[X_train.dtypes=='object']\n",
    "for col in tqdm(object_cols):\n",
    "    X_train[col] = X_train[col].astype(object).astype(str)\n",
    "    X_test[col] = X_test[col].astype(object).astype(str)\n",
    "    le = LabelEncoder()\n",
    "    le.fit(X_train[col])\n",
    "    le_dict = dict(zip(le.classes_, le.transform(le.classes_)))\n",
    "    X_train[col] = X_train[col].swifter.apply(lambda x: le_dict.get(x, np.nan))\n",
    "    X_test[col] = X_test[col].swifter.apply(lambda x: le_dict.get(x, np.nan))"
   ]
  },
  {
   "cell_type": "code",
   "execution_count": 6,
   "metadata": {
    "ExecuteTime": {
     "end_time": "2020-12-15T08:47:41.729890Z",
     "start_time": "2020-12-15T08:47:41.696273Z"
    }
   },
   "outputs": [],
   "source": [
    "X_train = X_train.fillna(-1)\n",
    "X_test = X_test.fillna(-1)"
   ]
  },
  {
   "cell_type": "code",
   "execution_count": 7,
   "metadata": {
    "ExecuteTime": {
     "end_time": "2020-12-15T08:47:41.732538Z",
     "start_time": "2020-12-15T08:47:41.730838Z"
    }
   },
   "outputs": [],
   "source": [
    "SEED = 7188"
   ]
  },
  {
   "cell_type": "code",
   "execution_count": 8,
   "metadata": {
    "ExecuteTime": {
     "end_time": "2020-12-15T08:47:41.746564Z",
     "start_time": "2020-12-15T08:47:41.733263Z"
    }
   },
   "outputs": [],
   "source": [
    "feature_col = X_train.columns.tolist()\n",
    "categorical_columns = object_cols\n",
    "\n",
    "# class num\n",
    "categorical_dims = {}\n",
    "\n",
    "for col in categorical_columns:\n",
    "    categorical_dims[col] = train[col].nunique()\n",
    "cat_idxs = [ i for i, f in enumerate(feature_col) if f in categorical_columns]\n",
    "cat_dims = [ categorical_dims[f] for i, f in enumerate(feature_col) if f in categorical_columns]"
   ]
  },
  {
   "cell_type": "code",
   "execution_count": 9,
   "metadata": {
    "ExecuteTime": {
     "end_time": "2020-12-15T08:49:48.820567Z",
     "start_time": "2020-12-15T08:47:41.747837Z"
    }
   },
   "outputs": [
    {
     "name": "stdout",
     "output_type": "stream",
     "text": [
      "Device used : cuda\n",
      "epoch 0  | loss: 3425758374.62069| val_0_unsup_loss: 4446264320.0|  0:00:01s\n",
      "epoch 10 | loss: 34317847.53448| val_0_unsup_loss: 277811776.0|  0:00:13s\n",
      "epoch 20 | loss: 9543188.74138| val_0_unsup_loss: 157981760.0|  0:00:26s\n",
      "epoch 30 | loss: 12542238.82759| val_0_unsup_loss: 115461648.0|  0:00:39s\n",
      "epoch 40 | loss: 9429415.84483| val_0_unsup_loss: 51520564.0|  0:00:52s\n",
      "epoch 50 | loss: 8119439.94828| val_0_unsup_loss: 93479200.0|  0:01:05s\n",
      "epoch 60 | loss: 40494455.82759| val_0_unsup_loss: 54389300.0|  0:01:18s\n",
      "epoch 70 | loss: 6256787.53448| val_0_unsup_loss: 206014080.0|  0:01:30s\n",
      "epoch 80 | loss: 4626535.33621| val_0_unsup_loss: 91271680.0|  0:01:43s\n",
      "epoch 90 | loss: 79153489.30172| val_0_unsup_loss: 120055312.0|  0:01:56s\n",
      "\n",
      "Early stopping occured at epoch 97 with best_epoch = 77 and best_val_0_unsup_loss = 37904580.0\n",
      "Best weights from best epoch are automatically used!\n"
     ]
    }
   ],
   "source": [
    "tabnet_params = dict(n_d=8, n_a=8, n_steps=3, gamma=1.3,\n",
    "                     n_independent=2, n_shared=2,\n",
    "                     seed=SEED, lambda_sparse=1e-3, \n",
    "                     optimizer_fn=torch.optim.Adam, \n",
    "                     optimizer_params=dict(lr=2e-2),\n",
    "                     mask_type=\"entmax\",\n",
    "                     scheduler_params=dict(mode=\"min\",\n",
    "                                           patience=5,\n",
    "                                           min_lr=1e-5,\n",
    "                                           factor=0.9,),\n",
    "                     scheduler_fn=torch.optim.lr_scheduler.ReduceLROnPlateau,\n",
    "                     verbose=10\n",
    "                    )\n",
    "\n",
    "pretrainer = TabNetPretrainer(**tabnet_params)\n",
    "\n",
    "pretrainer.fit(\n",
    "    X_train=X_train.values,\n",
    "    eval_set=[X_train.values],\n",
    "    max_epochs=200,\n",
    "    patience=20, batch_size=256, virtual_batch_size=128,\n",
    "    num_workers=1, drop_last=True)"
   ]
  },
  {
   "cell_type": "code",
   "execution_count": 10,
   "metadata": {
    "ExecuteTime": {
     "end_time": "2020-12-15T08:53:35.694301Z",
     "start_time": "2020-12-15T08:49:48.821781Z"
    },
    "scrolled": true
   },
   "outputs": [
    {
     "name": "stdout",
     "output_type": "stream",
     "text": [
      "Start 1 fold\n",
      "--------------------\n",
      "Device used : cuda\n",
      "Loading weights from unsupervised pretraining\n"
     ]
    },
    {
     "name": "stderr",
     "output_type": "stream",
     "text": [
      "/home/nekoumei/anaconda3/lib/python3.7/site-packages/pytorch_tabnet/abstract_model.py:93: UserWarning: Pretraining: cat_dims changed from [31, 12, 8, 272, 64, 104, 105, 94, 40] to []\n",
      "  warnings.warn(wrn_msg)\n",
      "/home/nekoumei/anaconda3/lib/python3.7/site-packages/pytorch_tabnet/abstract_model.py:93: UserWarning: Pretraining: cat_idxs changed from [0, 2, 7, 13, 14, 15, 16, 17, 18] to []\n",
      "  warnings.warn(wrn_msg)\n"
     ]
    },
    {
     "name": "stdout",
     "output_type": "stream",
     "text": [
      "epoch 0  | loss: 62.82089| valid_rmse: 6.78092 |  0:00:00s\n",
      "epoch 10 | loss: 1.06742 | valid_rmse: 1.04796 |  0:00:06s\n",
      "epoch 20 | loss: 0.83685 | valid_rmse: 1.00857 |  0:00:13s\n",
      "epoch 30 | loss: 0.73854 | valid_rmse: 0.96095 |  0:00:19s\n",
      "epoch 40 | loss: 0.66452 | valid_rmse: 0.98226 |  0:00:25s\n",
      "epoch 50 | loss: 0.62495 | valid_rmse: 0.97792 |  0:00:31s\n",
      "epoch 60 | loss: 0.56589 | valid_rmse: 0.93317 |  0:00:37s\n",
      "epoch 70 | loss: 0.51662 | valid_rmse: 0.94141 |  0:00:43s\n",
      "epoch 80 | loss: 0.42195 | valid_rmse: 0.9674  |  0:00:50s\n",
      "epoch 90 | loss: 0.38841 | valid_rmse: 0.96514 |  0:00:56s\n",
      "\n",
      "Early stopping occured at epoch 99 with best_epoch = 79 and best_valid_rmse = 0.92444\n",
      "Best weights from best epoch are automatically used!\n",
      "Start 2 fold\n",
      "--------------------\n",
      "Device used : cuda\n",
      "Loading weights from unsupervised pretraining\n"
     ]
    },
    {
     "name": "stderr",
     "output_type": "stream",
     "text": [
      "/home/nekoumei/anaconda3/lib/python3.7/site-packages/pytorch_tabnet/abstract_model.py:93: UserWarning: Pretraining: cat_dims changed from [31, 12, 8, 272, 64, 104, 105, 94, 40] to []\n",
      "  warnings.warn(wrn_msg)\n",
      "/home/nekoumei/anaconda3/lib/python3.7/site-packages/pytorch_tabnet/abstract_model.py:93: UserWarning: Pretraining: cat_idxs changed from [0, 2, 7, 13, 14, 15, 16, 17, 18] to []\n",
      "  warnings.warn(wrn_msg)\n"
     ]
    },
    {
     "name": "stdout",
     "output_type": "stream",
     "text": [
      "epoch 0  | loss: 62.80843| valid_rmse: 7.17968 |  0:00:00s\n",
      "epoch 10 | loss: 1.12279 | valid_rmse: 1.07252 |  0:00:06s\n",
      "epoch 20 | loss: 0.81682 | valid_rmse: 0.97995 |  0:00:13s\n",
      "epoch 30 | loss: 0.77316 | valid_rmse: 0.95375 |  0:00:19s\n",
      "epoch 40 | loss: 0.64452 | valid_rmse: 0.95526 |  0:00:25s\n",
      "epoch 50 | loss: 0.59384 | valid_rmse: 0.98991 |  0:00:31s\n",
      "epoch 60 | loss: 0.55006 | valid_rmse: 0.9595  |  0:00:38s\n",
      "\n",
      "Early stopping occured at epoch 68 with best_epoch = 48 and best_valid_rmse = 0.93898\n",
      "Best weights from best epoch are automatically used!\n",
      "Start 3 fold\n",
      "--------------------\n",
      "Device used : cuda\n",
      "Loading weights from unsupervised pretraining\n"
     ]
    },
    {
     "name": "stderr",
     "output_type": "stream",
     "text": [
      "/home/nekoumei/anaconda3/lib/python3.7/site-packages/pytorch_tabnet/abstract_model.py:93: UserWarning: Pretraining: cat_dims changed from [31, 12, 8, 272, 64, 104, 105, 94, 40] to []\n",
      "  warnings.warn(wrn_msg)\n",
      "/home/nekoumei/anaconda3/lib/python3.7/site-packages/pytorch_tabnet/abstract_model.py:93: UserWarning: Pretraining: cat_idxs changed from [0, 2, 7, 13, 14, 15, 16, 17, 18] to []\n",
      "  warnings.warn(wrn_msg)\n"
     ]
    },
    {
     "name": "stdout",
     "output_type": "stream",
     "text": [
      "epoch 0  | loss: 62.79309| valid_rmse: 6.9796  |  0:00:00s\n",
      "epoch 10 | loss: 1.13787 | valid_rmse: 1.08276 |  0:00:06s\n",
      "epoch 20 | loss: 0.80746 | valid_rmse: 0.98717 |  0:00:13s\n",
      "epoch 30 | loss: 0.79034 | valid_rmse: 0.99094 |  0:00:19s\n",
      "epoch 40 | loss: 0.74162 | valid_rmse: 1.03515 |  0:00:25s\n",
      "epoch 50 | loss: 0.64123 | valid_rmse: 0.94233 |  0:00:31s\n",
      "epoch 60 | loss: 0.58512 | valid_rmse: 0.9853  |  0:00:37s\n",
      "epoch 70 | loss: 0.53799 | valid_rmse: 0.97456 |  0:00:44s\n",
      "\n",
      "Early stopping occured at epoch 77 with best_epoch = 57 and best_valid_rmse = 0.93701\n",
      "Best weights from best epoch are automatically used!\n",
      "Start 4 fold\n",
      "--------------------\n",
      "Device used : cuda\n",
      "Loading weights from unsupervised pretraining\n"
     ]
    },
    {
     "name": "stderr",
     "output_type": "stream",
     "text": [
      "/home/nekoumei/anaconda3/lib/python3.7/site-packages/pytorch_tabnet/abstract_model.py:93: UserWarning: Pretraining: cat_dims changed from [31, 12, 8, 272, 64, 104, 105, 94, 40] to []\n",
      "  warnings.warn(wrn_msg)\n",
      "/home/nekoumei/anaconda3/lib/python3.7/site-packages/pytorch_tabnet/abstract_model.py:93: UserWarning: Pretraining: cat_idxs changed from [0, 2, 7, 13, 14, 15, 16, 17, 18] to []\n",
      "  warnings.warn(wrn_msg)\n"
     ]
    },
    {
     "name": "stdout",
     "output_type": "stream",
     "text": [
      "epoch 0  | loss: 62.76523| valid_rmse: 6.87865 |  0:00:00s\n",
      "epoch 10 | loss: 1.10592 | valid_rmse: 1.12535 |  0:00:06s\n",
      "epoch 20 | loss: 0.82155 | valid_rmse: 1.00189 |  0:00:13s\n",
      "epoch 30 | loss: 0.70872 | valid_rmse: 1.00645 |  0:00:19s\n",
      "epoch 40 | loss: 0.61201 | valid_rmse: 0.94757 |  0:00:25s\n",
      "epoch 50 | loss: 0.64011 | valid_rmse: 0.96384 |  0:00:31s\n",
      "epoch 60 | loss: 0.55526 | valid_rmse: 0.9946  |  0:00:37s\n",
      "\n",
      "Early stopping occured at epoch 61 with best_epoch = 41 and best_valid_rmse = 0.93673\n",
      "Best weights from best epoch are automatically used!\n",
      "Start 5 fold\n",
      "--------------------\n",
      "Device used : cuda\n",
      "Loading weights from unsupervised pretraining\n"
     ]
    },
    {
     "name": "stderr",
     "output_type": "stream",
     "text": [
      "/home/nekoumei/anaconda3/lib/python3.7/site-packages/pytorch_tabnet/abstract_model.py:93: UserWarning: Pretraining: cat_dims changed from [31, 12, 8, 272, 64, 104, 105, 94, 40] to []\n",
      "  warnings.warn(wrn_msg)\n",
      "/home/nekoumei/anaconda3/lib/python3.7/site-packages/pytorch_tabnet/abstract_model.py:93: UserWarning: Pretraining: cat_idxs changed from [0, 2, 7, 13, 14, 15, 16, 17, 18] to []\n",
      "  warnings.warn(wrn_msg)\n"
     ]
    },
    {
     "name": "stdout",
     "output_type": "stream",
     "text": [
      "epoch 0  | loss: 62.63964| valid_rmse: 6.7966  |  0:00:00s\n",
      "epoch 10 | loss: 1.14947 | valid_rmse: 1.05711 |  0:00:06s\n",
      "epoch 20 | loss: 0.82514 | valid_rmse: 0.93086 |  0:00:13s\n",
      "epoch 30 | loss: 0.79037 | valid_rmse: 0.94537 |  0:00:19s\n",
      "epoch 40 | loss: 0.65116 | valid_rmse: 0.91686 |  0:00:25s\n",
      "\n",
      "Early stopping occured at epoch 43 with best_epoch = 23 and best_valid_rmse = 0.8975\n",
      "Best weights from best epoch are automatically used!\n"
     ]
    }
   ],
   "source": [
    "#kf = GroupKFold(n_splits=5)\n",
    "kf = StratifiedGroupKFold(n_splits=5, random_state=0)\n",
    "oof = np.zeros(X_train.shape[0])\n",
    "y_pred = np.zeros(X_test.shape[0])\n",
    "models = []\n",
    "\n",
    "for i, (train_index, valid_index) in enumerate(kf.split(X_train, y=stratified_y, groups=groups)):\n",
    "    print(f'Start {i+1} fold')\n",
    "    print('-' * 20)\n",
    "    X_tr, y_tr = X_train.iloc[train_index, :], y_train.iloc[train_index]\n",
    "    X_val, y_val = X_train.iloc[valid_index, :], y_train.iloc[valid_index]\n",
    "    X_tes = X_test.copy()\n",
    "\n",
    "\n",
    "    tabnet_params = dict(n_d=8, n_a=8, n_steps=3, gamma=1.3,\n",
    "                         n_independent=2, n_shared=2,\n",
    "                         seed=SEED, lambda_sparse=1e-3,\n",
    "                         optimizer_fn=torch.optim.Adam,\n",
    "                         optimizer_params=dict(lr=2e-2,\n",
    "                                               weight_decay=1e-5\n",
    "                                              ),\n",
    "                         mask_type=\"entmax\",\n",
    "                         scheduler_params=dict(max_lr=0.05,\n",
    "                                               steps_per_epoch=int(X_train.shape[0] / 256),\n",
    "                                               epochs=200,\n",
    "                                               is_batch_level=True\n",
    "                                              ),\n",
    "                         scheduler_fn=torch.optim.lr_scheduler.OneCycleLR,\n",
    "                         verbose=10,\n",
    "                         cat_idxs=cat_idxs, # comment out when Unsupervised\n",
    "                         cat_dims=cat_dims, # comment out when Unsupervised\n",
    "                         cat_emb_dim=1 # comment out when Unsupervised\n",
    "                        )\n",
    "\n",
    "    model = TabNetRegressor(**tabnet_params)\n",
    "\n",
    "    model.fit(X_train=X_tr.values,\n",
    "              y_train=y_tr.values.reshape(-1,1),\n",
    "              eval_set=[(X_val.values, y_val.values.reshape(-1,1))],\n",
    "              eval_name = [\"valid\"],\n",
    "              eval_metric = [\"rmse\"],\n",
    "              max_epochs=200,\n",
    "              patience=20, batch_size=256, virtual_batch_size=128,\n",
    "              num_workers=0, drop_last=False,\n",
    "              from_unsupervised=pretrainer # comment out when Unsupervised\n",
    "             )\n",
    "    \n",
    "    \n",
    "    \n",
    "    oof[valid_index] = model.predict(X_val.values).reshape(-1)\n",
    "    y_pred += model.predict(X_tes.values).reshape(-1) / 5\n",
    "    models.append(model)\n",
    "\n",
    "oof = np.where(oof < 0, 0, oof)\n",
    "y_pred = np.where(y_pred < 0, 0, y_pred)\n",
    "oof = np.expm1(oof)\n",
    "y_pred = np.expm1(y_pred)"
   ]
  },
  {
   "cell_type": "code",
   "execution_count": 11,
   "metadata": {
    "ExecuteTime": {
     "end_time": "2020-12-15T08:53:35.698454Z",
     "start_time": "2020-12-15T08:53:35.695387Z"
    }
   },
   "outputs": [
    {
     "name": "stdout",
     "output_type": "stream",
     "text": [
      "0.927090275353453\n"
     ]
    }
   ],
   "source": [
    "y_train = np.expm1(y_train)\n",
    "print(mean_squared_log_error(y_train, oof) ** .5)"
   ]
  },
  {
   "cell_type": "code",
   "execution_count": 12,
   "metadata": {
    "ExecuteTime": {
     "end_time": "2020-12-15T08:53:35.713060Z",
     "start_time": "2020-12-15T08:53:35.699254Z"
    }
   },
   "outputs": [
    {
     "data": {
      "text/plain": [
       "['../output/TabNet_oof_preds.joblib']"
      ]
     },
     "execution_count": 12,
     "metadata": {},
     "output_type": "execute_result"
    }
   ],
   "source": [
    "joblib.dump((oof, y_pred), '../output/TabNet_oof_preds.joblib')"
   ]
  },
  {
   "cell_type": "code",
   "execution_count": null,
   "metadata": {},
   "outputs": [],
   "source": []
  }
 ],
 "metadata": {
  "kernelspec": {
   "display_name": "Python 3",
   "language": "python",
   "name": "python3"
  },
  "language_info": {
   "codemirror_mode": {
    "name": "ipython",
    "version": 3
   },
   "file_extension": ".py",
   "mimetype": "text/x-python",
   "name": "python",
   "nbconvert_exporter": "python",
   "pygments_lexer": "ipython3",
   "version": "3.7.4"
  }
 },
 "nbformat": 4,
 "nbformat_minor": 4
}
