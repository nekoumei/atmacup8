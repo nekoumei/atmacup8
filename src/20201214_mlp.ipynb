{
 "cells": [
  {
   "cell_type": "code",
   "execution_count": 1,
   "metadata": {
    "ExecuteTime": {
     "end_time": "2020-12-15T08:58:09.703864Z",
     "start_time": "2020-12-15T08:58:08.630555Z"
    }
   },
   "outputs": [],
   "source": [
    "import numpy as np\n",
    "import pandas as pd\n",
    "import lightgbm as lgb\n",
    "from sklearn.model_selection import StratifiedKFold, GroupKFold\n",
    "from sklearn.metrics import average_precision_score, mean_squared_error, mean_squared_log_error\n",
    "import swifter\n",
    "from pytz import timezone\n",
    "import jpholiday\n",
    "from datetime import datetime\n",
    "import joblib\n",
    "import swifter\n",
    "\n",
    "pd.options.display.max_columns = 100\n",
    "\n",
    "from tqdm.notebook import tqdm\n",
    "\n",
    "import os\n",
    "from logzero import logger\n",
    "import numpy as np\n",
    "import pandas as pd\n",
    "import random\n",
    "import torch\n",
    "import torch.nn as nn\n",
    "import torch.nn.functional as F\n",
    "import torch.optim as optim\n",
    "import torchvision\n",
    "from torchvision import models, transforms\n",
    "from sklearn.metrics import accuracy_score, mean_squared_error\n",
    "from sklearn.model_selection import StratifiedKFold\n",
    "from sklearn.preprocessing import StandardScaler, LabelEncoder, QuantileTransformer\n",
    "\n",
    "from utils import StratifiedGroupKFold"
   ]
  },
  {
   "cell_type": "code",
   "execution_count": 2,
   "metadata": {
    "ExecuteTime": {
     "end_time": "2020-12-15T08:58:09.761470Z",
     "start_time": "2020-12-15T08:58:09.704941Z"
    }
   },
   "outputs": [],
   "source": [
    "train, test, groups = joblib.load('../output/features.joblib')"
   ]
  },
  {
   "cell_type": "code",
   "execution_count": 3,
   "metadata": {
    "ExecuteTime": {
     "end_time": "2020-12-15T08:58:09.784529Z",
     "start_time": "2020-12-15T08:58:09.762574Z"
    }
   },
   "outputs": [],
   "source": [
    "X_train = train.drop(['NA_Sales', 'EU_Sales', 'JP_Sales', 'Other_Sales', 'Global_Sales'], axis=1)\n",
    "#y_train = train['Global_Sales'].copy()\n",
    "y_train = np.log1p(train['Global_Sales'])\n",
    "X_test = test.drop(['NA_Sales', 'EU_Sales', 'JP_Sales', 'Other_Sales', 'Global_Sales'], axis=1).copy()"
   ]
  },
  {
   "cell_type": "code",
   "execution_count": 4,
   "metadata": {
    "ExecuteTime": {
     "end_time": "2020-12-15T08:58:09.789271Z",
     "start_time": "2020-12-15T08:58:09.785816Z"
    }
   },
   "outputs": [],
   "source": [
    "category_cols = X_train.columns[X_train.dtypes=='category']\n",
    "for col in category_cols:\n",
    "    X_train[col] = X_train[col].astype(object)\n",
    "    X_test[col] = X_test[col].astype(object)\n",
    "object_cols = X_train.columns[X_train.dtypes=='object']"
   ]
  },
  {
   "cell_type": "code",
   "execution_count": null,
   "metadata": {
    "ExecuteTime": {
     "end_time": "2020-12-13T06:07:43.580709Z",
     "start_time": "2020-12-13T06:07:43.571141Z"
    }
   },
   "outputs": [],
   "source": []
  },
  {
   "cell_type": "code",
   "execution_count": 5,
   "metadata": {
    "ExecuteTime": {
     "end_time": "2020-12-15T08:58:10.328787Z",
     "start_time": "2020-12-15T08:58:09.790178Z"
    },
    "scrolled": true
   },
   "outputs": [
    {
     "data": {
      "application/vnd.jupyter.widget-view+json": {
       "model_id": "c6628c36e2b8448ba69126ba4fe4be49",
       "version_major": 2,
       "version_minor": 0
      },
      "text/plain": [
       "HBox(children=(HTML(value=''), FloatProgress(value=0.0, max=9.0), HTML(value='')))"
      ]
     },
     "metadata": {},
     "output_type": "display_data"
    },
    {
     "data": {
      "application/vnd.jupyter.widget-view+json": {
       "model_id": "ca435a6a607743e5adef6f54bddb5257",
       "version_major": 2,
       "version_minor": 0
      },
      "text/plain": [
       "HBox(children=(HTML(value='Pandas Apply'), FloatProgress(value=0.0, max=7653.0), HTML(value='')))"
      ]
     },
     "metadata": {},
     "output_type": "display_data"
    },
    {
     "name": "stdout",
     "output_type": "stream",
     "text": [
      "\n"
     ]
    },
    {
     "data": {
      "application/vnd.jupyter.widget-view+json": {
       "model_id": "0f772a90320d4affaeed2f3725190d1c",
       "version_major": 2,
       "version_minor": 0
      },
      "text/plain": [
       "HBox(children=(HTML(value='Pandas Apply'), FloatProgress(value=0.0, max=8360.0), HTML(value='')))"
      ]
     },
     "metadata": {},
     "output_type": "display_data"
    },
    {
     "name": "stdout",
     "output_type": "stream",
     "text": [
      "\n"
     ]
    },
    {
     "data": {
      "application/vnd.jupyter.widget-view+json": {
       "model_id": "d30549e8798f42b69f5f3e1e73314fd0",
       "version_major": 2,
       "version_minor": 0
      },
      "text/plain": [
       "HBox(children=(HTML(value='Pandas Apply'), FloatProgress(value=0.0, max=7653.0), HTML(value='')))"
      ]
     },
     "metadata": {},
     "output_type": "display_data"
    },
    {
     "name": "stdout",
     "output_type": "stream",
     "text": [
      "\n"
     ]
    },
    {
     "data": {
      "application/vnd.jupyter.widget-view+json": {
       "model_id": "8817e380ab234fb4a32f077c11cce7ff",
       "version_major": 2,
       "version_minor": 0
      },
      "text/plain": [
       "HBox(children=(HTML(value='Pandas Apply'), FloatProgress(value=0.0, max=8360.0), HTML(value='')))"
      ]
     },
     "metadata": {},
     "output_type": "display_data"
    },
    {
     "name": "stdout",
     "output_type": "stream",
     "text": [
      "\n"
     ]
    },
    {
     "data": {
      "application/vnd.jupyter.widget-view+json": {
       "model_id": "6e164497ee2545d486ad1179caeb4770",
       "version_major": 2,
       "version_minor": 0
      },
      "text/plain": [
       "HBox(children=(HTML(value='Pandas Apply'), FloatProgress(value=0.0, max=7653.0), HTML(value='')))"
      ]
     },
     "metadata": {},
     "output_type": "display_data"
    },
    {
     "name": "stdout",
     "output_type": "stream",
     "text": [
      "\n"
     ]
    },
    {
     "data": {
      "application/vnd.jupyter.widget-view+json": {
       "model_id": "a7c9ebf8b6084252a8e4c2792ac7a91b",
       "version_major": 2,
       "version_minor": 0
      },
      "text/plain": [
       "HBox(children=(HTML(value='Pandas Apply'), FloatProgress(value=0.0, max=8360.0), HTML(value='')))"
      ]
     },
     "metadata": {},
     "output_type": "display_data"
    },
    {
     "name": "stdout",
     "output_type": "stream",
     "text": [
      "\n"
     ]
    },
    {
     "data": {
      "application/vnd.jupyter.widget-view+json": {
       "model_id": "01e5b681ba5e4581b03d7e52df5a706b",
       "version_major": 2,
       "version_minor": 0
      },
      "text/plain": [
       "HBox(children=(HTML(value='Pandas Apply'), FloatProgress(value=0.0, max=7653.0), HTML(value='')))"
      ]
     },
     "metadata": {},
     "output_type": "display_data"
    },
    {
     "name": "stdout",
     "output_type": "stream",
     "text": [
      "\n"
     ]
    },
    {
     "data": {
      "application/vnd.jupyter.widget-view+json": {
       "model_id": "8dee4b0e08024306b3f4a5b71e06c5d8",
       "version_major": 2,
       "version_minor": 0
      },
      "text/plain": [
       "HBox(children=(HTML(value='Pandas Apply'), FloatProgress(value=0.0, max=8360.0), HTML(value='')))"
      ]
     },
     "metadata": {},
     "output_type": "display_data"
    },
    {
     "name": "stdout",
     "output_type": "stream",
     "text": [
      "\n"
     ]
    },
    {
     "data": {
      "application/vnd.jupyter.widget-view+json": {
       "model_id": "0aad471528f441d69ab5dc6182c3e2f0",
       "version_major": 2,
       "version_minor": 0
      },
      "text/plain": [
       "HBox(children=(HTML(value='Pandas Apply'), FloatProgress(value=0.0, max=7653.0), HTML(value='')))"
      ]
     },
     "metadata": {},
     "output_type": "display_data"
    },
    {
     "name": "stdout",
     "output_type": "stream",
     "text": [
      "\n"
     ]
    },
    {
     "data": {
      "application/vnd.jupyter.widget-view+json": {
       "model_id": "f61064115d014f779ce6a554ea3ebd45",
       "version_major": 2,
       "version_minor": 0
      },
      "text/plain": [
       "HBox(children=(HTML(value='Pandas Apply'), FloatProgress(value=0.0, max=8360.0), HTML(value='')))"
      ]
     },
     "metadata": {},
     "output_type": "display_data"
    },
    {
     "name": "stdout",
     "output_type": "stream",
     "text": [
      "\n"
     ]
    },
    {
     "data": {
      "application/vnd.jupyter.widget-view+json": {
       "model_id": "68ade96644bd4780928a12b304dfb65b",
       "version_major": 2,
       "version_minor": 0
      },
      "text/plain": [
       "HBox(children=(HTML(value='Pandas Apply'), FloatProgress(value=0.0, max=7653.0), HTML(value='')))"
      ]
     },
     "metadata": {},
     "output_type": "display_data"
    },
    {
     "name": "stdout",
     "output_type": "stream",
     "text": [
      "\n"
     ]
    },
    {
     "data": {
      "application/vnd.jupyter.widget-view+json": {
       "model_id": "3b652c29c71a458997ee686d36ee0b52",
       "version_major": 2,
       "version_minor": 0
      },
      "text/plain": [
       "HBox(children=(HTML(value='Pandas Apply'), FloatProgress(value=0.0, max=8360.0), HTML(value='')))"
      ]
     },
     "metadata": {},
     "output_type": "display_data"
    },
    {
     "name": "stdout",
     "output_type": "stream",
     "text": [
      "\n"
     ]
    },
    {
     "data": {
      "application/vnd.jupyter.widget-view+json": {
       "model_id": "47b94713b2784e7882d1f5cb7dffd5c9",
       "version_major": 2,
       "version_minor": 0
      },
      "text/plain": [
       "HBox(children=(HTML(value='Pandas Apply'), FloatProgress(value=0.0, max=7653.0), HTML(value='')))"
      ]
     },
     "metadata": {},
     "output_type": "display_data"
    },
    {
     "name": "stdout",
     "output_type": "stream",
     "text": [
      "\n"
     ]
    },
    {
     "data": {
      "application/vnd.jupyter.widget-view+json": {
       "model_id": "b417b8bdc8b147cda0f2b4c6d93252dd",
       "version_major": 2,
       "version_minor": 0
      },
      "text/plain": [
       "HBox(children=(HTML(value='Pandas Apply'), FloatProgress(value=0.0, max=8360.0), HTML(value='')))"
      ]
     },
     "metadata": {},
     "output_type": "display_data"
    },
    {
     "name": "stdout",
     "output_type": "stream",
     "text": [
      "\n"
     ]
    },
    {
     "data": {
      "application/vnd.jupyter.widget-view+json": {
       "model_id": "75c29a6ee44e43bcb9fe0047a111b6d2",
       "version_major": 2,
       "version_minor": 0
      },
      "text/plain": [
       "HBox(children=(HTML(value='Pandas Apply'), FloatProgress(value=0.0, max=7653.0), HTML(value='')))"
      ]
     },
     "metadata": {},
     "output_type": "display_data"
    },
    {
     "name": "stdout",
     "output_type": "stream",
     "text": [
      "\n"
     ]
    },
    {
     "data": {
      "application/vnd.jupyter.widget-view+json": {
       "model_id": "83ea8d94080a408695d50b71d85ed40c",
       "version_major": 2,
       "version_minor": 0
      },
      "text/plain": [
       "HBox(children=(HTML(value='Pandas Apply'), FloatProgress(value=0.0, max=8360.0), HTML(value='')))"
      ]
     },
     "metadata": {},
     "output_type": "display_data"
    },
    {
     "name": "stdout",
     "output_type": "stream",
     "text": [
      "\n"
     ]
    },
    {
     "data": {
      "application/vnd.jupyter.widget-view+json": {
       "model_id": "47c5921ba7d7485c86b21342e95e34bb",
       "version_major": 2,
       "version_minor": 0
      },
      "text/plain": [
       "HBox(children=(HTML(value='Pandas Apply'), FloatProgress(value=0.0, max=7653.0), HTML(value='')))"
      ]
     },
     "metadata": {},
     "output_type": "display_data"
    },
    {
     "name": "stdout",
     "output_type": "stream",
     "text": [
      "\n"
     ]
    },
    {
     "data": {
      "application/vnd.jupyter.widget-view+json": {
       "model_id": "feb3d5525f9c443da2220e1b2a151753",
       "version_major": 2,
       "version_minor": 0
      },
      "text/plain": [
       "HBox(children=(HTML(value='Pandas Apply'), FloatProgress(value=0.0, max=8360.0), HTML(value='')))"
      ]
     },
     "metadata": {},
     "output_type": "display_data"
    },
    {
     "name": "stdout",
     "output_type": "stream",
     "text": [
      "\n",
      "\n"
     ]
    }
   ],
   "source": [
    "for col in tqdm(object_cols):\n",
    "    X_train[col] = X_train[col].astype(object).astype(str)\n",
    "    X_test[col] = X_test[col].astype(object).astype(str)\n",
    "    le = LabelEncoder()\n",
    "    le.fit(X_train[col])\n",
    "    le_dict = dict(zip(le.classes_, le.transform(le.classes_)))\n",
    "    X_train[col] = X_train[col].swifter.apply(lambda x: le_dict.get(x, np.nan))\n",
    "    X_test[col] = X_test[col].swifter.apply(lambda x: le_dict.get(x, np.nan))"
   ]
  },
  {
   "cell_type": "code",
   "execution_count": 6,
   "metadata": {
    "ExecuteTime": {
     "end_time": "2020-12-15T08:58:10.388539Z",
     "start_time": "2020-12-15T08:58:10.329726Z"
    }
   },
   "outputs": [],
   "source": [
    "class NetRegressor(nn.Module):\n",
    "    def __init__(self, in_features, out_features, bias=True, p=0.5):\n",
    "        super(NetRegressor, self).__init__()\n",
    "        \n",
    "        out1 = 128 # 128\n",
    "        out2 = 64 # 64\n",
    "        self.regressor = nn.Sequential(\n",
    "            nn.Linear(in_features, out1),\n",
    "            nn.BatchNorm1d(out1),\n",
    "            nn.ReLU(),\n",
    "            nn.Dropout(0.3),\n",
    "            nn.Linear(out1, out2),\n",
    "            nn.BatchNorm1d(out2),\n",
    "            nn.ReLU(),\n",
    "            nn.Linear(out2, 1)\n",
    "        )\n",
    "    \n",
    "    def forward(self, x):\n",
    "        output = self.regressor(x)\n",
    "        return output\n",
    "\n",
    "class EarlyStopping:\n",
    "    \"\"\"\n",
    "    Early stops the training if validation loss doesn't improve after a given patience.\n",
    "    based on: https://github.com/Bjarten/early-stopping-pytorch\n",
    "    \"\"\"\n",
    "    def __init__(self, patience=7, verbose=False, delta=0):\n",
    "        \"\"\"\n",
    "        Args:\n",
    "            patience (int): How long to wait after last time validation loss improved.\n",
    "                            Default: 7\n",
    "            verbose (bool): If True, prints a message for each validation loss improvement. \n",
    "                            Default: False\n",
    "            delta (float): Minimum change in the monitored quantity to qualify as an improvement.\n",
    "                            Default: 0\n",
    "        \"\"\"\n",
    "        self.patience = patience\n",
    "        self.verbose = verbose\n",
    "        self.counter = 0\n",
    "        self.best_score = None\n",
    "        self.early_stop = False\n",
    "        self.val_loss_min = np.Inf\n",
    "        self.delta = delta\n",
    "\n",
    "    def __call__(self, val_loss, model):\n",
    "\n",
    "        score = -val_loss\n",
    "\n",
    "        if self.best_score is None:\n",
    "            self.best_score = score\n",
    "            self.save_checkpoint(val_loss, model)\n",
    "        elif score < self.best_score + self.delta:\n",
    "            self.counter += 1\n",
    "            logger.info(f'EarlyStopping counter: {self.counter} out of {self.patience}')\n",
    "            if self.counter >= self.patience:\n",
    "                self.early_stop = True\n",
    "        else:\n",
    "            self.best_score = score\n",
    "            self.save_checkpoint(val_loss, model)\n",
    "            self.counter = 0\n",
    "\n",
    "    def save_checkpoint(self, val_loss, model):\n",
    "        '''Saves model when validation loss decrease.'''\n",
    "        if self.verbose:\n",
    "            logger.info(f'Validation loss decreased ({self.val_loss_min:.6f} --> {val_loss:.6f}).  Saving model ...')\n",
    "        torch.save(model.state_dict(), 'checkpoint.pt')\n",
    "        self.val_loss_min = val_loss\n",
    "\n",
    "        \n",
    "class MLPRegressor:\n",
    "    def __init__(self, net, X_train, y_train, X_valid, y_valid, X_test,\n",
    "                 batch_size=32, num_labels=2, num_epochs=100, bias=True):\n",
    "        super(MLPRegressor, self).__init__()\n",
    "        self.net = net\n",
    "        self.X_train = X_train.values\n",
    "        self.y_train = y_train.values\n",
    "        self.X_valid = X_valid.values\n",
    "        self.y_valid = y_valid.values\n",
    "        self.X_test = X_test.values\n",
    "        self.batch_size = batch_size\n",
    "        self.num_labels = num_labels\n",
    "        in_features = X_train.shape[1]\n",
    "        out_features = num_labels\n",
    "        self.num_epochs = num_epochs\n",
    "\n",
    "        \n",
    "        # create dataloaders\n",
    "        self.train_dataloader = self.train_dataloader()\n",
    "        self.valid_dataloader = self.valid_dataloader()\n",
    "        self.test_dataloader = self.test_dataloader()\n",
    "        self.dataloaders_dict = {'train': self.train_dataloader, 'valid': self.valid_dataloader}\n",
    "    \n",
    "    def criterion(self):\n",
    "        return  nn.MSELoss()\n",
    "\n",
    "    def optimizer(self):\n",
    "        return optim.Adam(params=self.net.parameters(), lr=1e-3)\n",
    "    \n",
    "    def scheduler(self, optimizer):\n",
    "        return torch.optim.lr_scheduler.CosineAnnealingLR(optimizer, T_max=30, eta_min=1e-6)\n",
    "    \n",
    "    def train_dataloader(self):\n",
    "        train = torch.utils.data.TensorDataset(\n",
    "            torch.tensor(self.X_train, dtype=torch.float32),\n",
    "            torch.tensor(self.y_train.reshape((len(self.y_train), 1)))\n",
    "        )    \n",
    "        train_loader = torch.utils.data.DataLoader(train, batch_size=self.batch_size, shuffle=True,num_workers=0, pin_memory=True)\n",
    "\n",
    "        return train_loader\n",
    "\n",
    "    def valid_dataloader(self):\n",
    "        valid = torch.utils.data.TensorDataset(\n",
    "            torch.tensor(self.X_valid, dtype=torch.float32),\n",
    "            torch.tensor(self.y_valid.reshape((len(self.y_valid), 1)))\n",
    "        )    \n",
    "        valid_loader = torch.utils.data.DataLoader(valid,\n",
    "                                                   #batch_size=self.batch_size,\n",
    "                                                   batch_size=self.batch_size * 2,\n",
    "                                                   shuffle=False, num_workers=0, pin_memory=True)\n",
    "        \n",
    "        return valid_loader\n",
    "\n",
    "    def test_dataloader(self):\n",
    "        test = torch.utils.data.TensorDataset(\n",
    "            torch.tensor(self.X_test, dtype=torch.float32)\n",
    "        )    \n",
    "        test_loader = torch.utils.data.DataLoader(test, batch_size=self.batch_size, shuffle=False, num_workers=0, pin_memory=True)\n",
    "\n",
    "        return test_loader\n",
    "\n",
    "    def fit(self, patience=10):\n",
    "        device = torch.device('cuda:0' if torch.cuda.is_available() else 'cpu')\n",
    "        print(f'使用デバイス: {device}')\n",
    "        self.net.to(device)\n",
    "        \n",
    "        metrics = {'loss': [], 'RMSE': []}\n",
    "        early_stopping = EarlyStopping(patience=patience, verbose=True)\n",
    "        optimizer = self.optimizer()\n",
    "        criterion = self.criterion()\n",
    "        scheduler = self.scheduler(optimizer)\n",
    "\n",
    "        for epoch in range(self.num_epochs):\n",
    "            if (epoch+1) % 10 == 0:\n",
    "                print(f'Epoch {epoch+1}/{self.num_epochs}')\n",
    "                print('-'*10)\n",
    "\n",
    "\n",
    "            # epochごとの学習と検証のループ\n",
    "            for phase in ['train', 'valid']:\n",
    "                if phase == 'train':\n",
    "                    self.net.train()\n",
    "                else:\n",
    "                    self.net.eval()\n",
    "\n",
    "                epoch_loss = 0.0\n",
    "                valid_trues = np.array([])\n",
    "                valid_preds = []\n",
    "\n",
    "                # epoch=0の訓練は省略\n",
    "                if (epoch==0) and (phase=='train'):\n",
    "                    continue\n",
    "\n",
    "                # dataloaderからミニバッチを取り出すループ\n",
    "                for inputs, labels in self.dataloaders_dict[phase]:\n",
    "                    inputs = inputs.to(device)\n",
    "                    labels = labels.to(device)\n",
    "                    lables = labels.long()\n",
    "                    # optimの初期化\n",
    "                    optimizer.zero_grad()\n",
    "\n",
    "                    # forward\n",
    "                    with torch.set_grad_enabled(phase=='train'):\n",
    "                        outputs = self.net(inputs.float())\n",
    "                        #outputs = outputs.reshape(-1)\n",
    "                        self.outputs = outputs\n",
    "                        self.labels = labels\n",
    "                        loss = criterion(outputs.double(), labels.double()) # 損失の計算\n",
    "                        preds = outputs.cpu().detach().numpy()\n",
    "\n",
    "                        # バックプロパゲーション\n",
    "                        if phase=='train':\n",
    "                            loss.backward()\n",
    "                            optimizer.step()\n",
    "                            \n",
    "\n",
    "                        # 結果の計算\n",
    "                        epoch_loss += loss.item() * inputs.size(0)\n",
    "                        # validのpredを保存\n",
    "                        valid_trues = np.concatenate((valid_trues, labels.reshape(-1).cpu().detach().numpy()))\n",
    "                        valid_preds.append(preds)\n",
    "\n",
    "                # epochごとのlossとaccを表示\n",
    "                valid_preds = np.concatenate(valid_preds).reshape(-1, self.num_labels)\n",
    "                epoch_loss = epoch_loss / len(self.dataloaders_dict[phase].dataset)\n",
    "                self.valid_trues = valid_trues\n",
    "                self.valid_preds = valid_preds\n",
    "                epoch_rmse = np.sqrt(mean_squared_error(valid_trues, valid_preds))\n",
    "\n",
    "                if (epoch+1) % 1 == 0:\n",
    "                    logger.info(f'{phase} Loss: {epoch_loss:.4f} RMSE: {epoch_rmse:.4f}')\n",
    "                metrics['loss'].append(epoch_loss)\n",
    "                metrics['RMSE'].append(epoch_rmse)\n",
    "                \n",
    "                if phase == 'train':\n",
    "                    scheduler.step()\n",
    "                if phase == 'valid':\n",
    "                    early_stopping(epoch_loss, self.net)\n",
    "        \n",
    "                if early_stopping.early_stop:\n",
    "                    logger.info(\"Early stopping\")\n",
    "                    # load the last checkpoint with the best model\n",
    "                    self.net.load_state_dict(torch.load('checkpoint.pt'))\n",
    "                    self.metrics = metrics\n",
    "                    return self.net\n",
    "\n",
    "        self.metrics = metrics\n",
    "        return self.net\n",
    "\n",
    "    def predict(self, use_dataloader='valid'):\n",
    "        if use_dataloader == 'valid':\n",
    "            dataloader = self.valid_dataloader\n",
    "        elif use_dataloader == 'test':\n",
    "            dataloader = self.test_dataloader\n",
    "        else:\n",
    "            return 'use_dataloader is only \"valid\" or \"test\"'\n",
    "        \n",
    "        self.net.eval()\n",
    "        device = torch.device('cuda:0' if torch.cuda.is_available() else 'cpu')\n",
    "        y_pred = []\n",
    "        for batch in dataloader:\n",
    "            inputs = batch[0].to(device)\n",
    "            outputs = self.net(inputs.float())\n",
    "            preds = outputs.cpu().detach().numpy()\n",
    "            y_pred.append(preds)\n",
    "                \n",
    "        y_pred = np.concatenate(y_pred).reshape(-1, self.num_labels)\n",
    "        return y_pred\n"
   ]
  },
  {
   "cell_type": "code",
   "execution_count": 7,
   "metadata": {
    "ExecuteTime": {
     "end_time": "2020-12-15T08:58:10.400750Z",
     "start_time": "2020-12-15T08:58:10.389525Z"
    }
   },
   "outputs": [
    {
     "name": "stderr",
     "output_type": "stream",
     "text": [
      "[I 201215 17:58:10 <ipython-input-7-54b34ea31ce8>:10] Set random seeds\n"
     ]
    }
   ],
   "source": [
    "seed = 7188\n",
    "\n",
    "random.seed(seed)\n",
    "os.environ['PYTHONHASHSEED'] = str(seed)\n",
    "#os.environ['CUBLAS_WORKSPACE_CONFIG'] = ':4096:8'\n",
    "np.random.seed(seed)\n",
    "torch.manual_seed(seed)\n",
    "torch.cuda.manual_seed(seed)\n",
    "torch.backends.cudnn.deterministic = True\n",
    "logger.info('Set random seeds')"
   ]
  },
  {
   "cell_type": "code",
   "execution_count": 8,
   "metadata": {
    "ExecuteTime": {
     "end_time": "2020-12-15T08:58:10.651382Z",
     "start_time": "2020-12-15T08:58:10.401617Z"
    }
   },
   "outputs": [
    {
     "name": "stderr",
     "output_type": "stream",
     "text": [
      "[I 201215 17:58:10 <ipython-input-8-f615581bf5a2>:7] X_train shapes: (7653, 639)\n",
      "[I 201215 17:58:10 <ipython-input-8-f615581bf5a2>:8] X_test shapes: (8360, 639)\n"
     ]
    }
   ],
   "source": [
    "# scaling\n",
    "X = pd.concat([X_train, X_test], axis=0, ignore_index=True)\n",
    "scaler = StandardScaler()\n",
    "X = scaler.fit_transform(X.fillna(-1))\n",
    "X_train = pd.DataFrame(X[:X_train.shape[0], :], columns=X_train.columns)\n",
    "X_test = pd.DataFrame(X[X_train.shape[0]:, :], columns=X_train.columns)\n",
    "logger.info(f'X_train shapes: {X_train.shape}')\n",
    "logger.info(f'X_test shapes: {X_test.shape}')"
   ]
  },
  {
   "cell_type": "code",
   "execution_count": 9,
   "metadata": {
    "ExecuteTime": {
     "end_time": "2020-12-15T08:58:10.654555Z",
     "start_time": "2020-12-15T08:58:10.652991Z"
    }
   },
   "outputs": [],
   "source": [
    "#RankGauss\n",
    "#transformer = QuantileTransformer(n_quantiles=1000, random_state=0, output_distribution='normal')\n",
    "#transformer.fit(X_train.fillna(-1))\n",
    "#\n",
    "#X_train.iloc[:, :] = transformer.transform(X_train.fillna(-1))\n",
    "#X_test.iloc[:, :] = transformer.transform(X_test.fillna(-1))"
   ]
  },
  {
   "cell_type": "code",
   "execution_count": 10,
   "metadata": {
    "ExecuteTime": {
     "end_time": "2020-12-15T08:58:45.103274Z",
     "start_time": "2020-12-15T08:58:10.655495Z"
    }
   },
   "outputs": [
    {
     "data": {
      "application/vnd.jupyter.widget-view+json": {
       "model_id": "06c0507373fc4b0f90dad4bffdefc8b2",
       "version_major": 2,
       "version_minor": 0
      },
      "text/plain": [
       "HBox(children=(HTML(value=''), FloatProgress(value=0.0, max=1.0), HTML(value='')))"
      ]
     },
     "metadata": {},
     "output_type": "display_data"
    },
    {
     "name": "stdout",
     "output_type": "stream",
     "text": [
      "Start 1 fold\n",
      "--------------------\n",
      "使用デバイス: cuda:0\n"
     ]
    },
    {
     "name": "stderr",
     "output_type": "stream",
     "text": [
      "[I 201215 17:58:17 <ipython-input-6-edd6cd26e1c9>:200] valid Loss: 9.8446 RMSE: 3.1376\n",
      "[I 201215 17:58:17 <ipython-input-6-edd6cd26e1c9>:65] Validation loss decreased (inf --> 9.844596).  Saving model ...\n",
      "[I 201215 17:58:17 <ipython-input-6-edd6cd26e1c9>:200] train Loss: 8.8256 RMSE: 2.9708\n",
      "[I 201215 17:58:17 <ipython-input-6-edd6cd26e1c9>:200] valid Loss: 6.4050 RMSE: 2.5308\n",
      "[I 201215 17:58:17 <ipython-input-6-edd6cd26e1c9>:65] Validation loss decreased (9.844596 --> 6.405044).  Saving model ...\n",
      "[I 201215 17:58:17 <ipython-input-6-edd6cd26e1c9>:200] train Loss: 6.0253 RMSE: 2.4546\n",
      "[I 201215 17:58:17 <ipython-input-6-edd6cd26e1c9>:200] valid Loss: 4.0537 RMSE: 2.0134\n",
      "[I 201215 17:58:17 <ipython-input-6-edd6cd26e1c9>:65] Validation loss decreased (6.405044 --> 4.053730).  Saving model ...\n",
      "[I 201215 17:58:17 <ipython-input-6-edd6cd26e1c9>:200] train Loss: 4.2918 RMSE: 2.0717\n",
      "[I 201215 17:58:17 <ipython-input-6-edd6cd26e1c9>:200] valid Loss: 2.7406 RMSE: 1.6555\n",
      "[I 201215 17:58:17 <ipython-input-6-edd6cd26e1c9>:65] Validation loss decreased (4.053730 --> 2.740641).  Saving model ...\n",
      "[I 201215 17:58:17 <ipython-input-6-edd6cd26e1c9>:200] train Loss: 3.1532 RMSE: 1.7757\n",
      "[I 201215 17:58:17 <ipython-input-6-edd6cd26e1c9>:200] valid Loss: 2.1463 RMSE: 1.4650\n",
      "[I 201215 17:58:17 <ipython-input-6-edd6cd26e1c9>:65] Validation loss decreased (2.740641 --> 2.146333).  Saving model ...\n",
      "[I 201215 17:58:17 <ipython-input-6-edd6cd26e1c9>:200] train Loss: 2.3914 RMSE: 1.5464\n",
      "[I 201215 17:58:17 <ipython-input-6-edd6cd26e1c9>:200] valid Loss: 1.7383 RMSE: 1.3184\n",
      "[I 201215 17:58:17 <ipython-input-6-edd6cd26e1c9>:65] Validation loss decreased (2.146333 --> 1.738267).  Saving model ...\n",
      "[I 201215 17:58:17 <ipython-input-6-edd6cd26e1c9>:200] train Loss: 1.8410 RMSE: 1.3568\n",
      "[I 201215 17:58:17 <ipython-input-6-edd6cd26e1c9>:200] valid Loss: 1.4321 RMSE: 1.1967\n",
      "[I 201215 17:58:17 <ipython-input-6-edd6cd26e1c9>:65] Validation loss decreased (1.738267 --> 1.432139).  Saving model ...\n",
      "[I 201215 17:58:17 <ipython-input-6-edd6cd26e1c9>:200] train Loss: 1.4672 RMSE: 1.2113\n",
      "[I 201215 17:58:17 <ipython-input-6-edd6cd26e1c9>:200] valid Loss: 1.3200 RMSE: 1.1489\n",
      "[I 201215 17:58:17 <ipython-input-6-edd6cd26e1c9>:65] Validation loss decreased (1.432139 --> 1.320020).  Saving model ...\n",
      "[I 201215 17:58:18 <ipython-input-6-edd6cd26e1c9>:200] train Loss: 1.2030 RMSE: 1.0968\n",
      "[I 201215 17:58:18 <ipython-input-6-edd6cd26e1c9>:200] valid Loss: 1.1266 RMSE: 1.0614\n",
      "[I 201215 17:58:18 <ipython-input-6-edd6cd26e1c9>:65] Validation loss decreased (1.320020 --> 1.126617).  Saving model ...\n",
      "[I 201215 17:58:18 <ipython-input-6-edd6cd26e1c9>:200] train Loss: 1.0593 RMSE: 1.0292\n",
      "[I 201215 17:58:18 <ipython-input-6-edd6cd26e1c9>:200] valid Loss: 1.0307 RMSE: 1.0152\n",
      "[I 201215 17:58:18 <ipython-input-6-edd6cd26e1c9>:65] Validation loss decreased (1.126617 --> 1.030722).  Saving model ...\n",
      "[I 201215 17:58:18 <ipython-input-6-edd6cd26e1c9>:200] train Loss: 0.9435 RMSE: 0.9713\n",
      "[I 201215 17:58:18 <ipython-input-6-edd6cd26e1c9>:200] valid Loss: 1.0157 RMSE: 1.0078\n",
      "[I 201215 17:58:18 <ipython-input-6-edd6cd26e1c9>:65] Validation loss decreased (1.030722 --> 1.015702).  Saving model ...\n"
     ]
    },
    {
     "name": "stdout",
     "output_type": "stream",
     "text": [
      "Epoch 10/1000\n",
      "----------\n"
     ]
    },
    {
     "name": "stderr",
     "output_type": "stream",
     "text": [
      "[I 201215 17:58:18 <ipython-input-6-edd6cd26e1c9>:200] train Loss: 0.8695 RMSE: 0.9325\n",
      "[I 201215 17:58:18 <ipython-input-6-edd6cd26e1c9>:200] valid Loss: 0.9060 RMSE: 0.9519\n",
      "[I 201215 17:58:18 <ipython-input-6-edd6cd26e1c9>:65] Validation loss decreased (1.015702 --> 0.906037).  Saving model ...\n",
      "[I 201215 17:58:18 <ipython-input-6-edd6cd26e1c9>:200] train Loss: 0.8356 RMSE: 0.9141\n",
      "[I 201215 17:58:18 <ipython-input-6-edd6cd26e1c9>:200] valid Loss: 0.8786 RMSE: 0.9374\n",
      "[I 201215 17:58:18 <ipython-input-6-edd6cd26e1c9>:65] Validation loss decreased (0.906037 --> 0.878637).  Saving model ...\n",
      "[I 201215 17:58:18 <ipython-input-6-edd6cd26e1c9>:200] train Loss: 0.8002 RMSE: 0.8946\n",
      "[I 201215 17:58:18 <ipython-input-6-edd6cd26e1c9>:200] valid Loss: 0.8965 RMSE: 0.9468\n",
      "[I 201215 17:58:18 <ipython-input-6-edd6cd26e1c9>:54] EarlyStopping counter: 1 out of 10\n",
      "[I 201215 17:58:18 <ipython-input-6-edd6cd26e1c9>:200] train Loss: 0.7809 RMSE: 0.8837\n",
      "[I 201215 17:58:18 <ipython-input-6-edd6cd26e1c9>:200] valid Loss: 0.8616 RMSE: 0.9282\n",
      "[I 201215 17:58:18 <ipython-input-6-edd6cd26e1c9>:65] Validation loss decreased (0.878637 --> 0.861583).  Saving model ...\n",
      "[I 201215 17:58:18 <ipython-input-6-edd6cd26e1c9>:200] train Loss: 0.7630 RMSE: 0.8735\n",
      "[I 201215 17:58:18 <ipython-input-6-edd6cd26e1c9>:200] valid Loss: 0.8622 RMSE: 0.9286\n",
      "[I 201215 17:58:18 <ipython-input-6-edd6cd26e1c9>:54] EarlyStopping counter: 1 out of 10\n",
      "[I 201215 17:58:18 <ipython-input-6-edd6cd26e1c9>:200] train Loss: 0.7388 RMSE: 0.8595\n",
      "[I 201215 17:58:18 <ipython-input-6-edd6cd26e1c9>:200] valid Loss: 0.8437 RMSE: 0.9186\n",
      "[I 201215 17:58:18 <ipython-input-6-edd6cd26e1c9>:65] Validation loss decreased (0.861583 --> 0.843740).  Saving model ...\n",
      "[I 201215 17:58:18 <ipython-input-6-edd6cd26e1c9>:200] train Loss: 0.7371 RMSE: 0.8585\n",
      "[I 201215 17:58:18 <ipython-input-6-edd6cd26e1c9>:200] valid Loss: 0.8630 RMSE: 0.9290\n",
      "[I 201215 17:58:18 <ipython-input-6-edd6cd26e1c9>:54] EarlyStopping counter: 1 out of 10\n",
      "[I 201215 17:58:19 <ipython-input-6-edd6cd26e1c9>:200] train Loss: 0.7227 RMSE: 0.8501\n",
      "[I 201215 17:58:19 <ipython-input-6-edd6cd26e1c9>:200] valid Loss: 0.8497 RMSE: 0.9218\n",
      "[I 201215 17:58:19 <ipython-input-6-edd6cd26e1c9>:54] EarlyStopping counter: 2 out of 10\n",
      "[I 201215 17:58:19 <ipython-input-6-edd6cd26e1c9>:200] train Loss: 0.7131 RMSE: 0.8445\n",
      "[I 201215 17:58:19 <ipython-input-6-edd6cd26e1c9>:200] valid Loss: 0.8328 RMSE: 0.9126\n",
      "[I 201215 17:58:19 <ipython-input-6-edd6cd26e1c9>:65] Validation loss decreased (0.843740 --> 0.832778).  Saving model ...\n",
      "[I 201215 17:58:19 <ipython-input-6-edd6cd26e1c9>:200] train Loss: 0.6983 RMSE: 0.8356\n",
      "[I 201215 17:58:19 <ipython-input-6-edd6cd26e1c9>:200] valid Loss: 0.8255 RMSE: 0.9086\n",
      "[I 201215 17:58:19 <ipython-input-6-edd6cd26e1c9>:65] Validation loss decreased (0.832778 --> 0.825511).  Saving model ...\n"
     ]
    },
    {
     "name": "stdout",
     "output_type": "stream",
     "text": [
      "Epoch 20/1000\n",
      "----------\n"
     ]
    },
    {
     "name": "stderr",
     "output_type": "stream",
     "text": [
      "[I 201215 17:58:19 <ipython-input-6-edd6cd26e1c9>:200] train Loss: 0.6886 RMSE: 0.8298\n",
      "[I 201215 17:58:19 <ipython-input-6-edd6cd26e1c9>:200] valid Loss: 0.8340 RMSE: 0.9132\n",
      "[I 201215 17:58:19 <ipython-input-6-edd6cd26e1c9>:54] EarlyStopping counter: 1 out of 10\n",
      "[I 201215 17:58:19 <ipython-input-6-edd6cd26e1c9>:200] train Loss: 0.6831 RMSE: 0.8265\n",
      "[I 201215 17:58:19 <ipython-input-6-edd6cd26e1c9>:200] valid Loss: 0.8237 RMSE: 0.9076\n",
      "[I 201215 17:58:19 <ipython-input-6-edd6cd26e1c9>:65] Validation loss decreased (0.825511 --> 0.823689).  Saving model ...\n",
      "[I 201215 17:58:19 <ipython-input-6-edd6cd26e1c9>:200] train Loss: 0.6665 RMSE: 0.8164\n",
      "[I 201215 17:58:19 <ipython-input-6-edd6cd26e1c9>:200] valid Loss: 0.8247 RMSE: 0.9081\n",
      "[I 201215 17:58:19 <ipython-input-6-edd6cd26e1c9>:54] EarlyStopping counter: 1 out of 10\n",
      "[I 201215 17:58:19 <ipython-input-6-edd6cd26e1c9>:200] train Loss: 0.6665 RMSE: 0.8164\n",
      "[I 201215 17:58:19 <ipython-input-6-edd6cd26e1c9>:200] valid Loss: 0.8195 RMSE: 0.9052\n",
      "[I 201215 17:58:19 <ipython-input-6-edd6cd26e1c9>:65] Validation loss decreased (0.823689 --> 0.819463).  Saving model ...\n",
      "[I 201215 17:58:19 <ipython-input-6-edd6cd26e1c9>:200] train Loss: 0.6660 RMSE: 0.8161\n",
      "[I 201215 17:58:19 <ipython-input-6-edd6cd26e1c9>:200] valid Loss: 0.8250 RMSE: 0.9083\n",
      "[I 201215 17:58:19 <ipython-input-6-edd6cd26e1c9>:54] EarlyStopping counter: 1 out of 10\n",
      "[I 201215 17:58:19 <ipython-input-6-edd6cd26e1c9>:200] train Loss: 0.6642 RMSE: 0.8150\n",
      "[I 201215 17:58:19 <ipython-input-6-edd6cd26e1c9>:200] valid Loss: 0.8215 RMSE: 0.9064\n",
      "[I 201215 17:58:19 <ipython-input-6-edd6cd26e1c9>:54] EarlyStopping counter: 2 out of 10\n",
      "[I 201215 17:58:19 <ipython-input-6-edd6cd26e1c9>:200] train Loss: 0.6573 RMSE: 0.8107\n",
      "[I 201215 17:58:19 <ipython-input-6-edd6cd26e1c9>:200] valid Loss: 0.8227 RMSE: 0.9070\n",
      "[I 201215 17:58:19 <ipython-input-6-edd6cd26e1c9>:54] EarlyStopping counter: 3 out of 10\n",
      "[I 201215 17:58:19 <ipython-input-6-edd6cd26e1c9>:200] train Loss: 0.6629 RMSE: 0.8142\n",
      "[I 201215 17:58:19 <ipython-input-6-edd6cd26e1c9>:200] valid Loss: 0.8245 RMSE: 0.9080\n",
      "[I 201215 17:58:19 <ipython-input-6-edd6cd26e1c9>:54] EarlyStopping counter: 4 out of 10\n",
      "[I 201215 17:58:20 <ipython-input-6-edd6cd26e1c9>:200] train Loss: 0.6592 RMSE: 0.8119\n",
      "[I 201215 17:58:20 <ipython-input-6-edd6cd26e1c9>:200] valid Loss: 0.8246 RMSE: 0.9080\n",
      "[I 201215 17:58:20 <ipython-input-6-edd6cd26e1c9>:54] EarlyStopping counter: 5 out of 10\n"
     ]
    },
    {
     "name": "stdout",
     "output_type": "stream",
     "text": [
      "Epoch 30/1000\n",
      "----------\n"
     ]
    },
    {
     "name": "stderr",
     "output_type": "stream",
     "text": [
      "[I 201215 17:58:20 <ipython-input-6-edd6cd26e1c9>:200] train Loss: 0.6428 RMSE: 0.8018\n",
      "[I 201215 17:58:20 <ipython-input-6-edd6cd26e1c9>:200] valid Loss: 0.8227 RMSE: 0.9070\n",
      "[I 201215 17:58:20 <ipython-input-6-edd6cd26e1c9>:54] EarlyStopping counter: 6 out of 10\n",
      "[I 201215 17:58:20 <ipython-input-6-edd6cd26e1c9>:200] train Loss: 0.6524 RMSE: 0.8077\n",
      "[I 201215 17:58:20 <ipython-input-6-edd6cd26e1c9>:200] valid Loss: 0.8203 RMSE: 0.9057\n",
      "[I 201215 17:58:20 <ipython-input-6-edd6cd26e1c9>:54] EarlyStopping counter: 7 out of 10\n",
      "[I 201215 17:58:20 <ipython-input-6-edd6cd26e1c9>:200] train Loss: 0.6608 RMSE: 0.8129\n",
      "[I 201215 17:58:20 <ipython-input-6-edd6cd26e1c9>:200] valid Loss: 0.8219 RMSE: 0.9066\n",
      "[I 201215 17:58:20 <ipython-input-6-edd6cd26e1c9>:54] EarlyStopping counter: 8 out of 10\n",
      "[I 201215 17:58:20 <ipython-input-6-edd6cd26e1c9>:200] train Loss: 0.6538 RMSE: 0.8086\n",
      "[I 201215 17:58:20 <ipython-input-6-edd6cd26e1c9>:200] valid Loss: 0.8218 RMSE: 0.9065\n",
      "[I 201215 17:58:20 <ipython-input-6-edd6cd26e1c9>:54] EarlyStopping counter: 9 out of 10\n",
      "[I 201215 17:58:20 <ipython-input-6-edd6cd26e1c9>:200] train Loss: 0.6623 RMSE: 0.8138\n",
      "[I 201215 17:58:20 <ipython-input-6-edd6cd26e1c9>:200] valid Loss: 0.8190 RMSE: 0.9050\n",
      "[I 201215 17:58:20 <ipython-input-6-edd6cd26e1c9>:65] Validation loss decreased (0.819463 --> 0.818990).  Saving model ...\n",
      "[I 201215 17:58:20 <ipython-input-6-edd6cd26e1c9>:200] train Loss: 0.6573 RMSE: 0.8107\n",
      "[I 201215 17:58:20 <ipython-input-6-edd6cd26e1c9>:200] valid Loss: 0.8188 RMSE: 0.9049\n",
      "[I 201215 17:58:20 <ipython-input-6-edd6cd26e1c9>:65] Validation loss decreased (0.818990 --> 0.818809).  Saving model ...\n",
      "[I 201215 17:58:20 <ipython-input-6-edd6cd26e1c9>:200] train Loss: 0.6472 RMSE: 0.8045\n",
      "[I 201215 17:58:20 <ipython-input-6-edd6cd26e1c9>:200] valid Loss: 0.8245 RMSE: 0.9080\n",
      "[I 201215 17:58:20 <ipython-input-6-edd6cd26e1c9>:54] EarlyStopping counter: 1 out of 10\n",
      "[I 201215 17:58:20 <ipython-input-6-edd6cd26e1c9>:200] train Loss: 0.6576 RMSE: 0.8109\n",
      "[I 201215 17:58:20 <ipython-input-6-edd6cd26e1c9>:200] valid Loss: 0.8210 RMSE: 0.9061\n",
      "[I 201215 17:58:20 <ipython-input-6-edd6cd26e1c9>:54] EarlyStopping counter: 2 out of 10\n",
      "[I 201215 17:58:20 <ipython-input-6-edd6cd26e1c9>:200] train Loss: 0.6432 RMSE: 0.8020\n",
      "[I 201215 17:58:20 <ipython-input-6-edd6cd26e1c9>:200] valid Loss: 0.8251 RMSE: 0.9083\n",
      "[I 201215 17:58:20 <ipython-input-6-edd6cd26e1c9>:54] EarlyStopping counter: 3 out of 10\n",
      "[I 201215 17:58:21 <ipython-input-6-edd6cd26e1c9>:200] train Loss: 0.6482 RMSE: 0.8051\n",
      "[I 201215 17:58:21 <ipython-input-6-edd6cd26e1c9>:200] valid Loss: 0.8163 RMSE: 0.9035\n",
      "[I 201215 17:58:21 <ipython-input-6-edd6cd26e1c9>:65] Validation loss decreased (0.818809 --> 0.816258).  Saving model ...\n",
      "[I 201215 17:58:21 <ipython-input-6-edd6cd26e1c9>:200] train Loss: 0.6429 RMSE: 0.8018\n",
      "[I 201215 17:58:21 <ipython-input-6-edd6cd26e1c9>:200] valid Loss: 0.8265 RMSE: 0.9091\n",
      "[I 201215 17:58:21 <ipython-input-6-edd6cd26e1c9>:54] EarlyStopping counter: 1 out of 10\n"
     ]
    },
    {
     "name": "stdout",
     "output_type": "stream",
     "text": [
      "Epoch 40/1000\n",
      "----------\n"
     ]
    },
    {
     "name": "stderr",
     "output_type": "stream",
     "text": [
      "[I 201215 17:58:21 <ipython-input-6-edd6cd26e1c9>:200] train Loss: 0.6428 RMSE: 0.8018\n",
      "[I 201215 17:58:21 <ipython-input-6-edd6cd26e1c9>:200] valid Loss: 0.8152 RMSE: 0.9029\n",
      "[I 201215 17:58:21 <ipython-input-6-edd6cd26e1c9>:65] Validation loss decreased (0.816258 --> 0.815192).  Saving model ...\n",
      "[I 201215 17:58:21 <ipython-input-6-edd6cd26e1c9>:200] train Loss: 0.6250 RMSE: 0.7906\n",
      "[I 201215 17:58:21 <ipython-input-6-edd6cd26e1c9>:200] valid Loss: 0.8218 RMSE: 0.9065\n",
      "[I 201215 17:58:21 <ipython-input-6-edd6cd26e1c9>:54] EarlyStopping counter: 1 out of 10\n",
      "[I 201215 17:58:21 <ipython-input-6-edd6cd26e1c9>:200] train Loss: 0.6349 RMSE: 0.7968\n",
      "[I 201215 17:58:21 <ipython-input-6-edd6cd26e1c9>:200] valid Loss: 0.8255 RMSE: 0.9085\n",
      "[I 201215 17:58:21 <ipython-input-6-edd6cd26e1c9>:54] EarlyStopping counter: 2 out of 10\n",
      "[I 201215 17:58:21 <ipython-input-6-edd6cd26e1c9>:200] train Loss: 0.6279 RMSE: 0.7924\n",
      "[I 201215 17:58:21 <ipython-input-6-edd6cd26e1c9>:200] valid Loss: 0.8088 RMSE: 0.8993\n",
      "[I 201215 17:58:21 <ipython-input-6-edd6cd26e1c9>:65] Validation loss decreased (0.815192 --> 0.808788).  Saving model ...\n",
      "[I 201215 17:58:21 <ipython-input-6-edd6cd26e1c9>:200] train Loss: 0.6257 RMSE: 0.7910\n",
      "[I 201215 17:58:21 <ipython-input-6-edd6cd26e1c9>:200] valid Loss: 0.8236 RMSE: 0.9075\n",
      "[I 201215 17:58:21 <ipython-input-6-edd6cd26e1c9>:54] EarlyStopping counter: 1 out of 10\n",
      "[I 201215 17:58:21 <ipython-input-6-edd6cd26e1c9>:200] train Loss: 0.6126 RMSE: 0.7827\n",
      "[I 201215 17:58:21 <ipython-input-6-edd6cd26e1c9>:200] valid Loss: 0.8032 RMSE: 0.8962\n",
      "[I 201215 17:58:21 <ipython-input-6-edd6cd26e1c9>:65] Validation loss decreased (0.808788 --> 0.803204).  Saving model ...\n",
      "[I 201215 17:58:21 <ipython-input-6-edd6cd26e1c9>:200] train Loss: 0.6259 RMSE: 0.7911\n",
      "[I 201215 17:58:21 <ipython-input-6-edd6cd26e1c9>:200] valid Loss: 0.8220 RMSE: 0.9066\n",
      "[I 201215 17:58:21 <ipython-input-6-edd6cd26e1c9>:54] EarlyStopping counter: 1 out of 10\n",
      "[I 201215 17:58:21 <ipython-input-6-edd6cd26e1c9>:200] train Loss: 0.6152 RMSE: 0.7843\n",
      "[I 201215 17:58:21 <ipython-input-6-edd6cd26e1c9>:200] valid Loss: 0.8067 RMSE: 0.8982\n",
      "[I 201215 17:58:21 <ipython-input-6-edd6cd26e1c9>:54] EarlyStopping counter: 2 out of 10\n",
      "[I 201215 17:58:22 <ipython-input-6-edd6cd26e1c9>:200] train Loss: 0.6105 RMSE: 0.7813\n",
      "[I 201215 17:58:22 <ipython-input-6-edd6cd26e1c9>:200] valid Loss: 0.8506 RMSE: 0.9223\n",
      "[I 201215 17:58:22 <ipython-input-6-edd6cd26e1c9>:54] EarlyStopping counter: 3 out of 10\n",
      "[I 201215 17:58:22 <ipython-input-6-edd6cd26e1c9>:200] train Loss: 0.5996 RMSE: 0.7743\n",
      "[I 201215 17:58:22 <ipython-input-6-edd6cd26e1c9>:200] valid Loss: 0.7938 RMSE: 0.8909\n",
      "[I 201215 17:58:22 <ipython-input-6-edd6cd26e1c9>:65] Validation loss decreased (0.803204 --> 0.793755).  Saving model ...\n"
     ]
    },
    {
     "name": "stdout",
     "output_type": "stream",
     "text": [
      "Epoch 50/1000\n",
      "----------\n"
     ]
    },
    {
     "name": "stderr",
     "output_type": "stream",
     "text": [
      "[I 201215 17:58:22 <ipython-input-6-edd6cd26e1c9>:200] train Loss: 0.5985 RMSE: 0.7736\n",
      "[I 201215 17:58:22 <ipython-input-6-edd6cd26e1c9>:200] valid Loss: 0.8288 RMSE: 0.9104\n",
      "[I 201215 17:58:22 <ipython-input-6-edd6cd26e1c9>:54] EarlyStopping counter: 1 out of 10\n",
      "[I 201215 17:58:22 <ipython-input-6-edd6cd26e1c9>:200] train Loss: 0.5971 RMSE: 0.7727\n",
      "[I 201215 17:58:22 <ipython-input-6-edd6cd26e1c9>:200] valid Loss: 0.8323 RMSE: 0.9123\n",
      "[I 201215 17:58:22 <ipython-input-6-edd6cd26e1c9>:54] EarlyStopping counter: 2 out of 10\n",
      "[I 201215 17:58:22 <ipython-input-6-edd6cd26e1c9>:200] train Loss: 0.5861 RMSE: 0.7656\n",
      "[I 201215 17:58:22 <ipython-input-6-edd6cd26e1c9>:200] valid Loss: 0.7980 RMSE: 0.8933\n",
      "[I 201215 17:58:22 <ipython-input-6-edd6cd26e1c9>:54] EarlyStopping counter: 3 out of 10\n",
      "[I 201215 17:58:22 <ipython-input-6-edd6cd26e1c9>:200] train Loss: 0.5724 RMSE: 0.7566\n",
      "[I 201215 17:58:22 <ipython-input-6-edd6cd26e1c9>:200] valid Loss: 0.7980 RMSE: 0.8933\n",
      "[I 201215 17:58:22 <ipython-input-6-edd6cd26e1c9>:54] EarlyStopping counter: 4 out of 10\n",
      "[I 201215 17:58:22 <ipython-input-6-edd6cd26e1c9>:200] train Loss: 0.5868 RMSE: 0.7660\n",
      "[I 201215 17:58:22 <ipython-input-6-edd6cd26e1c9>:200] valid Loss: 0.8260 RMSE: 0.9089\n",
      "[I 201215 17:58:22 <ipython-input-6-edd6cd26e1c9>:54] EarlyStopping counter: 5 out of 10\n",
      "[I 201215 17:58:22 <ipython-input-6-edd6cd26e1c9>:200] train Loss: 0.5824 RMSE: 0.7632\n",
      "[I 201215 17:58:22 <ipython-input-6-edd6cd26e1c9>:200] valid Loss: 0.8116 RMSE: 0.9009\n",
      "[I 201215 17:58:22 <ipython-input-6-edd6cd26e1c9>:54] EarlyStopping counter: 6 out of 10\n",
      "[I 201215 17:58:22 <ipython-input-6-edd6cd26e1c9>:200] train Loss: 0.5686 RMSE: 0.7540\n",
      "[I 201215 17:58:22 <ipython-input-6-edd6cd26e1c9>:200] valid Loss: 0.8125 RMSE: 0.9014\n",
      "[I 201215 17:58:22 <ipython-input-6-edd6cd26e1c9>:54] EarlyStopping counter: 7 out of 10\n",
      "[I 201215 17:58:22 <ipython-input-6-edd6cd26e1c9>:200] train Loss: 0.5651 RMSE: 0.7517\n",
      "[I 201215 17:58:22 <ipython-input-6-edd6cd26e1c9>:200] valid Loss: 0.7818 RMSE: 0.8842\n",
      "[I 201215 17:58:22 <ipython-input-6-edd6cd26e1c9>:65] Validation loss decreased (0.793755 --> 0.781809).  Saving model ...\n",
      "[I 201215 17:58:23 <ipython-input-6-edd6cd26e1c9>:200] train Loss: 0.5474 RMSE: 0.7398\n",
      "[I 201215 17:58:23 <ipython-input-6-edd6cd26e1c9>:200] valid Loss: 0.7987 RMSE: 0.8937\n",
      "[I 201215 17:58:23 <ipython-input-6-edd6cd26e1c9>:54] EarlyStopping counter: 1 out of 10\n",
      "[I 201215 17:58:23 <ipython-input-6-edd6cd26e1c9>:200] train Loss: 0.5376 RMSE: 0.7332\n",
      "[I 201215 17:58:23 <ipython-input-6-edd6cd26e1c9>:200] valid Loss: 0.8285 RMSE: 0.9102\n",
      "[I 201215 17:58:23 <ipython-input-6-edd6cd26e1c9>:54] EarlyStopping counter: 2 out of 10\n"
     ]
    },
    {
     "name": "stdout",
     "output_type": "stream",
     "text": [
      "Epoch 60/1000\n",
      "----------\n"
     ]
    },
    {
     "name": "stderr",
     "output_type": "stream",
     "text": [
      "[I 201215 17:58:23 <ipython-input-6-edd6cd26e1c9>:200] train Loss: 0.5284 RMSE: 0.7269\n",
      "[I 201215 17:58:23 <ipython-input-6-edd6cd26e1c9>:200] valid Loss: 0.8213 RMSE: 0.9063\n",
      "[I 201215 17:58:23 <ipython-input-6-edd6cd26e1c9>:54] EarlyStopping counter: 3 out of 10\n",
      "[I 201215 17:58:23 <ipython-input-6-edd6cd26e1c9>:200] train Loss: 0.5303 RMSE: 0.7283\n",
      "[I 201215 17:58:23 <ipython-input-6-edd6cd26e1c9>:200] valid Loss: 0.8004 RMSE: 0.8947\n",
      "[I 201215 17:58:23 <ipython-input-6-edd6cd26e1c9>:54] EarlyStopping counter: 4 out of 10\n",
      "[I 201215 17:58:23 <ipython-input-6-edd6cd26e1c9>:200] train Loss: 0.5212 RMSE: 0.7219\n",
      "[I 201215 17:58:23 <ipython-input-6-edd6cd26e1c9>:200] valid Loss: 0.7905 RMSE: 0.8891\n",
      "[I 201215 17:58:23 <ipython-input-6-edd6cd26e1c9>:54] EarlyStopping counter: 5 out of 10\n",
      "[I 201215 17:58:23 <ipython-input-6-edd6cd26e1c9>:200] train Loss: 0.5111 RMSE: 0.7149\n",
      "[I 201215 17:58:23 <ipython-input-6-edd6cd26e1c9>:200] valid Loss: 0.8041 RMSE: 0.8967\n",
      "[I 201215 17:58:23 <ipython-input-6-edd6cd26e1c9>:54] EarlyStopping counter: 6 out of 10\n",
      "[I 201215 17:58:23 <ipython-input-6-edd6cd26e1c9>:200] train Loss: 0.5022 RMSE: 0.7086\n",
      "[I 201215 17:58:23 <ipython-input-6-edd6cd26e1c9>:200] valid Loss: 0.7760 RMSE: 0.8809\n",
      "[I 201215 17:58:23 <ipython-input-6-edd6cd26e1c9>:65] Validation loss decreased (0.781809 --> 0.775978).  Saving model ...\n",
      "[I 201215 17:58:23 <ipython-input-6-edd6cd26e1c9>:200] train Loss: 0.4904 RMSE: 0.7003\n",
      "[I 201215 17:58:23 <ipython-input-6-edd6cd26e1c9>:200] valid Loss: 0.8041 RMSE: 0.8967\n",
      "[I 201215 17:58:23 <ipython-input-6-edd6cd26e1c9>:54] EarlyStopping counter: 1 out of 10\n",
      "[I 201215 17:58:23 <ipython-input-6-edd6cd26e1c9>:200] train Loss: 0.4978 RMSE: 0.7055\n",
      "[I 201215 17:58:23 <ipython-input-6-edd6cd26e1c9>:200] valid Loss: 0.8039 RMSE: 0.8966\n",
      "[I 201215 17:58:23 <ipython-input-6-edd6cd26e1c9>:54] EarlyStopping counter: 2 out of 10\n",
      "[I 201215 17:58:23 <ipython-input-6-edd6cd26e1c9>:200] train Loss: 0.4771 RMSE: 0.6907\n",
      "[I 201215 17:58:23 <ipython-input-6-edd6cd26e1c9>:200] valid Loss: 0.8084 RMSE: 0.8991\n",
      "[I 201215 17:58:23 <ipython-input-6-edd6cd26e1c9>:54] EarlyStopping counter: 3 out of 10\n",
      "[I 201215 17:58:24 <ipython-input-6-edd6cd26e1c9>:200] train Loss: 0.4700 RMSE: 0.6856\n",
      "[I 201215 17:58:24 <ipython-input-6-edd6cd26e1c9>:200] valid Loss: 0.8052 RMSE: 0.8973\n",
      "[I 201215 17:58:24 <ipython-input-6-edd6cd26e1c9>:54] EarlyStopping counter: 4 out of 10\n",
      "[I 201215 17:58:24 <ipython-input-6-edd6cd26e1c9>:200] train Loss: 0.4618 RMSE: 0.6796\n",
      "[I 201215 17:58:24 <ipython-input-6-edd6cd26e1c9>:200] valid Loss: 0.8197 RMSE: 0.9054\n",
      "[I 201215 17:58:24 <ipython-input-6-edd6cd26e1c9>:54] EarlyStopping counter: 5 out of 10\n"
     ]
    },
    {
     "name": "stdout",
     "output_type": "stream",
     "text": [
      "Epoch 70/1000\n",
      "----------\n"
     ]
    },
    {
     "name": "stderr",
     "output_type": "stream",
     "text": [
      "[I 201215 17:58:24 <ipython-input-6-edd6cd26e1c9>:200] train Loss: 0.4571 RMSE: 0.6761\n",
      "[I 201215 17:58:24 <ipython-input-6-edd6cd26e1c9>:200] valid Loss: 0.7834 RMSE: 0.8851\n",
      "[I 201215 17:58:24 <ipython-input-6-edd6cd26e1c9>:54] EarlyStopping counter: 6 out of 10\n",
      "[I 201215 17:58:24 <ipython-input-6-edd6cd26e1c9>:200] train Loss: 0.4510 RMSE: 0.6716\n",
      "[I 201215 17:58:24 <ipython-input-6-edd6cd26e1c9>:200] valid Loss: 0.7854 RMSE: 0.8862\n",
      "[I 201215 17:58:24 <ipython-input-6-edd6cd26e1c9>:54] EarlyStopping counter: 7 out of 10\n",
      "[I 201215 17:58:24 <ipython-input-6-edd6cd26e1c9>:200] train Loss: 0.4378 RMSE: 0.6616\n",
      "[I 201215 17:58:24 <ipython-input-6-edd6cd26e1c9>:200] valid Loss: 0.8041 RMSE: 0.8967\n",
      "[I 201215 17:58:24 <ipython-input-6-edd6cd26e1c9>:54] EarlyStopping counter: 8 out of 10\n",
      "[I 201215 17:58:24 <ipython-input-6-edd6cd26e1c9>:200] train Loss: 0.4248 RMSE: 0.6518\n",
      "[I 201215 17:58:24 <ipython-input-6-edd6cd26e1c9>:200] valid Loss: 0.8122 RMSE: 0.9012\n",
      "[I 201215 17:58:24 <ipython-input-6-edd6cd26e1c9>:54] EarlyStopping counter: 9 out of 10\n",
      "[I 201215 17:58:24 <ipython-input-6-edd6cd26e1c9>:200] train Loss: 0.4327 RMSE: 0.6578\n",
      "[I 201215 17:58:24 <ipython-input-6-edd6cd26e1c9>:200] valid Loss: 0.8014 RMSE: 0.8952\n",
      "[I 201215 17:58:24 <ipython-input-6-edd6cd26e1c9>:54] EarlyStopping counter: 10 out of 10\n",
      "[I 201215 17:58:24 <ipython-input-6-edd6cd26e1c9>:210] Early stopping\n",
      "[I 201215 17:58:24 <ipython-input-6-edd6cd26e1c9>:200] valid Loss: 9.8513 RMSE: 3.1387\n",
      "[I 201215 17:58:24 <ipython-input-6-edd6cd26e1c9>:65] Validation loss decreased (inf --> 9.851284).  Saving model ...\n",
      "[I 201215 17:58:24 <ipython-input-6-edd6cd26e1c9>:200] train Loss: 7.8710 RMSE: 2.8055\n",
      "[I 201215 17:58:24 <ipython-input-6-edd6cd26e1c9>:200] valid Loss: 6.8007 RMSE: 2.6078\n",
      "[I 201215 17:58:24 <ipython-input-6-edd6cd26e1c9>:65] Validation loss decreased (9.851284 --> 6.800747).  Saving model ...\n"
     ]
    },
    {
     "name": "stdout",
     "output_type": "stream",
     "text": [
      "Start 2 fold\n",
      "--------------------\n",
      "使用デバイス: cuda:0\n"
     ]
    },
    {
     "name": "stderr",
     "output_type": "stream",
     "text": [
      "[I 201215 17:58:24 <ipython-input-6-edd6cd26e1c9>:200] train Loss: 5.5024 RMSE: 2.3457\n",
      "[I 201215 17:58:24 <ipython-input-6-edd6cd26e1c9>:200] valid Loss: 4.0107 RMSE: 2.0027\n",
      "[I 201215 17:58:24 <ipython-input-6-edd6cd26e1c9>:65] Validation loss decreased (6.800747 --> 4.010654).  Saving model ...\n",
      "[I 201215 17:58:24 <ipython-input-6-edd6cd26e1c9>:200] train Loss: 3.9237 RMSE: 1.9808\n",
      "[I 201215 17:58:24 <ipython-input-6-edd6cd26e1c9>:200] valid Loss: 2.7063 RMSE: 1.6451\n",
      "[I 201215 17:58:24 <ipython-input-6-edd6cd26e1c9>:65] Validation loss decreased (4.010654 --> 2.706274).  Saving model ...\n",
      "[I 201215 17:58:25 <ipython-input-6-edd6cd26e1c9>:200] train Loss: 2.7614 RMSE: 1.6618\n",
      "[I 201215 17:58:25 <ipython-input-6-edd6cd26e1c9>:200] valid Loss: 2.0102 RMSE: 1.4178\n",
      "[I 201215 17:58:25 <ipython-input-6-edd6cd26e1c9>:65] Validation loss decreased (2.706274 --> 2.010163).  Saving model ...\n",
      "[I 201215 17:58:25 <ipython-input-6-edd6cd26e1c9>:200] train Loss: 2.0045 RMSE: 1.4158\n",
      "[I 201215 17:58:25 <ipython-input-6-edd6cd26e1c9>:200] valid Loss: 1.6251 RMSE: 1.2748\n",
      "[I 201215 17:58:25 <ipython-input-6-edd6cd26e1c9>:65] Validation loss decreased (2.010163 --> 1.625138).  Saving model ...\n",
      "[I 201215 17:58:25 <ipython-input-6-edd6cd26e1c9>:200] train Loss: 1.4798 RMSE: 1.2165\n",
      "[I 201215 17:58:25 <ipython-input-6-edd6cd26e1c9>:200] valid Loss: 1.3754 RMSE: 1.1728\n",
      "[I 201215 17:58:25 <ipython-input-6-edd6cd26e1c9>:65] Validation loss decreased (1.625138 --> 1.375391).  Saving model ...\n",
      "[I 201215 17:58:25 <ipython-input-6-edd6cd26e1c9>:200] train Loss: 1.1760 RMSE: 1.0844\n",
      "[I 201215 17:58:25 <ipython-input-6-edd6cd26e1c9>:200] valid Loss: 1.1497 RMSE: 1.0722\n",
      "[I 201215 17:58:25 <ipython-input-6-edd6cd26e1c9>:65] Validation loss decreased (1.375391 --> 1.149650).  Saving model ...\n",
      "[I 201215 17:58:25 <ipython-input-6-edd6cd26e1c9>:200] train Loss: 0.9807 RMSE: 0.9903\n",
      "[I 201215 17:58:25 <ipython-input-6-edd6cd26e1c9>:200] valid Loss: 1.1152 RMSE: 1.0560\n",
      "[I 201215 17:58:25 <ipython-input-6-edd6cd26e1c9>:65] Validation loss decreased (1.149650 --> 1.115208).  Saving model ...\n",
      "[I 201215 17:58:25 <ipython-input-6-edd6cd26e1c9>:200] train Loss: 0.8886 RMSE: 0.9427\n",
      "[I 201215 17:58:25 <ipython-input-6-edd6cd26e1c9>:200] valid Loss: 1.0709 RMSE: 1.0348\n",
      "[I 201215 17:58:25 <ipython-input-6-edd6cd26e1c9>:65] Validation loss decreased (1.115208 --> 1.070850).  Saving model ...\n",
      "[I 201215 17:58:25 <ipython-input-6-edd6cd26e1c9>:200] train Loss: 0.8174 RMSE: 0.9041\n",
      "[I 201215 17:58:25 <ipython-input-6-edd6cd26e1c9>:200] valid Loss: 0.9837 RMSE: 0.9918\n",
      "[I 201215 17:58:25 <ipython-input-6-edd6cd26e1c9>:65] Validation loss decreased (1.070850 --> 0.983689).  Saving model ...\n"
     ]
    },
    {
     "name": "stdout",
     "output_type": "stream",
     "text": [
      "Epoch 10/1000\n",
      "----------\n"
     ]
    },
    {
     "name": "stderr",
     "output_type": "stream",
     "text": [
      "[I 201215 17:58:25 <ipython-input-6-edd6cd26e1c9>:200] train Loss: 0.7753 RMSE: 0.8805\n",
      "[I 201215 17:58:25 <ipython-input-6-edd6cd26e1c9>:200] valid Loss: 0.9505 RMSE: 0.9749\n",
      "[I 201215 17:58:25 <ipython-input-6-edd6cd26e1c9>:65] Validation loss decreased (0.983689 --> 0.950475).  Saving model ...\n",
      "[I 201215 17:58:25 <ipython-input-6-edd6cd26e1c9>:200] train Loss: 0.7566 RMSE: 0.8698\n",
      "[I 201215 17:58:25 <ipython-input-6-edd6cd26e1c9>:200] valid Loss: 0.9288 RMSE: 0.9638\n",
      "[I 201215 17:58:25 <ipython-input-6-edd6cd26e1c9>:65] Validation loss decreased (0.950475 --> 0.928830).  Saving model ...\n",
      "[I 201215 17:58:25 <ipython-input-6-edd6cd26e1c9>:200] train Loss: 0.7393 RMSE: 0.8599\n",
      "[I 201215 17:58:25 <ipython-input-6-edd6cd26e1c9>:200] valid Loss: 0.9133 RMSE: 0.9556\n",
      "[I 201215 17:58:25 <ipython-input-6-edd6cd26e1c9>:65] Validation loss decreased (0.928830 --> 0.913266).  Saving model ...\n",
      "[I 201215 17:58:26 <ipython-input-6-edd6cd26e1c9>:200] train Loss: 0.7270 RMSE: 0.8526\n",
      "[I 201215 17:58:26 <ipython-input-6-edd6cd26e1c9>:200] valid Loss: 0.9200 RMSE: 0.9592\n",
      "[I 201215 17:58:26 <ipython-input-6-edd6cd26e1c9>:54] EarlyStopping counter: 1 out of 10\n",
      "[I 201215 17:58:26 <ipython-input-6-edd6cd26e1c9>:200] train Loss: 0.7061 RMSE: 0.8403\n",
      "[I 201215 17:58:26 <ipython-input-6-edd6cd26e1c9>:200] valid Loss: 0.8904 RMSE: 0.9436\n",
      "[I 201215 17:58:26 <ipython-input-6-edd6cd26e1c9>:65] Validation loss decreased (0.913266 --> 0.890367).  Saving model ...\n",
      "[I 201215 17:58:26 <ipython-input-6-edd6cd26e1c9>:200] train Loss: 0.7006 RMSE: 0.8370\n",
      "[I 201215 17:58:26 <ipython-input-6-edd6cd26e1c9>:200] valid Loss: 0.8829 RMSE: 0.9396\n",
      "[I 201215 17:58:26 <ipython-input-6-edd6cd26e1c9>:65] Validation loss decreased (0.890367 --> 0.882865).  Saving model ...\n",
      "[I 201215 17:58:26 <ipython-input-6-edd6cd26e1c9>:200] train Loss: 0.6826 RMSE: 0.8262\n",
      "[I 201215 17:58:26 <ipython-input-6-edd6cd26e1c9>:200] valid Loss: 0.8801 RMSE: 0.9382\n",
      "[I 201215 17:58:26 <ipython-input-6-edd6cd26e1c9>:65] Validation loss decreased (0.882865 --> 0.880133).  Saving model ...\n",
      "[I 201215 17:58:26 <ipython-input-6-edd6cd26e1c9>:200] train Loss: 0.6827 RMSE: 0.8262\n",
      "[I 201215 17:58:26 <ipython-input-6-edd6cd26e1c9>:200] valid Loss: 0.8839 RMSE: 0.9402\n",
      "[I 201215 17:58:26 <ipython-input-6-edd6cd26e1c9>:54] EarlyStopping counter: 1 out of 10\n",
      "[I 201215 17:58:26 <ipython-input-6-edd6cd26e1c9>:200] train Loss: 0.6682 RMSE: 0.8174\n",
      "[I 201215 17:58:26 <ipython-input-6-edd6cd26e1c9>:200] valid Loss: 0.8895 RMSE: 0.9432\n",
      "[I 201215 17:58:26 <ipython-input-6-edd6cd26e1c9>:54] EarlyStopping counter: 2 out of 10\n",
      "[I 201215 17:58:26 <ipython-input-6-edd6cd26e1c9>:200] train Loss: 0.6388 RMSE: 0.7992\n",
      "[I 201215 17:58:26 <ipython-input-6-edd6cd26e1c9>:200] valid Loss: 0.8719 RMSE: 0.9338\n",
      "[I 201215 17:58:26 <ipython-input-6-edd6cd26e1c9>:65] Validation loss decreased (0.880133 --> 0.871903).  Saving model ...\n"
     ]
    },
    {
     "name": "stdout",
     "output_type": "stream",
     "text": [
      "Epoch 20/1000\n",
      "----------\n"
     ]
    },
    {
     "name": "stderr",
     "output_type": "stream",
     "text": [
      "[I 201215 17:58:26 <ipython-input-6-edd6cd26e1c9>:200] train Loss: 0.6430 RMSE: 0.8019\n",
      "[I 201215 17:58:26 <ipython-input-6-edd6cd26e1c9>:200] valid Loss: 0.8725 RMSE: 0.9341\n",
      "[I 201215 17:58:26 <ipython-input-6-edd6cd26e1c9>:54] EarlyStopping counter: 1 out of 10\n",
      "[I 201215 17:58:26 <ipython-input-6-edd6cd26e1c9>:200] train Loss: 0.6425 RMSE: 0.8015\n",
      "[I 201215 17:58:26 <ipython-input-6-edd6cd26e1c9>:200] valid Loss: 0.8753 RMSE: 0.9356\n",
      "[I 201215 17:58:26 <ipython-input-6-edd6cd26e1c9>:54] EarlyStopping counter: 2 out of 10\n",
      "[I 201215 17:58:26 <ipython-input-6-edd6cd26e1c9>:200] train Loss: 0.6343 RMSE: 0.7964\n",
      "[I 201215 17:58:26 <ipython-input-6-edd6cd26e1c9>:200] valid Loss: 0.8639 RMSE: 0.9295\n",
      "[I 201215 17:58:26 <ipython-input-6-edd6cd26e1c9>:65] Validation loss decreased (0.871903 --> 0.863918).  Saving model ...\n",
      "[I 201215 17:58:27 <ipython-input-6-edd6cd26e1c9>:200] train Loss: 0.6133 RMSE: 0.7831\n",
      "[I 201215 17:58:27 <ipython-input-6-edd6cd26e1c9>:200] valid Loss: 0.8668 RMSE: 0.9310\n",
      "[I 201215 17:58:27 <ipython-input-6-edd6cd26e1c9>:54] EarlyStopping counter: 1 out of 10\n",
      "[I 201215 17:58:27 <ipython-input-6-edd6cd26e1c9>:200] train Loss: 0.6257 RMSE: 0.7910\n",
      "[I 201215 17:58:27 <ipython-input-6-edd6cd26e1c9>:200] valid Loss: 0.8688 RMSE: 0.9321\n",
      "[I 201215 17:58:27 <ipython-input-6-edd6cd26e1c9>:54] EarlyStopping counter: 2 out of 10\n",
      "[I 201215 17:58:27 <ipython-input-6-edd6cd26e1c9>:200] train Loss: 0.6086 RMSE: 0.7801\n",
      "[I 201215 17:58:27 <ipython-input-6-edd6cd26e1c9>:200] valid Loss: 0.8706 RMSE: 0.9330\n",
      "[I 201215 17:58:27 <ipython-input-6-edd6cd26e1c9>:54] EarlyStopping counter: 3 out of 10\n",
      "[I 201215 17:58:27 <ipython-input-6-edd6cd26e1c9>:200] train Loss: 0.6147 RMSE: 0.7840\n",
      "[I 201215 17:58:27 <ipython-input-6-edd6cd26e1c9>:200] valid Loss: 0.8719 RMSE: 0.9338\n",
      "[I 201215 17:58:27 <ipython-input-6-edd6cd26e1c9>:54] EarlyStopping counter: 4 out of 10\n",
      "[I 201215 17:58:27 <ipython-input-6-edd6cd26e1c9>:200] train Loss: 0.6211 RMSE: 0.7881\n",
      "[I 201215 17:58:27 <ipython-input-6-edd6cd26e1c9>:200] valid Loss: 0.8701 RMSE: 0.9328\n",
      "[I 201215 17:58:27 <ipython-input-6-edd6cd26e1c9>:54] EarlyStopping counter: 5 out of 10\n",
      "[I 201215 17:58:27 <ipython-input-6-edd6cd26e1c9>:200] train Loss: 0.6106 RMSE: 0.7814\n",
      "[I 201215 17:58:27 <ipython-input-6-edd6cd26e1c9>:200] valid Loss: 0.8689 RMSE: 0.9322\n",
      "[I 201215 17:58:27 <ipython-input-6-edd6cd26e1c9>:54] EarlyStopping counter: 6 out of 10\n",
      "[I 201215 17:58:27 <ipython-input-6-edd6cd26e1c9>:200] train Loss: 0.6122 RMSE: 0.7825\n",
      "[I 201215 17:58:27 <ipython-input-6-edd6cd26e1c9>:200] valid Loss: 0.8689 RMSE: 0.9321\n",
      "[I 201215 17:58:27 <ipython-input-6-edd6cd26e1c9>:54] EarlyStopping counter: 7 out of 10\n"
     ]
    },
    {
     "name": "stdout",
     "output_type": "stream",
     "text": [
      "Epoch 30/1000\n",
      "----------\n"
     ]
    },
    {
     "name": "stderr",
     "output_type": "stream",
     "text": [
      "[I 201215 17:58:27 <ipython-input-6-edd6cd26e1c9>:200] train Loss: 0.6059 RMSE: 0.7784\n",
      "[I 201215 17:58:27 <ipython-input-6-edd6cd26e1c9>:200] valid Loss: 0.8707 RMSE: 0.9331\n",
      "[I 201215 17:58:27 <ipython-input-6-edd6cd26e1c9>:54] EarlyStopping counter: 8 out of 10\n",
      "[I 201215 17:58:27 <ipython-input-6-edd6cd26e1c9>:200] train Loss: 0.6034 RMSE: 0.7768\n",
      "[I 201215 17:58:27 <ipython-input-6-edd6cd26e1c9>:200] valid Loss: 0.8718 RMSE: 0.9337\n",
      "[I 201215 17:58:27 <ipython-input-6-edd6cd26e1c9>:54] EarlyStopping counter: 9 out of 10\n",
      "[I 201215 17:58:27 <ipython-input-6-edd6cd26e1c9>:200] train Loss: 0.6098 RMSE: 0.7809\n",
      "[I 201215 17:58:27 <ipython-input-6-edd6cd26e1c9>:200] valid Loss: 0.8698 RMSE: 0.9326\n",
      "[I 201215 17:58:27 <ipython-input-6-edd6cd26e1c9>:54] EarlyStopping counter: 10 out of 10\n",
      "[I 201215 17:58:27 <ipython-input-6-edd6cd26e1c9>:210] Early stopping\n",
      "[I 201215 17:58:28 <ipython-input-6-edd6cd26e1c9>:200] valid Loss: 9.9836 RMSE: 3.1597\n",
      "[I 201215 17:58:28 <ipython-input-6-edd6cd26e1c9>:65] Validation loss decreased (inf --> 9.983591).  Saving model ...\n",
      "[I 201215 17:58:28 <ipython-input-6-edd6cd26e1c9>:200] train Loss: 8.2224 RMSE: 2.8675\n",
      "[I 201215 17:58:28 <ipython-input-6-edd6cd26e1c9>:200] valid Loss: 6.3115 RMSE: 2.5123\n",
      "[I 201215 17:58:28 <ipython-input-6-edd6cd26e1c9>:65] Validation loss decreased (9.983591 --> 6.311515).  Saving model ...\n"
     ]
    },
    {
     "name": "stdout",
     "output_type": "stream",
     "text": [
      "Start 3 fold\n",
      "--------------------\n",
      "使用デバイス: cuda:0\n"
     ]
    },
    {
     "name": "stderr",
     "output_type": "stream",
     "text": [
      "[I 201215 17:58:28 <ipython-input-6-edd6cd26e1c9>:200] train Loss: 5.6343 RMSE: 2.3737\n",
      "[I 201215 17:58:28 <ipython-input-6-edd6cd26e1c9>:200] valid Loss: 3.8740 RMSE: 1.9682\n",
      "[I 201215 17:58:28 <ipython-input-6-edd6cd26e1c9>:65] Validation loss decreased (6.311515 --> 3.873959).  Saving model ...\n",
      "[I 201215 17:58:28 <ipython-input-6-edd6cd26e1c9>:200] train Loss: 4.0289 RMSE: 2.0072\n",
      "[I 201215 17:58:28 <ipython-input-6-edd6cd26e1c9>:200] valid Loss: 2.6956 RMSE: 1.6418\n",
      "[I 201215 17:58:28 <ipython-input-6-edd6cd26e1c9>:65] Validation loss decreased (3.873959 --> 2.695614).  Saving model ...\n",
      "[I 201215 17:58:28 <ipython-input-6-edd6cd26e1c9>:200] train Loss: 2.9087 RMSE: 1.7055\n",
      "[I 201215 17:58:28 <ipython-input-6-edd6cd26e1c9>:200] valid Loss: 2.1566 RMSE: 1.4685\n",
      "[I 201215 17:58:28 <ipython-input-6-edd6cd26e1c9>:65] Validation loss decreased (2.695614 --> 2.156553).  Saving model ...\n",
      "[I 201215 17:58:28 <ipython-input-6-edd6cd26e1c9>:200] train Loss: 2.1336 RMSE: 1.4607\n",
      "[I 201215 17:58:28 <ipython-input-6-edd6cd26e1c9>:200] valid Loss: 1.7029 RMSE: 1.3050\n",
      "[I 201215 17:58:28 <ipython-input-6-edd6cd26e1c9>:65] Validation loss decreased (2.156553 --> 1.702919).  Saving model ...\n",
      "[I 201215 17:58:28 <ipython-input-6-edd6cd26e1c9>:200] train Loss: 1.5900 RMSE: 1.2609\n",
      "[I 201215 17:58:28 <ipython-input-6-edd6cd26e1c9>:200] valid Loss: 1.4270 RMSE: 1.1946\n",
      "[I 201215 17:58:28 <ipython-input-6-edd6cd26e1c9>:65] Validation loss decreased (1.702919 --> 1.426975).  Saving model ...\n",
      "[I 201215 17:58:28 <ipython-input-6-edd6cd26e1c9>:200] train Loss: 1.2618 RMSE: 1.1233\n",
      "[I 201215 17:58:28 <ipython-input-6-edd6cd26e1c9>:200] valid Loss: 1.2454 RMSE: 1.1160\n",
      "[I 201215 17:58:28 <ipython-input-6-edd6cd26e1c9>:65] Validation loss decreased (1.426975 --> 1.245376).  Saving model ...\n",
      "[I 201215 17:58:28 <ipython-input-6-edd6cd26e1c9>:200] train Loss: 1.0567 RMSE: 1.0280\n",
      "[I 201215 17:58:28 <ipython-input-6-edd6cd26e1c9>:200] valid Loss: 1.1177 RMSE: 1.0572\n",
      "[I 201215 17:58:28 <ipython-input-6-edd6cd26e1c9>:65] Validation loss decreased (1.245376 --> 1.117676).  Saving model ...\n",
      "[I 201215 17:58:28 <ipython-input-6-edd6cd26e1c9>:200] train Loss: 0.9309 RMSE: 0.9648\n",
      "[I 201215 17:58:28 <ipython-input-6-edd6cd26e1c9>:200] valid Loss: 1.0653 RMSE: 1.0321\n",
      "[I 201215 17:58:28 <ipython-input-6-edd6cd26e1c9>:65] Validation loss decreased (1.117676 --> 1.065309).  Saving model ...\n",
      "[I 201215 17:58:29 <ipython-input-6-edd6cd26e1c9>:200] train Loss: 0.8479 RMSE: 0.9208\n",
      "[I 201215 17:58:29 <ipython-input-6-edd6cd26e1c9>:200] valid Loss: 0.9717 RMSE: 0.9858\n",
      "[I 201215 17:58:29 <ipython-input-6-edd6cd26e1c9>:65] Validation loss decreased (1.065309 --> 0.971743).  Saving model ...\n"
     ]
    },
    {
     "name": "stdout",
     "output_type": "stream",
     "text": [
      "Epoch 10/1000\n",
      "----------\n"
     ]
    },
    {
     "name": "stderr",
     "output_type": "stream",
     "text": [
      "[I 201215 17:58:29 <ipython-input-6-edd6cd26e1c9>:200] train Loss: 0.8007 RMSE: 0.8948\n",
      "[I 201215 17:58:29 <ipython-input-6-edd6cd26e1c9>:200] valid Loss: 0.9858 RMSE: 0.9929\n",
      "[I 201215 17:58:29 <ipython-input-6-edd6cd26e1c9>:54] EarlyStopping counter: 1 out of 10\n",
      "[I 201215 17:58:29 <ipython-input-6-edd6cd26e1c9>:200] train Loss: 0.7799 RMSE: 0.8831\n",
      "[I 201215 17:58:29 <ipython-input-6-edd6cd26e1c9>:200] valid Loss: 0.9143 RMSE: 0.9562\n",
      "[I 201215 17:58:29 <ipython-input-6-edd6cd26e1c9>:65] Validation loss decreased (0.971743 --> 0.914253).  Saving model ...\n",
      "[I 201215 17:58:29 <ipython-input-6-edd6cd26e1c9>:200] train Loss: 0.7341 RMSE: 0.8568\n",
      "[I 201215 17:58:29 <ipython-input-6-edd6cd26e1c9>:200] valid Loss: 0.9383 RMSE: 0.9686\n",
      "[I 201215 17:58:29 <ipython-input-6-edd6cd26e1c9>:54] EarlyStopping counter: 1 out of 10\n",
      "[I 201215 17:58:29 <ipython-input-6-edd6cd26e1c9>:200] train Loss: 0.7280 RMSE: 0.8532\n",
      "[I 201215 17:58:29 <ipython-input-6-edd6cd26e1c9>:200] valid Loss: 0.9034 RMSE: 0.9505\n",
      "[I 201215 17:58:29 <ipython-input-6-edd6cd26e1c9>:65] Validation loss decreased (0.914253 --> 0.903362).  Saving model ...\n",
      "[I 201215 17:58:29 <ipython-input-6-edd6cd26e1c9>:200] train Loss: 0.7258 RMSE: 0.8519\n",
      "[I 201215 17:58:29 <ipython-input-6-edd6cd26e1c9>:200] valid Loss: 0.9391 RMSE: 0.9691\n",
      "[I 201215 17:58:29 <ipython-input-6-edd6cd26e1c9>:54] EarlyStopping counter: 1 out of 10\n",
      "[I 201215 17:58:29 <ipython-input-6-edd6cd26e1c9>:200] train Loss: 0.7025 RMSE: 0.8381\n",
      "[I 201215 17:58:29 <ipython-input-6-edd6cd26e1c9>:200] valid Loss: 0.8796 RMSE: 0.9379\n",
      "[I 201215 17:58:29 <ipython-input-6-edd6cd26e1c9>:65] Validation loss decreased (0.903362 --> 0.879638).  Saving model ...\n",
      "[I 201215 17:58:29 <ipython-input-6-edd6cd26e1c9>:200] train Loss: 0.6853 RMSE: 0.8278\n",
      "[I 201215 17:58:29 <ipython-input-6-edd6cd26e1c9>:200] valid Loss: 0.8801 RMSE: 0.9381\n",
      "[I 201215 17:58:29 <ipython-input-6-edd6cd26e1c9>:54] EarlyStopping counter: 1 out of 10\n",
      "[I 201215 17:58:29 <ipython-input-6-edd6cd26e1c9>:200] train Loss: 0.6707 RMSE: 0.8189\n",
      "[I 201215 17:58:29 <ipython-input-6-edd6cd26e1c9>:200] valid Loss: 0.8694 RMSE: 0.9324\n",
      "[I 201215 17:58:29 <ipython-input-6-edd6cd26e1c9>:65] Validation loss decreased (0.879638 --> 0.869443).  Saving model ...\n",
      "[I 201215 17:58:29 <ipython-input-6-edd6cd26e1c9>:200] train Loss: 0.6687 RMSE: 0.8177\n",
      "[I 201215 17:58:29 <ipython-input-6-edd6cd26e1c9>:200] valid Loss: 0.8753 RMSE: 0.9356\n",
      "[I 201215 17:58:29 <ipython-input-6-edd6cd26e1c9>:54] EarlyStopping counter: 1 out of 10\n"
     ]
    },
    {
     "name": "stdout",
     "output_type": "stream",
     "text": [
      "Epoch 20/1000\n",
      "----------\n"
     ]
    },
    {
     "name": "stderr",
     "output_type": "stream",
     "text": [
      "[I 201215 17:58:30 <ipython-input-6-edd6cd26e1c9>:200] train Loss: 0.6533 RMSE: 0.8082\n",
      "[I 201215 17:58:30 <ipython-input-6-edd6cd26e1c9>:200] valid Loss: 0.8665 RMSE: 0.9309\n",
      "[I 201215 17:58:30 <ipython-input-6-edd6cd26e1c9>:65] Validation loss decreased (0.869443 --> 0.866538).  Saving model ...\n",
      "[I 201215 17:58:30 <ipython-input-6-edd6cd26e1c9>:200] train Loss: 0.6494 RMSE: 0.8058\n",
      "[I 201215 17:58:30 <ipython-input-6-edd6cd26e1c9>:200] valid Loss: 0.8660 RMSE: 0.9306\n",
      "[I 201215 17:58:30 <ipython-input-6-edd6cd26e1c9>:65] Validation loss decreased (0.866538 --> 0.866040).  Saving model ...\n",
      "[I 201215 17:58:30 <ipython-input-6-edd6cd26e1c9>:200] train Loss: 0.6420 RMSE: 0.8013\n",
      "[I 201215 17:58:30 <ipython-input-6-edd6cd26e1c9>:200] valid Loss: 0.8697 RMSE: 0.9326\n",
      "[I 201215 17:58:30 <ipython-input-6-edd6cd26e1c9>:54] EarlyStopping counter: 1 out of 10\n",
      "[I 201215 17:58:30 <ipython-input-6-edd6cd26e1c9>:200] train Loss: 0.6337 RMSE: 0.7961\n",
      "[I 201215 17:58:30 <ipython-input-6-edd6cd26e1c9>:200] valid Loss: 0.8592 RMSE: 0.9269\n",
      "[I 201215 17:58:30 <ipython-input-6-edd6cd26e1c9>:65] Validation loss decreased (0.866040 --> 0.859164).  Saving model ...\n",
      "[I 201215 17:58:30 <ipython-input-6-edd6cd26e1c9>:200] train Loss: 0.6307 RMSE: 0.7942\n",
      "[I 201215 17:58:30 <ipython-input-6-edd6cd26e1c9>:200] valid Loss: 0.8586 RMSE: 0.9266\n",
      "[I 201215 17:58:30 <ipython-input-6-edd6cd26e1c9>:65] Validation loss decreased (0.859164 --> 0.858619).  Saving model ...\n",
      "[I 201215 17:58:30 <ipython-input-6-edd6cd26e1c9>:200] train Loss: 0.6292 RMSE: 0.7932\n",
      "[I 201215 17:58:30 <ipython-input-6-edd6cd26e1c9>:200] valid Loss: 0.8609 RMSE: 0.9278\n",
      "[I 201215 17:58:30 <ipython-input-6-edd6cd26e1c9>:54] EarlyStopping counter: 1 out of 10\n",
      "[I 201215 17:58:30 <ipython-input-6-edd6cd26e1c9>:200] train Loss: 0.6237 RMSE: 0.7897\n",
      "[I 201215 17:58:30 <ipython-input-6-edd6cd26e1c9>:200] valid Loss: 0.8557 RMSE: 0.9251\n",
      "[I 201215 17:58:30 <ipython-input-6-edd6cd26e1c9>:65] Validation loss decreased (0.858619 --> 0.855749).  Saving model ...\n",
      "[I 201215 17:58:30 <ipython-input-6-edd6cd26e1c9>:200] train Loss: 0.6212 RMSE: 0.7882\n",
      "[I 201215 17:58:30 <ipython-input-6-edd6cd26e1c9>:200] valid Loss: 0.8569 RMSE: 0.9257\n",
      "[I 201215 17:58:30 <ipython-input-6-edd6cd26e1c9>:54] EarlyStopping counter: 1 out of 10\n",
      "[I 201215 17:58:30 <ipython-input-6-edd6cd26e1c9>:200] train Loss: 0.6139 RMSE: 0.7835\n",
      "[I 201215 17:58:30 <ipython-input-6-edd6cd26e1c9>:200] valid Loss: 0.8557 RMSE: 0.9251\n",
      "[I 201215 17:58:30 <ipython-input-6-edd6cd26e1c9>:65] Validation loss decreased (0.855749 --> 0.855741).  Saving model ...\n",
      "[I 201215 17:58:30 <ipython-input-6-edd6cd26e1c9>:200] train Loss: 0.6133 RMSE: 0.7831\n",
      "[I 201215 17:58:30 <ipython-input-6-edd6cd26e1c9>:200] valid Loss: 0.8549 RMSE: 0.9246\n",
      "[I 201215 17:58:30 <ipython-input-6-edd6cd26e1c9>:65] Validation loss decreased (0.855741 --> 0.854896).  Saving model ...\n",
      "[I 201215 17:58:30 <ipython-input-6-edd6cd26e1c9>:200] train Loss: 0.6237 RMSE: 0.7898\n",
      "[I 201215 17:58:30 <ipython-input-6-edd6cd26e1c9>:200] valid Loss: 0.8538 RMSE: 0.9240\n",
      "[I 201215 17:58:30 <ipython-input-6-edd6cd26e1c9>:65] Validation loss decreased (0.854896 --> 0.853831).  Saving model ...\n"
     ]
    },
    {
     "name": "stdout",
     "output_type": "stream",
     "text": [
      "Epoch 30/1000\n",
      "----------\n"
     ]
    },
    {
     "name": "stderr",
     "output_type": "stream",
     "text": [
      "[I 201215 17:58:31 <ipython-input-6-edd6cd26e1c9>:200] train Loss: 0.6035 RMSE: 0.7768\n",
      "[I 201215 17:58:31 <ipython-input-6-edd6cd26e1c9>:200] valid Loss: 0.8542 RMSE: 0.9242\n",
      "[I 201215 17:58:31 <ipython-input-6-edd6cd26e1c9>:54] EarlyStopping counter: 1 out of 10\n",
      "[I 201215 17:58:31 <ipython-input-6-edd6cd26e1c9>:200] train Loss: 0.6147 RMSE: 0.7840\n",
      "[I 201215 17:58:31 <ipython-input-6-edd6cd26e1c9>:200] valid Loss: 0.8553 RMSE: 0.9248\n",
      "[I 201215 17:58:31 <ipython-input-6-edd6cd26e1c9>:54] EarlyStopping counter: 2 out of 10\n",
      "[I 201215 17:58:31 <ipython-input-6-edd6cd26e1c9>:200] train Loss: 0.6168 RMSE: 0.7854\n",
      "[I 201215 17:58:31 <ipython-input-6-edd6cd26e1c9>:200] valid Loss: 0.8561 RMSE: 0.9253\n",
      "[I 201215 17:58:31 <ipython-input-6-edd6cd26e1c9>:54] EarlyStopping counter: 3 out of 10\n",
      "[I 201215 17:58:31 <ipython-input-6-edd6cd26e1c9>:200] train Loss: 0.6128 RMSE: 0.7828\n",
      "[I 201215 17:58:31 <ipython-input-6-edd6cd26e1c9>:200] valid Loss: 0.8553 RMSE: 0.9248\n",
      "[I 201215 17:58:31 <ipython-input-6-edd6cd26e1c9>:54] EarlyStopping counter: 4 out of 10\n",
      "[I 201215 17:58:31 <ipython-input-6-edd6cd26e1c9>:200] train Loss: 0.6143 RMSE: 0.7838\n",
      "[I 201215 17:58:31 <ipython-input-6-edd6cd26e1c9>:200] valid Loss: 0.8554 RMSE: 0.9249\n",
      "[I 201215 17:58:31 <ipython-input-6-edd6cd26e1c9>:54] EarlyStopping counter: 5 out of 10\n",
      "[I 201215 17:58:31 <ipython-input-6-edd6cd26e1c9>:200] train Loss: 0.6084 RMSE: 0.7800\n",
      "[I 201215 17:58:31 <ipython-input-6-edd6cd26e1c9>:200] valid Loss: 0.8592 RMSE: 0.9269\n",
      "[I 201215 17:58:31 <ipython-input-6-edd6cd26e1c9>:54] EarlyStopping counter: 6 out of 10\n",
      "[I 201215 17:58:31 <ipython-input-6-edd6cd26e1c9>:200] train Loss: 0.6213 RMSE: 0.7882\n",
      "[I 201215 17:58:31 <ipython-input-6-edd6cd26e1c9>:200] valid Loss: 0.8545 RMSE: 0.9244\n",
      "[I 201215 17:58:31 <ipython-input-6-edd6cd26e1c9>:54] EarlyStopping counter: 7 out of 10\n",
      "[I 201215 17:58:31 <ipython-input-6-edd6cd26e1c9>:200] train Loss: 0.6224 RMSE: 0.7889\n",
      "[I 201215 17:58:31 <ipython-input-6-edd6cd26e1c9>:200] valid Loss: 0.8597 RMSE: 0.9272\n",
      "[I 201215 17:58:31 <ipython-input-6-edd6cd26e1c9>:54] EarlyStopping counter: 8 out of 10\n",
      "[I 201215 17:58:31 <ipython-input-6-edd6cd26e1c9>:200] train Loss: 0.6140 RMSE: 0.7836\n",
      "[I 201215 17:58:31 <ipython-input-6-edd6cd26e1c9>:200] valid Loss: 0.8537 RMSE: 0.9239\n",
      "[I 201215 17:58:31 <ipython-input-6-edd6cd26e1c9>:65] Validation loss decreased (0.853831 --> 0.853669).  Saving model ...\n",
      "[I 201215 17:58:31 <ipython-input-6-edd6cd26e1c9>:200] train Loss: 0.6152 RMSE: 0.7843\n",
      "[I 201215 17:58:31 <ipython-input-6-edd6cd26e1c9>:200] valid Loss: 0.8570 RMSE: 0.9257\n",
      "[I 201215 17:58:31 <ipython-input-6-edd6cd26e1c9>:54] EarlyStopping counter: 1 out of 10\n"
     ]
    },
    {
     "name": "stdout",
     "output_type": "stream",
     "text": [
      "Epoch 40/1000\n",
      "----------\n"
     ]
    },
    {
     "name": "stderr",
     "output_type": "stream",
     "text": [
      "[I 201215 17:58:32 <ipython-input-6-edd6cd26e1c9>:200] train Loss: 0.6044 RMSE: 0.7774\n",
      "[I 201215 17:58:32 <ipython-input-6-edd6cd26e1c9>:200] valid Loss: 0.8544 RMSE: 0.9243\n",
      "[I 201215 17:58:32 <ipython-input-6-edd6cd26e1c9>:54] EarlyStopping counter: 2 out of 10\n",
      "[I 201215 17:58:32 <ipython-input-6-edd6cd26e1c9>:200] train Loss: 0.6174 RMSE: 0.7857\n",
      "[I 201215 17:58:32 <ipython-input-6-edd6cd26e1c9>:200] valid Loss: 0.8580 RMSE: 0.9263\n",
      "[I 201215 17:58:32 <ipython-input-6-edd6cd26e1c9>:54] EarlyStopping counter: 3 out of 10\n",
      "[I 201215 17:58:32 <ipython-input-6-edd6cd26e1c9>:200] train Loss: 0.6011 RMSE: 0.7753\n",
      "[I 201215 17:58:32 <ipython-input-6-edd6cd26e1c9>:200] valid Loss: 0.8644 RMSE: 0.9297\n",
      "[I 201215 17:58:32 <ipython-input-6-edd6cd26e1c9>:54] EarlyStopping counter: 4 out of 10\n",
      "[I 201215 17:58:32 <ipython-input-6-edd6cd26e1c9>:200] train Loss: 0.6065 RMSE: 0.7788\n",
      "[I 201215 17:58:32 <ipython-input-6-edd6cd26e1c9>:200] valid Loss: 0.8496 RMSE: 0.9217\n",
      "[I 201215 17:58:32 <ipython-input-6-edd6cd26e1c9>:65] Validation loss decreased (0.853669 --> 0.849576).  Saving model ...\n",
      "[I 201215 17:58:32 <ipython-input-6-edd6cd26e1c9>:200] train Loss: 0.5898 RMSE: 0.7680\n",
      "[I 201215 17:58:32 <ipython-input-6-edd6cd26e1c9>:200] valid Loss: 0.8643 RMSE: 0.9297\n",
      "[I 201215 17:58:32 <ipython-input-6-edd6cd26e1c9>:54] EarlyStopping counter: 1 out of 10\n",
      "[I 201215 17:58:32 <ipython-input-6-edd6cd26e1c9>:200] train Loss: 0.5926 RMSE: 0.7698\n",
      "[I 201215 17:58:32 <ipython-input-6-edd6cd26e1c9>:200] valid Loss: 0.8404 RMSE: 0.9167\n",
      "[I 201215 17:58:32 <ipython-input-6-edd6cd26e1c9>:65] Validation loss decreased (0.849576 --> 0.840382).  Saving model ...\n",
      "[I 201215 17:58:32 <ipython-input-6-edd6cd26e1c9>:200] train Loss: 0.5765 RMSE: 0.7593\n",
      "[I 201215 17:58:32 <ipython-input-6-edd6cd26e1c9>:200] valid Loss: 0.8653 RMSE: 0.9302\n",
      "[I 201215 17:58:32 <ipython-input-6-edd6cd26e1c9>:54] EarlyStopping counter: 1 out of 10\n",
      "[I 201215 17:58:32 <ipython-input-6-edd6cd26e1c9>:200] train Loss: 0.5778 RMSE: 0.7602\n",
      "[I 201215 17:58:32 <ipython-input-6-edd6cd26e1c9>:200] valid Loss: 0.8647 RMSE: 0.9299\n",
      "[I 201215 17:58:32 <ipython-input-6-edd6cd26e1c9>:54] EarlyStopping counter: 2 out of 10\n",
      "[I 201215 17:58:32 <ipython-input-6-edd6cd26e1c9>:200] train Loss: 0.5657 RMSE: 0.7521\n",
      "[I 201215 17:58:32 <ipython-input-6-edd6cd26e1c9>:200] valid Loss: 0.8657 RMSE: 0.9304\n",
      "[I 201215 17:58:32 <ipython-input-6-edd6cd26e1c9>:54] EarlyStopping counter: 3 out of 10\n",
      "[I 201215 17:58:32 <ipython-input-6-edd6cd26e1c9>:200] train Loss: 0.5920 RMSE: 0.7694\n",
      "[I 201215 17:58:32 <ipython-input-6-edd6cd26e1c9>:200] valid Loss: 0.8700 RMSE: 0.9327\n",
      "[I 201215 17:58:32 <ipython-input-6-edd6cd26e1c9>:54] EarlyStopping counter: 4 out of 10\n"
     ]
    },
    {
     "name": "stdout",
     "output_type": "stream",
     "text": [
      "Epoch 50/1000\n",
      "----------\n"
     ]
    },
    {
     "name": "stderr",
     "output_type": "stream",
     "text": [
      "[I 201215 17:58:33 <ipython-input-6-edd6cd26e1c9>:200] train Loss: 0.5805 RMSE: 0.7619\n",
      "[I 201215 17:58:33 <ipython-input-6-edd6cd26e1c9>:200] valid Loss: 0.8442 RMSE: 0.9188\n",
      "[I 201215 17:58:33 <ipython-input-6-edd6cd26e1c9>:54] EarlyStopping counter: 5 out of 10\n",
      "[I 201215 17:58:33 <ipython-input-6-edd6cd26e1c9>:200] train Loss: 0.5740 RMSE: 0.7576\n",
      "[I 201215 17:58:33 <ipython-input-6-edd6cd26e1c9>:200] valid Loss: 0.8558 RMSE: 0.9251\n",
      "[I 201215 17:58:33 <ipython-input-6-edd6cd26e1c9>:54] EarlyStopping counter: 6 out of 10\n",
      "[I 201215 17:58:33 <ipython-input-6-edd6cd26e1c9>:200] train Loss: 0.5738 RMSE: 0.7575\n",
      "[I 201215 17:58:33 <ipython-input-6-edd6cd26e1c9>:200] valid Loss: 0.8820 RMSE: 0.9392\n",
      "[I 201215 17:58:33 <ipython-input-6-edd6cd26e1c9>:54] EarlyStopping counter: 7 out of 10\n",
      "[I 201215 17:58:33 <ipython-input-6-edd6cd26e1c9>:200] train Loss: 0.5641 RMSE: 0.7511\n",
      "[I 201215 17:58:33 <ipython-input-6-edd6cd26e1c9>:200] valid Loss: 0.8312 RMSE: 0.9117\n",
      "[I 201215 17:58:33 <ipython-input-6-edd6cd26e1c9>:65] Validation loss decreased (0.840382 --> 0.831247).  Saving model ...\n",
      "[I 201215 17:58:33 <ipython-input-6-edd6cd26e1c9>:200] train Loss: 0.5471 RMSE: 0.7397\n",
      "[I 201215 17:58:33 <ipython-input-6-edd6cd26e1c9>:200] valid Loss: 0.8116 RMSE: 0.9009\n",
      "[I 201215 17:58:33 <ipython-input-6-edd6cd26e1c9>:65] Validation loss decreased (0.831247 --> 0.811632).  Saving model ...\n",
      "[I 201215 17:58:33 <ipython-input-6-edd6cd26e1c9>:200] train Loss: 0.5639 RMSE: 0.7510\n",
      "[I 201215 17:58:33 <ipython-input-6-edd6cd26e1c9>:200] valid Loss: 0.8900 RMSE: 0.9434\n",
      "[I 201215 17:58:33 <ipython-input-6-edd6cd26e1c9>:54] EarlyStopping counter: 1 out of 10\n",
      "[I 201215 17:58:33 <ipython-input-6-edd6cd26e1c9>:200] train Loss: 0.5656 RMSE: 0.7520\n",
      "[I 201215 17:58:33 <ipython-input-6-edd6cd26e1c9>:200] valid Loss: 0.8728 RMSE: 0.9342\n",
      "[I 201215 17:58:33 <ipython-input-6-edd6cd26e1c9>:54] EarlyStopping counter: 2 out of 10\n",
      "[I 201215 17:58:33 <ipython-input-6-edd6cd26e1c9>:200] train Loss: 0.5391 RMSE: 0.7342\n",
      "[I 201215 17:58:33 <ipython-input-6-edd6cd26e1c9>:200] valid Loss: 0.8483 RMSE: 0.9210\n",
      "[I 201215 17:58:33 <ipython-input-6-edd6cd26e1c9>:54] EarlyStopping counter: 3 out of 10\n",
      "[I 201215 17:58:33 <ipython-input-6-edd6cd26e1c9>:200] train Loss: 0.5228 RMSE: 0.7230\n",
      "[I 201215 17:58:33 <ipython-input-6-edd6cd26e1c9>:200] valid Loss: 0.8976 RMSE: 0.9474\n",
      "[I 201215 17:58:33 <ipython-input-6-edd6cd26e1c9>:54] EarlyStopping counter: 4 out of 10\n",
      "[I 201215 17:58:33 <ipython-input-6-edd6cd26e1c9>:200] train Loss: 0.5242 RMSE: 0.7240\n",
      "[I 201215 17:58:33 <ipython-input-6-edd6cd26e1c9>:200] valid Loss: 0.8631 RMSE: 0.9290\n",
      "[I 201215 17:58:33 <ipython-input-6-edd6cd26e1c9>:54] EarlyStopping counter: 5 out of 10\n"
     ]
    },
    {
     "name": "stdout",
     "output_type": "stream",
     "text": [
      "Epoch 60/1000\n",
      "----------\n"
     ]
    },
    {
     "name": "stderr",
     "output_type": "stream",
     "text": [
      "[I 201215 17:58:34 <ipython-input-6-edd6cd26e1c9>:200] train Loss: 0.5253 RMSE: 0.7248\n",
      "[I 201215 17:58:34 <ipython-input-6-edd6cd26e1c9>:200] valid Loss: 0.8255 RMSE: 0.9086\n",
      "[I 201215 17:58:34 <ipython-input-6-edd6cd26e1c9>:54] EarlyStopping counter: 6 out of 10\n",
      "[I 201215 17:58:34 <ipython-input-6-edd6cd26e1c9>:200] train Loss: 0.4970 RMSE: 0.7050\n",
      "[I 201215 17:58:34 <ipython-input-6-edd6cd26e1c9>:200] valid Loss: 0.8561 RMSE: 0.9253\n",
      "[I 201215 17:58:34 <ipython-input-6-edd6cd26e1c9>:54] EarlyStopping counter: 7 out of 10\n",
      "[I 201215 17:58:34 <ipython-input-6-edd6cd26e1c9>:200] train Loss: 0.4984 RMSE: 0.7060\n",
      "[I 201215 17:58:34 <ipython-input-6-edd6cd26e1c9>:200] valid Loss: 0.8595 RMSE: 0.9271\n",
      "[I 201215 17:58:34 <ipython-input-6-edd6cd26e1c9>:54] EarlyStopping counter: 8 out of 10\n",
      "[I 201215 17:58:34 <ipython-input-6-edd6cd26e1c9>:200] train Loss: 0.5074 RMSE: 0.7123\n",
      "[I 201215 17:58:34 <ipython-input-6-edd6cd26e1c9>:200] valid Loss: 0.8287 RMSE: 0.9103\n",
      "[I 201215 17:58:34 <ipython-input-6-edd6cd26e1c9>:54] EarlyStopping counter: 9 out of 10\n",
      "[I 201215 17:58:34 <ipython-input-6-edd6cd26e1c9>:200] train Loss: 0.4791 RMSE: 0.6922\n",
      "[I 201215 17:58:34 <ipython-input-6-edd6cd26e1c9>:200] valid Loss: 0.8293 RMSE: 0.9106\n",
      "[I 201215 17:58:34 <ipython-input-6-edd6cd26e1c9>:54] EarlyStopping counter: 10 out of 10\n",
      "[I 201215 17:58:34 <ipython-input-6-edd6cd26e1c9>:210] Early stopping\n",
      "[I 201215 17:58:34 <ipython-input-6-edd6cd26e1c9>:200] valid Loss: 11.1852 RMSE: 3.3444\n",
      "[I 201215 17:58:34 <ipython-input-6-edd6cd26e1c9>:65] Validation loss decreased (inf --> 11.185163).  Saving model ...\n",
      "[I 201215 17:58:34 <ipython-input-6-edd6cd26e1c9>:200] train Loss: 9.2366 RMSE: 3.0392\n",
      "[I 201215 17:58:34 <ipython-input-6-edd6cd26e1c9>:200] valid Loss: 7.7138 RMSE: 2.7774\n",
      "[I 201215 17:58:34 <ipython-input-6-edd6cd26e1c9>:65] Validation loss decreased (11.185163 --> 7.713783).  Saving model ...\n"
     ]
    },
    {
     "name": "stdout",
     "output_type": "stream",
     "text": [
      "Start 4 fold\n",
      "--------------------\n",
      "使用デバイス: cuda:0\n"
     ]
    },
    {
     "name": "stderr",
     "output_type": "stream",
     "text": [
      "[I 201215 17:58:34 <ipython-input-6-edd6cd26e1c9>:200] train Loss: 6.4806 RMSE: 2.5457\n",
      "[I 201215 17:58:34 <ipython-input-6-edd6cd26e1c9>:200] valid Loss: 4.9469 RMSE: 2.2242\n",
      "[I 201215 17:58:34 <ipython-input-6-edd6cd26e1c9>:65] Validation loss decreased (7.713783 --> 4.946923).  Saving model ...\n",
      "[I 201215 17:58:34 <ipython-input-6-edd6cd26e1c9>:200] train Loss: 4.7622 RMSE: 2.1822\n",
      "[I 201215 17:58:34 <ipython-input-6-edd6cd26e1c9>:200] valid Loss: 3.6689 RMSE: 1.9154\n",
      "[I 201215 17:58:34 <ipython-input-6-edd6cd26e1c9>:65] Validation loss decreased (4.946923 --> 3.668894).  Saving model ...\n",
      "[I 201215 17:58:34 <ipython-input-6-edd6cd26e1c9>:200] train Loss: 3.4898 RMSE: 1.8681\n",
      "[I 201215 17:58:34 <ipython-input-6-edd6cd26e1c9>:200] valid Loss: 2.8729 RMSE: 1.6950\n",
      "[I 201215 17:58:34 <ipython-input-6-edd6cd26e1c9>:65] Validation loss decreased (3.668894 --> 2.872933).  Saving model ...\n",
      "[I 201215 17:58:35 <ipython-input-6-edd6cd26e1c9>:200] train Loss: 2.5573 RMSE: 1.5991\n",
      "[I 201215 17:58:35 <ipython-input-6-edd6cd26e1c9>:200] valid Loss: 2.1925 RMSE: 1.4807\n",
      "[I 201215 17:58:35 <ipython-input-6-edd6cd26e1c9>:65] Validation loss decreased (2.872933 --> 2.192493).  Saving model ...\n",
      "[I 201215 17:58:35 <ipython-input-6-edd6cd26e1c9>:200] train Loss: 1.9103 RMSE: 1.3821\n",
      "[I 201215 17:58:35 <ipython-input-6-edd6cd26e1c9>:200] valid Loss: 1.8303 RMSE: 1.3529\n",
      "[I 201215 17:58:35 <ipython-input-6-edd6cd26e1c9>:65] Validation loss decreased (2.192493 --> 1.830327).  Saving model ...\n",
      "[I 201215 17:58:35 <ipython-input-6-edd6cd26e1c9>:200] train Loss: 1.4554 RMSE: 1.2064\n",
      "[I 201215 17:58:35 <ipython-input-6-edd6cd26e1c9>:200] valid Loss: 1.4887 RMSE: 1.2201\n",
      "[I 201215 17:58:35 <ipython-input-6-edd6cd26e1c9>:65] Validation loss decreased (1.830327 --> 1.488733).  Saving model ...\n",
      "[I 201215 17:58:35 <ipython-input-6-edd6cd26e1c9>:200] train Loss: 1.1599 RMSE: 1.0770\n",
      "[I 201215 17:58:35 <ipython-input-6-edd6cd26e1c9>:200] valid Loss: 1.2356 RMSE: 1.1116\n",
      "[I 201215 17:58:35 <ipython-input-6-edd6cd26e1c9>:65] Validation loss decreased (1.488733 --> 1.235575).  Saving model ...\n",
      "[I 201215 17:58:35 <ipython-input-6-edd6cd26e1c9>:200] train Loss: 0.9862 RMSE: 0.9931\n",
      "[I 201215 17:58:35 <ipython-input-6-edd6cd26e1c9>:200] valid Loss: 1.1874 RMSE: 1.0897\n",
      "[I 201215 17:58:35 <ipython-input-6-edd6cd26e1c9>:65] Validation loss decreased (1.235575 --> 1.187414).  Saving model ...\n",
      "[I 201215 17:58:35 <ipython-input-6-edd6cd26e1c9>:200] train Loss: 0.8927 RMSE: 0.9448\n",
      "[I 201215 17:58:35 <ipython-input-6-edd6cd26e1c9>:200] valid Loss: 1.0893 RMSE: 1.0437\n",
      "[I 201215 17:58:35 <ipython-input-6-edd6cd26e1c9>:65] Validation loss decreased (1.187414 --> 1.089263).  Saving model ...\n"
     ]
    },
    {
     "name": "stdout",
     "output_type": "stream",
     "text": [
      "Epoch 10/1000\n",
      "----------\n"
     ]
    },
    {
     "name": "stderr",
     "output_type": "stream",
     "text": [
      "[I 201215 17:58:35 <ipython-input-6-edd6cd26e1c9>:200] train Loss: 0.8177 RMSE: 0.9043\n",
      "[I 201215 17:58:35 <ipython-input-6-edd6cd26e1c9>:200] valid Loss: 1.0295 RMSE: 1.0146\n",
      "[I 201215 17:58:35 <ipython-input-6-edd6cd26e1c9>:65] Validation loss decreased (1.089263 --> 1.029505).  Saving model ...\n",
      "[I 201215 17:58:35 <ipython-input-6-edd6cd26e1c9>:200] train Loss: 0.7961 RMSE: 0.8923\n",
      "[I 201215 17:58:35 <ipython-input-6-edd6cd26e1c9>:200] valid Loss: 1.0018 RMSE: 1.0009\n",
      "[I 201215 17:58:35 <ipython-input-6-edd6cd26e1c9>:65] Validation loss decreased (1.029505 --> 1.001847).  Saving model ...\n",
      "[I 201215 17:58:35 <ipython-input-6-edd6cd26e1c9>:200] train Loss: 0.7504 RMSE: 0.8663\n",
      "[I 201215 17:58:35 <ipython-input-6-edd6cd26e1c9>:200] valid Loss: 0.9662 RMSE: 0.9829\n",
      "[I 201215 17:58:35 <ipython-input-6-edd6cd26e1c9>:65] Validation loss decreased (1.001847 --> 0.966174).  Saving model ...\n",
      "[I 201215 17:58:35 <ipython-input-6-edd6cd26e1c9>:200] train Loss: 0.7357 RMSE: 0.8577\n",
      "[I 201215 17:58:35 <ipython-input-6-edd6cd26e1c9>:200] valid Loss: 0.9369 RMSE: 0.9680\n",
      "[I 201215 17:58:35 <ipython-input-6-edd6cd26e1c9>:65] Validation loss decreased (0.966174 --> 0.936928).  Saving model ...\n",
      "[I 201215 17:58:36 <ipython-input-6-edd6cd26e1c9>:200] train Loss: 0.7196 RMSE: 0.8483\n",
      "[I 201215 17:58:36 <ipython-input-6-edd6cd26e1c9>:200] valid Loss: 0.9201 RMSE: 0.9592\n",
      "[I 201215 17:58:36 <ipython-input-6-edd6cd26e1c9>:65] Validation loss decreased (0.936928 --> 0.920091).  Saving model ...\n",
      "[I 201215 17:58:36 <ipython-input-6-edd6cd26e1c9>:200] train Loss: 0.6995 RMSE: 0.8364\n",
      "[I 201215 17:58:36 <ipython-input-6-edd6cd26e1c9>:200] valid Loss: 0.9165 RMSE: 0.9573\n",
      "[I 201215 17:58:36 <ipython-input-6-edd6cd26e1c9>:65] Validation loss decreased (0.920091 --> 0.916514).  Saving model ...\n",
      "[I 201215 17:58:36 <ipython-input-6-edd6cd26e1c9>:200] train Loss: 0.6960 RMSE: 0.8342\n",
      "[I 201215 17:58:36 <ipython-input-6-edd6cd26e1c9>:200] valid Loss: 0.9084 RMSE: 0.9531\n",
      "[I 201215 17:58:36 <ipython-input-6-edd6cd26e1c9>:65] Validation loss decreased (0.916514 --> 0.908400).  Saving model ...\n",
      "[I 201215 17:58:36 <ipython-input-6-edd6cd26e1c9>:200] train Loss: 0.6754 RMSE: 0.8218\n",
      "[I 201215 17:58:36 <ipython-input-6-edd6cd26e1c9>:200] valid Loss: 0.8905 RMSE: 0.9437\n",
      "[I 201215 17:58:36 <ipython-input-6-edd6cd26e1c9>:65] Validation loss decreased (0.908400 --> 0.890526).  Saving model ...\n",
      "[I 201215 17:58:36 <ipython-input-6-edd6cd26e1c9>:200] train Loss: 0.6616 RMSE: 0.8134\n",
      "[I 201215 17:58:36 <ipython-input-6-edd6cd26e1c9>:200] valid Loss: 0.8947 RMSE: 0.9459\n",
      "[I 201215 17:58:36 <ipython-input-6-edd6cd26e1c9>:54] EarlyStopping counter: 1 out of 10\n",
      "[I 201215 17:58:36 <ipython-input-6-edd6cd26e1c9>:200] train Loss: 0.6616 RMSE: 0.8134\n",
      "[I 201215 17:58:36 <ipython-input-6-edd6cd26e1c9>:200] valid Loss: 0.8821 RMSE: 0.9392\n",
      "[I 201215 17:58:36 <ipython-input-6-edd6cd26e1c9>:65] Validation loss decreased (0.890526 --> 0.882085).  Saving model ...\n"
     ]
    },
    {
     "name": "stdout",
     "output_type": "stream",
     "text": [
      "Epoch 20/1000\n",
      "----------\n"
     ]
    },
    {
     "name": "stderr",
     "output_type": "stream",
     "text": [
      "[I 201215 17:58:36 <ipython-input-6-edd6cd26e1c9>:200] train Loss: 0.6525 RMSE: 0.8078\n",
      "[I 201215 17:58:36 <ipython-input-6-edd6cd26e1c9>:200] valid Loss: 0.8922 RMSE: 0.9446\n",
      "[I 201215 17:58:36 <ipython-input-6-edd6cd26e1c9>:54] EarlyStopping counter: 1 out of 10\n",
      "[I 201215 17:58:36 <ipython-input-6-edd6cd26e1c9>:200] train Loss: 0.6419 RMSE: 0.8012\n",
      "[I 201215 17:58:36 <ipython-input-6-edd6cd26e1c9>:200] valid Loss: 0.8825 RMSE: 0.9394\n",
      "[I 201215 17:58:36 <ipython-input-6-edd6cd26e1c9>:54] EarlyStopping counter: 2 out of 10\n",
      "[I 201215 17:58:36 <ipython-input-6-edd6cd26e1c9>:200] train Loss: 0.6186 RMSE: 0.7865\n",
      "[I 201215 17:58:36 <ipython-input-6-edd6cd26e1c9>:200] valid Loss: 0.8763 RMSE: 0.9361\n",
      "[I 201215 17:58:36 <ipython-input-6-edd6cd26e1c9>:65] Validation loss decreased (0.882085 --> 0.876337).  Saving model ...\n",
      "[I 201215 17:58:36 <ipython-input-6-edd6cd26e1c9>:200] train Loss: 0.6192 RMSE: 0.7869\n",
      "[I 201215 17:58:36 <ipython-input-6-edd6cd26e1c9>:200] valid Loss: 0.8730 RMSE: 0.9343\n",
      "[I 201215 17:58:36 <ipython-input-6-edd6cd26e1c9>:65] Validation loss decreased (0.876337 --> 0.873006).  Saving model ...\n",
      "[I 201215 17:58:37 <ipython-input-6-edd6cd26e1c9>:200] train Loss: 0.6224 RMSE: 0.7889\n",
      "[I 201215 17:58:37 <ipython-input-6-edd6cd26e1c9>:200] valid Loss: 0.8722 RMSE: 0.9339\n",
      "[I 201215 17:58:37 <ipython-input-6-edd6cd26e1c9>:65] Validation loss decreased (0.873006 --> 0.872192).  Saving model ...\n",
      "[I 201215 17:58:37 <ipython-input-6-edd6cd26e1c9>:200] train Loss: 0.6150 RMSE: 0.7842\n",
      "[I 201215 17:58:37 <ipython-input-6-edd6cd26e1c9>:200] valid Loss: 0.8744 RMSE: 0.9351\n",
      "[I 201215 17:58:37 <ipython-input-6-edd6cd26e1c9>:54] EarlyStopping counter: 1 out of 10\n",
      "[I 201215 17:58:37 <ipython-input-6-edd6cd26e1c9>:200] train Loss: 0.6151 RMSE: 0.7843\n",
      "[I 201215 17:58:37 <ipython-input-6-edd6cd26e1c9>:200] valid Loss: 0.8711 RMSE: 0.9333\n",
      "[I 201215 17:58:37 <ipython-input-6-edd6cd26e1c9>:65] Validation loss decreased (0.872192 --> 0.871099).  Saving model ...\n",
      "[I 201215 17:58:37 <ipython-input-6-edd6cd26e1c9>:200] train Loss: 0.6148 RMSE: 0.7841\n",
      "[I 201215 17:58:37 <ipython-input-6-edd6cd26e1c9>:200] valid Loss: 0.8721 RMSE: 0.9339\n",
      "[I 201215 17:58:37 <ipython-input-6-edd6cd26e1c9>:54] EarlyStopping counter: 1 out of 10\n",
      "[I 201215 17:58:37 <ipython-input-6-edd6cd26e1c9>:200] train Loss: 0.6090 RMSE: 0.7804\n",
      "[I 201215 17:58:37 <ipython-input-6-edd6cd26e1c9>:200] valid Loss: 0.8722 RMSE: 0.9339\n",
      "[I 201215 17:58:37 <ipython-input-6-edd6cd26e1c9>:54] EarlyStopping counter: 2 out of 10\n",
      "[I 201215 17:58:37 <ipython-input-6-edd6cd26e1c9>:200] train Loss: 0.6231 RMSE: 0.7893\n",
      "[I 201215 17:58:37 <ipython-input-6-edd6cd26e1c9>:200] valid Loss: 0.8700 RMSE: 0.9327\n",
      "[I 201215 17:58:37 <ipython-input-6-edd6cd26e1c9>:65] Validation loss decreased (0.871099 --> 0.869958).  Saving model ...\n"
     ]
    },
    {
     "name": "stdout",
     "output_type": "stream",
     "text": [
      "Epoch 30/1000\n",
      "----------\n"
     ]
    },
    {
     "name": "stderr",
     "output_type": "stream",
     "text": [
      "[I 201215 17:58:37 <ipython-input-6-edd6cd26e1c9>:200] train Loss: 0.6165 RMSE: 0.7852\n",
      "[I 201215 17:58:37 <ipython-input-6-edd6cd26e1c9>:200] valid Loss: 0.8695 RMSE: 0.9325\n",
      "[I 201215 17:58:37 <ipython-input-6-edd6cd26e1c9>:65] Validation loss decreased (0.869958 --> 0.869530).  Saving model ...\n",
      "[I 201215 17:58:37 <ipython-input-6-edd6cd26e1c9>:200] train Loss: 0.6125 RMSE: 0.7826\n",
      "[I 201215 17:58:37 <ipython-input-6-edd6cd26e1c9>:200] valid Loss: 0.8708 RMSE: 0.9332\n",
      "[I 201215 17:58:37 <ipython-input-6-edd6cd26e1c9>:54] EarlyStopping counter: 1 out of 10\n",
      "[I 201215 17:58:37 <ipython-input-6-edd6cd26e1c9>:200] train Loss: 0.6034 RMSE: 0.7768\n",
      "[I 201215 17:58:37 <ipython-input-6-edd6cd26e1c9>:200] valid Loss: 0.8731 RMSE: 0.9344\n",
      "[I 201215 17:58:37 <ipython-input-6-edd6cd26e1c9>:54] EarlyStopping counter: 2 out of 10\n",
      "[I 201215 17:58:37 <ipython-input-6-edd6cd26e1c9>:200] train Loss: 0.6070 RMSE: 0.7791\n",
      "[I 201215 17:58:37 <ipython-input-6-edd6cd26e1c9>:200] valid Loss: 0.8699 RMSE: 0.9327\n",
      "[I 201215 17:58:37 <ipython-input-6-edd6cd26e1c9>:54] EarlyStopping counter: 3 out of 10\n",
      "[I 201215 17:58:38 <ipython-input-6-edd6cd26e1c9>:200] train Loss: 0.6097 RMSE: 0.7808\n",
      "[I 201215 17:58:38 <ipython-input-6-edd6cd26e1c9>:200] valid Loss: 0.8730 RMSE: 0.9343\n",
      "[I 201215 17:58:38 <ipython-input-6-edd6cd26e1c9>:54] EarlyStopping counter: 4 out of 10\n",
      "[I 201215 17:58:38 <ipython-input-6-edd6cd26e1c9>:200] train Loss: 0.6083 RMSE: 0.7799\n",
      "[I 201215 17:58:38 <ipython-input-6-edd6cd26e1c9>:200] valid Loss: 0.8739 RMSE: 0.9348\n",
      "[I 201215 17:58:38 <ipython-input-6-edd6cd26e1c9>:54] EarlyStopping counter: 5 out of 10\n",
      "[I 201215 17:58:38 <ipython-input-6-edd6cd26e1c9>:200] train Loss: 0.6130 RMSE: 0.7829\n",
      "[I 201215 17:58:38 <ipython-input-6-edd6cd26e1c9>:200] valid Loss: 0.8688 RMSE: 0.9321\n",
      "[I 201215 17:58:38 <ipython-input-6-edd6cd26e1c9>:65] Validation loss decreased (0.869530 --> 0.868777).  Saving model ...\n",
      "[I 201215 17:58:38 <ipython-input-6-edd6cd26e1c9>:200] train Loss: 0.6164 RMSE: 0.7851\n",
      "[I 201215 17:58:38 <ipython-input-6-edd6cd26e1c9>:200] valid Loss: 0.8751 RMSE: 0.9354\n",
      "[I 201215 17:58:38 <ipython-input-6-edd6cd26e1c9>:54] EarlyStopping counter: 1 out of 10\n",
      "[I 201215 17:58:38 <ipython-input-6-edd6cd26e1c9>:200] train Loss: 0.6123 RMSE: 0.7825\n",
      "[I 201215 17:58:38 <ipython-input-6-edd6cd26e1c9>:200] valid Loss: 0.8745 RMSE: 0.9351\n",
      "[I 201215 17:58:38 <ipython-input-6-edd6cd26e1c9>:54] EarlyStopping counter: 2 out of 10\n",
      "[I 201215 17:58:38 <ipython-input-6-edd6cd26e1c9>:200] train Loss: 0.6056 RMSE: 0.7782\n",
      "[I 201215 17:58:38 <ipython-input-6-edd6cd26e1c9>:200] valid Loss: 0.8750 RMSE: 0.9354\n",
      "[I 201215 17:58:38 <ipython-input-6-edd6cd26e1c9>:54] EarlyStopping counter: 3 out of 10\n"
     ]
    },
    {
     "name": "stdout",
     "output_type": "stream",
     "text": [
      "Epoch 40/1000\n",
      "----------\n"
     ]
    },
    {
     "name": "stderr",
     "output_type": "stream",
     "text": [
      "[I 201215 17:58:38 <ipython-input-6-edd6cd26e1c9>:200] train Loss: 0.6044 RMSE: 0.7774\n",
      "[I 201215 17:58:38 <ipython-input-6-edd6cd26e1c9>:200] valid Loss: 0.8765 RMSE: 0.9362\n",
      "[I 201215 17:58:38 <ipython-input-6-edd6cd26e1c9>:54] EarlyStopping counter: 4 out of 10\n",
      "[I 201215 17:58:38 <ipython-input-6-edd6cd26e1c9>:200] train Loss: 0.6073 RMSE: 0.7793\n",
      "[I 201215 17:58:38 <ipython-input-6-edd6cd26e1c9>:200] valid Loss: 0.8743 RMSE: 0.9350\n",
      "[I 201215 17:58:38 <ipython-input-6-edd6cd26e1c9>:54] EarlyStopping counter: 5 out of 10\n",
      "[I 201215 17:58:38 <ipython-input-6-edd6cd26e1c9>:200] train Loss: 0.6065 RMSE: 0.7788\n",
      "[I 201215 17:58:38 <ipython-input-6-edd6cd26e1c9>:200] valid Loss: 0.8688 RMSE: 0.9321\n",
      "[I 201215 17:58:38 <ipython-input-6-edd6cd26e1c9>:65] Validation loss decreased (0.868777 --> 0.868766).  Saving model ...\n",
      "[I 201215 17:58:38 <ipython-input-6-edd6cd26e1c9>:200] train Loss: 0.6009 RMSE: 0.7752\n",
      "[I 201215 17:58:38 <ipython-input-6-edd6cd26e1c9>:200] valid Loss: 0.8932 RMSE: 0.9451\n",
      "[I 201215 17:58:38 <ipython-input-6-edd6cd26e1c9>:54] EarlyStopping counter: 1 out of 10\n",
      "[I 201215 17:58:39 <ipython-input-6-edd6cd26e1c9>:200] train Loss: 0.6011 RMSE: 0.7753\n",
      "[I 201215 17:58:39 <ipython-input-6-edd6cd26e1c9>:200] valid Loss: 0.8797 RMSE: 0.9379\n",
      "[I 201215 17:58:39 <ipython-input-6-edd6cd26e1c9>:54] EarlyStopping counter: 2 out of 10\n",
      "[I 201215 17:58:39 <ipython-input-6-edd6cd26e1c9>:200] train Loss: 0.5822 RMSE: 0.7630\n",
      "[I 201215 17:58:39 <ipython-input-6-edd6cd26e1c9>:200] valid Loss: 0.8763 RMSE: 0.9361\n",
      "[I 201215 17:58:39 <ipython-input-6-edd6cd26e1c9>:54] EarlyStopping counter: 3 out of 10\n",
      "[I 201215 17:58:39 <ipython-input-6-edd6cd26e1c9>:200] train Loss: 0.5988 RMSE: 0.7738\n",
      "[I 201215 17:58:39 <ipython-input-6-edd6cd26e1c9>:200] valid Loss: 0.8655 RMSE: 0.9303\n",
      "[I 201215 17:58:39 <ipython-input-6-edd6cd26e1c9>:65] Validation loss decreased (0.868766 --> 0.865502).  Saving model ...\n",
      "[I 201215 17:58:39 <ipython-input-6-edd6cd26e1c9>:200] train Loss: 0.5755 RMSE: 0.7586\n",
      "[I 201215 17:58:39 <ipython-input-6-edd6cd26e1c9>:200] valid Loss: 0.8763 RMSE: 0.9361\n",
      "[I 201215 17:58:39 <ipython-input-6-edd6cd26e1c9>:54] EarlyStopping counter: 1 out of 10\n",
      "[I 201215 17:58:39 <ipython-input-6-edd6cd26e1c9>:200] train Loss: 0.5821 RMSE: 0.7629\n",
      "[I 201215 17:58:39 <ipython-input-6-edd6cd26e1c9>:200] valid Loss: 0.8814 RMSE: 0.9388\n",
      "[I 201215 17:58:39 <ipython-input-6-edd6cd26e1c9>:54] EarlyStopping counter: 2 out of 10\n"
     ]
    },
    {
     "name": "stdout",
     "output_type": "stream",
     "text": [
      "Epoch 50/1000\n",
      "----------\n"
     ]
    },
    {
     "name": "stderr",
     "output_type": "stream",
     "text": [
      "[I 201215 17:58:39 <ipython-input-6-edd6cd26e1c9>:200] train Loss: 0.5698 RMSE: 0.7549\n",
      "[I 201215 17:58:39 <ipython-input-6-edd6cd26e1c9>:200] valid Loss: 0.8640 RMSE: 0.9295\n",
      "[I 201215 17:58:39 <ipython-input-6-edd6cd26e1c9>:65] Validation loss decreased (0.865502 --> 0.863967).  Saving model ...\n",
      "[I 201215 17:58:39 <ipython-input-6-edd6cd26e1c9>:200] train Loss: 0.5600 RMSE: 0.7483\n",
      "[I 201215 17:58:39 <ipython-input-6-edd6cd26e1c9>:200] valid Loss: 0.8926 RMSE: 0.9448\n",
      "[I 201215 17:58:39 <ipython-input-6-edd6cd26e1c9>:54] EarlyStopping counter: 1 out of 10\n",
      "[I 201215 17:58:39 <ipython-input-6-edd6cd26e1c9>:200] train Loss: 0.5719 RMSE: 0.7563\n",
      "[I 201215 17:58:39 <ipython-input-6-edd6cd26e1c9>:200] valid Loss: 0.8794 RMSE: 0.9378\n",
      "[I 201215 17:58:39 <ipython-input-6-edd6cd26e1c9>:54] EarlyStopping counter: 2 out of 10\n",
      "[I 201215 17:58:39 <ipython-input-6-edd6cd26e1c9>:200] train Loss: 0.5654 RMSE: 0.7520\n",
      "[I 201215 17:58:39 <ipython-input-6-edd6cd26e1c9>:200] valid Loss: 0.8503 RMSE: 0.9221\n",
      "[I 201215 17:58:39 <ipython-input-6-edd6cd26e1c9>:65] Validation loss decreased (0.863967 --> 0.850345).  Saving model ...\n",
      "[I 201215 17:58:39 <ipython-input-6-edd6cd26e1c9>:200] train Loss: 0.5602 RMSE: 0.7484\n",
      "[I 201215 17:58:39 <ipython-input-6-edd6cd26e1c9>:200] valid Loss: 0.8568 RMSE: 0.9256\n",
      "[I 201215 17:58:39 <ipython-input-6-edd6cd26e1c9>:54] EarlyStopping counter: 1 out of 10\n",
      "[I 201215 17:58:40 <ipython-input-6-edd6cd26e1c9>:200] train Loss: 0.5689 RMSE: 0.7543\n",
      "[I 201215 17:58:40 <ipython-input-6-edd6cd26e1c9>:200] valid Loss: 0.8734 RMSE: 0.9346\n",
      "[I 201215 17:58:40 <ipython-input-6-edd6cd26e1c9>:54] EarlyStopping counter: 2 out of 10\n",
      "[I 201215 17:58:40 <ipython-input-6-edd6cd26e1c9>:200] train Loss: 0.5561 RMSE: 0.7457\n",
      "[I 201215 17:58:40 <ipython-input-6-edd6cd26e1c9>:200] valid Loss: 0.8608 RMSE: 0.9278\n",
      "[I 201215 17:58:40 <ipython-input-6-edd6cd26e1c9>:54] EarlyStopping counter: 3 out of 10\n",
      "[I 201215 17:58:40 <ipython-input-6-edd6cd26e1c9>:200] train Loss: 0.5350 RMSE: 0.7315\n",
      "[I 201215 17:58:40 <ipython-input-6-edd6cd26e1c9>:200] valid Loss: 0.8727 RMSE: 0.9342\n",
      "[I 201215 17:58:40 <ipython-input-6-edd6cd26e1c9>:54] EarlyStopping counter: 4 out of 10\n",
      "[I 201215 17:58:40 <ipython-input-6-edd6cd26e1c9>:200] train Loss: 0.5372 RMSE: 0.7330\n",
      "[I 201215 17:58:40 <ipython-input-6-edd6cd26e1c9>:200] valid Loss: 0.8635 RMSE: 0.9293\n",
      "[I 201215 17:58:40 <ipython-input-6-edd6cd26e1c9>:54] EarlyStopping counter: 5 out of 10\n",
      "[I 201215 17:58:40 <ipython-input-6-edd6cd26e1c9>:200] train Loss: 0.5387 RMSE: 0.7340\n",
      "[I 201215 17:58:40 <ipython-input-6-edd6cd26e1c9>:200] valid Loss: 0.8715 RMSE: 0.9335\n",
      "[I 201215 17:58:40 <ipython-input-6-edd6cd26e1c9>:54] EarlyStopping counter: 6 out of 10\n",
      "[I 201215 17:58:40 <ipython-input-6-edd6cd26e1c9>:200] train Loss: 0.5229 RMSE: 0.7231\n",
      "[I 201215 17:58:40 <ipython-input-6-edd6cd26e1c9>:200] valid Loss: 0.8808 RMSE: 0.9385\n",
      "[I 201215 17:58:40 <ipython-input-6-edd6cd26e1c9>:54] EarlyStopping counter: 7 out of 10\n"
     ]
    },
    {
     "name": "stdout",
     "output_type": "stream",
     "text": [
      "Epoch 60/1000\n",
      "----------\n"
     ]
    },
    {
     "name": "stderr",
     "output_type": "stream",
     "text": [
      "[I 201215 17:58:40 <ipython-input-6-edd6cd26e1c9>:200] train Loss: 0.4989 RMSE: 0.7063\n",
      "[I 201215 17:58:40 <ipython-input-6-edd6cd26e1c9>:200] valid Loss: 0.8603 RMSE: 0.9275\n",
      "[I 201215 17:58:40 <ipython-input-6-edd6cd26e1c9>:54] EarlyStopping counter: 8 out of 10\n",
      "[I 201215 17:58:40 <ipython-input-6-edd6cd26e1c9>:200] train Loss: 0.5451 RMSE: 0.7383\n",
      "[I 201215 17:58:40 <ipython-input-6-edd6cd26e1c9>:200] valid Loss: 0.8792 RMSE: 0.9376\n",
      "[I 201215 17:58:40 <ipython-input-6-edd6cd26e1c9>:54] EarlyStopping counter: 9 out of 10\n",
      "[I 201215 17:58:40 <ipython-input-6-edd6cd26e1c9>:200] train Loss: 0.5431 RMSE: 0.7370\n",
      "[I 201215 17:58:40 <ipython-input-6-edd6cd26e1c9>:200] valid Loss: 0.8350 RMSE: 0.9138\n",
      "[I 201215 17:58:40 <ipython-input-6-edd6cd26e1c9>:65] Validation loss decreased (0.850345 --> 0.835020).  Saving model ...\n",
      "[I 201215 17:58:40 <ipython-input-6-edd6cd26e1c9>:200] train Loss: 0.5012 RMSE: 0.7080\n",
      "[I 201215 17:58:40 <ipython-input-6-edd6cd26e1c9>:200] valid Loss: 0.8740 RMSE: 0.9349\n",
      "[I 201215 17:58:40 <ipython-input-6-edd6cd26e1c9>:54] EarlyStopping counter: 1 out of 10\n",
      "[I 201215 17:58:41 <ipython-input-6-edd6cd26e1c9>:200] train Loss: 0.4867 RMSE: 0.6976\n",
      "[I 201215 17:58:41 <ipython-input-6-edd6cd26e1c9>:200] valid Loss: 0.8653 RMSE: 0.9302\n",
      "[I 201215 17:58:41 <ipython-input-6-edd6cd26e1c9>:54] EarlyStopping counter: 2 out of 10\n",
      "[I 201215 17:58:41 <ipython-input-6-edd6cd26e1c9>:200] train Loss: 0.4869 RMSE: 0.6978\n",
      "[I 201215 17:58:41 <ipython-input-6-edd6cd26e1c9>:200] valid Loss: 0.8537 RMSE: 0.9240\n",
      "[I 201215 17:58:41 <ipython-input-6-edd6cd26e1c9>:54] EarlyStopping counter: 3 out of 10\n",
      "[I 201215 17:58:41 <ipython-input-6-edd6cd26e1c9>:200] train Loss: 0.4752 RMSE: 0.6893\n",
      "[I 201215 17:58:41 <ipython-input-6-edd6cd26e1c9>:200] valid Loss: 0.8394 RMSE: 0.9162\n",
      "[I 201215 17:58:41 <ipython-input-6-edd6cd26e1c9>:54] EarlyStopping counter: 4 out of 10\n",
      "[I 201215 17:58:41 <ipython-input-6-edd6cd26e1c9>:200] train Loss: 0.4570 RMSE: 0.6760\n",
      "[I 201215 17:58:41 <ipython-input-6-edd6cd26e1c9>:200] valid Loss: 0.8670 RMSE: 0.9311\n",
      "[I 201215 17:58:41 <ipython-input-6-edd6cd26e1c9>:54] EarlyStopping counter: 5 out of 10\n",
      "[I 201215 17:58:41 <ipython-input-6-edd6cd26e1c9>:200] train Loss: 0.4614 RMSE: 0.6792\n",
      "[I 201215 17:58:41 <ipython-input-6-edd6cd26e1c9>:200] valid Loss: 0.8679 RMSE: 0.9316\n",
      "[I 201215 17:58:41 <ipython-input-6-edd6cd26e1c9>:54] EarlyStopping counter: 6 out of 10\n",
      "[I 201215 17:58:41 <ipython-input-6-edd6cd26e1c9>:200] train Loss: 0.4547 RMSE: 0.6744\n",
      "[I 201215 17:58:41 <ipython-input-6-edd6cd26e1c9>:200] valid Loss: 0.8649 RMSE: 0.9300\n",
      "[I 201215 17:58:41 <ipython-input-6-edd6cd26e1c9>:54] EarlyStopping counter: 7 out of 10\n"
     ]
    },
    {
     "name": "stdout",
     "output_type": "stream",
     "text": [
      "Epoch 70/1000\n",
      "----------\n"
     ]
    },
    {
     "name": "stderr",
     "output_type": "stream",
     "text": [
      "[I 201215 17:58:41 <ipython-input-6-edd6cd26e1c9>:200] train Loss: 0.4460 RMSE: 0.6679\n",
      "[I 201215 17:58:41 <ipython-input-6-edd6cd26e1c9>:200] valid Loss: 0.8599 RMSE: 0.9273\n",
      "[I 201215 17:58:41 <ipython-input-6-edd6cd26e1c9>:54] EarlyStopping counter: 8 out of 10\n",
      "[I 201215 17:58:41 <ipython-input-6-edd6cd26e1c9>:200] train Loss: 0.4359 RMSE: 0.6602\n",
      "[I 201215 17:58:41 <ipython-input-6-edd6cd26e1c9>:200] valid Loss: 0.8644 RMSE: 0.9297\n",
      "[I 201215 17:58:41 <ipython-input-6-edd6cd26e1c9>:54] EarlyStopping counter: 9 out of 10\n",
      "[I 201215 17:58:41 <ipython-input-6-edd6cd26e1c9>:200] train Loss: 0.4408 RMSE: 0.6639\n",
      "[I 201215 17:58:41 <ipython-input-6-edd6cd26e1c9>:200] valid Loss: 0.8695 RMSE: 0.9325\n",
      "[I 201215 17:58:41 <ipython-input-6-edd6cd26e1c9>:54] EarlyStopping counter: 10 out of 10\n",
      "[I 201215 17:58:41 <ipython-input-6-edd6cd26e1c9>:210] Early stopping\n",
      "[I 201215 17:58:41 <ipython-input-6-edd6cd26e1c9>:200] valid Loss: 10.4052 RMSE: 3.2257\n",
      "[I 201215 17:58:41 <ipython-input-6-edd6cd26e1c9>:65] Validation loss decreased (inf --> 10.405182).  Saving model ...\n",
      "[I 201215 17:58:42 <ipython-input-6-edd6cd26e1c9>:200] train Loss: 7.6628 RMSE: 2.7682\n",
      "[I 201215 17:58:42 <ipython-input-6-edd6cd26e1c9>:200] valid Loss: 6.1024 RMSE: 2.4703\n",
      "[I 201215 17:58:42 <ipython-input-6-edd6cd26e1c9>:65] Validation loss decreased (10.405182 --> 6.102438).  Saving model ...\n"
     ]
    },
    {
     "name": "stdout",
     "output_type": "stream",
     "text": [
      "Start 5 fold\n",
      "--------------------\n",
      "使用デバイス: cuda:0\n"
     ]
    },
    {
     "name": "stderr",
     "output_type": "stream",
     "text": [
      "[I 201215 17:58:42 <ipython-input-6-edd6cd26e1c9>:200] train Loss: 5.3342 RMSE: 2.3096\n",
      "[I 201215 17:58:42 <ipython-input-6-edd6cd26e1c9>:200] valid Loss: 3.5721 RMSE: 1.8900\n",
      "[I 201215 17:58:42 <ipython-input-6-edd6cd26e1c9>:65] Validation loss decreased (6.102438 --> 3.572141).  Saving model ...\n",
      "[I 201215 17:58:42 <ipython-input-6-edd6cd26e1c9>:200] train Loss: 3.7784 RMSE: 1.9438\n",
      "[I 201215 17:58:42 <ipython-input-6-edd6cd26e1c9>:200] valid Loss: 2.4276 RMSE: 1.5581\n",
      "[I 201215 17:58:42 <ipython-input-6-edd6cd26e1c9>:65] Validation loss decreased (3.572141 --> 2.427609).  Saving model ...\n",
      "[I 201215 17:58:42 <ipython-input-6-edd6cd26e1c9>:200] train Loss: 2.6629 RMSE: 1.6318\n",
      "[I 201215 17:58:42 <ipython-input-6-edd6cd26e1c9>:200] valid Loss: 1.8254 RMSE: 1.3511\n",
      "[I 201215 17:58:42 <ipython-input-6-edd6cd26e1c9>:65] Validation loss decreased (2.427609 --> 1.825360).  Saving model ...\n",
      "[I 201215 17:58:42 <ipython-input-6-edd6cd26e1c9>:200] train Loss: 1.9327 RMSE: 1.3902\n",
      "[I 201215 17:58:42 <ipython-input-6-edd6cd26e1c9>:200] valid Loss: 1.4099 RMSE: 1.1874\n",
      "[I 201215 17:58:42 <ipython-input-6-edd6cd26e1c9>:65] Validation loss decreased (1.825360 --> 1.409862).  Saving model ...\n",
      "[I 201215 17:58:42 <ipython-input-6-edd6cd26e1c9>:200] train Loss: 1.4263 RMSE: 1.1943\n",
      "[I 201215 17:58:42 <ipython-input-6-edd6cd26e1c9>:200] valid Loss: 1.2669 RMSE: 1.1256\n",
      "[I 201215 17:58:42 <ipython-input-6-edd6cd26e1c9>:65] Validation loss decreased (1.409862 --> 1.266916).  Saving model ...\n",
      "[I 201215 17:58:42 <ipython-input-6-edd6cd26e1c9>:200] train Loss: 1.1343 RMSE: 1.0651\n",
      "[I 201215 17:58:42 <ipython-input-6-edd6cd26e1c9>:200] valid Loss: 1.0621 RMSE: 1.0306\n",
      "[I 201215 17:58:42 <ipython-input-6-edd6cd26e1c9>:65] Validation loss decreased (1.266916 --> 1.062062).  Saving model ...\n",
      "[I 201215 17:58:42 <ipython-input-6-edd6cd26e1c9>:200] train Loss: 0.9771 RMSE: 0.9885\n",
      "[I 201215 17:58:42 <ipython-input-6-edd6cd26e1c9>:200] valid Loss: 0.9735 RMSE: 0.9866\n",
      "[I 201215 17:58:42 <ipython-input-6-edd6cd26e1c9>:65] Validation loss decreased (1.062062 --> 0.973452).  Saving model ...\n",
      "[I 201215 17:58:42 <ipython-input-6-edd6cd26e1c9>:200] train Loss: 0.8759 RMSE: 0.9359\n",
      "[I 201215 17:58:42 <ipython-input-6-edd6cd26e1c9>:200] valid Loss: 0.8796 RMSE: 0.9379\n",
      "[I 201215 17:58:42 <ipython-input-6-edd6cd26e1c9>:65] Validation loss decreased (0.973452 --> 0.879597).  Saving model ...\n",
      "[I 201215 17:58:42 <ipython-input-6-edd6cd26e1c9>:200] train Loss: 0.8396 RMSE: 0.9163\n",
      "[I 201215 17:58:42 <ipython-input-6-edd6cd26e1c9>:200] valid Loss: 0.8840 RMSE: 0.9402\n",
      "[I 201215 17:58:42 <ipython-input-6-edd6cd26e1c9>:54] EarlyStopping counter: 1 out of 10\n"
     ]
    },
    {
     "name": "stdout",
     "output_type": "stream",
     "text": [
      "Epoch 10/1000\n",
      "----------\n"
     ]
    },
    {
     "name": "stderr",
     "output_type": "stream",
     "text": [
      "[I 201215 17:58:43 <ipython-input-6-edd6cd26e1c9>:200] train Loss: 0.7968 RMSE: 0.8927\n",
      "[I 201215 17:58:43 <ipython-input-6-edd6cd26e1c9>:200] valid Loss: 0.8360 RMSE: 0.9143\n",
      "[I 201215 17:58:43 <ipython-input-6-edd6cd26e1c9>:65] Validation loss decreased (0.879597 --> 0.836018).  Saving model ...\n",
      "[I 201215 17:58:43 <ipython-input-6-edd6cd26e1c9>:200] train Loss: 0.7707 RMSE: 0.8779\n",
      "[I 201215 17:58:43 <ipython-input-6-edd6cd26e1c9>:200] valid Loss: 0.8279 RMSE: 0.9099\n",
      "[I 201215 17:58:43 <ipython-input-6-edd6cd26e1c9>:65] Validation loss decreased (0.836018 --> 0.827939).  Saving model ...\n",
      "[I 201215 17:58:43 <ipython-input-6-edd6cd26e1c9>:200] train Loss: 0.7581 RMSE: 0.8707\n",
      "[I 201215 17:58:43 <ipython-input-6-edd6cd26e1c9>:200] valid Loss: 0.7932 RMSE: 0.8906\n",
      "[I 201215 17:58:43 <ipython-input-6-edd6cd26e1c9>:65] Validation loss decreased (0.827939 --> 0.793232).  Saving model ...\n",
      "[I 201215 17:58:43 <ipython-input-6-edd6cd26e1c9>:200] train Loss: 0.7317 RMSE: 0.8554\n",
      "[I 201215 17:58:43 <ipython-input-6-edd6cd26e1c9>:200] valid Loss: 0.7990 RMSE: 0.8939\n",
      "[I 201215 17:58:43 <ipython-input-6-edd6cd26e1c9>:54] EarlyStopping counter: 1 out of 10\n",
      "[I 201215 17:58:43 <ipython-input-6-edd6cd26e1c9>:200] train Loss: 0.7231 RMSE: 0.8504\n",
      "[I 201215 17:58:43 <ipython-input-6-edd6cd26e1c9>:200] valid Loss: 0.7783 RMSE: 0.8822\n",
      "[I 201215 17:58:43 <ipython-input-6-edd6cd26e1c9>:65] Validation loss decreased (0.793232 --> 0.778271).  Saving model ...\n",
      "[I 201215 17:58:43 <ipython-input-6-edd6cd26e1c9>:200] train Loss: 0.6953 RMSE: 0.8339\n",
      "[I 201215 17:58:43 <ipython-input-6-edd6cd26e1c9>:200] valid Loss: 0.7676 RMSE: 0.8762\n",
      "[I 201215 17:58:43 <ipython-input-6-edd6cd26e1c9>:65] Validation loss decreased (0.778271 --> 0.767645).  Saving model ...\n",
      "[I 201215 17:58:43 <ipython-input-6-edd6cd26e1c9>:200] train Loss: 0.6664 RMSE: 0.8163\n",
      "[I 201215 17:58:43 <ipython-input-6-edd6cd26e1c9>:200] valid Loss: 0.7734 RMSE: 0.8794\n",
      "[I 201215 17:58:43 <ipython-input-6-edd6cd26e1c9>:54] EarlyStopping counter: 1 out of 10\n",
      "[I 201215 17:58:43 <ipython-input-6-edd6cd26e1c9>:200] train Loss: 0.6720 RMSE: 0.8198\n",
      "[I 201215 17:58:43 <ipython-input-6-edd6cd26e1c9>:200] valid Loss: 0.7615 RMSE: 0.8727\n",
      "[I 201215 17:58:43 <ipython-input-6-edd6cd26e1c9>:65] Validation loss decreased (0.767645 --> 0.761519).  Saving model ...\n",
      "[I 201215 17:58:43 <ipython-input-6-edd6cd26e1c9>:200] train Loss: 0.6758 RMSE: 0.8221\n",
      "[I 201215 17:58:43 <ipython-input-6-edd6cd26e1c9>:200] valid Loss: 0.7519 RMSE: 0.8671\n",
      "[I 201215 17:58:43 <ipython-input-6-edd6cd26e1c9>:65] Validation loss decreased (0.761519 --> 0.751938).  Saving model ...\n",
      "[I 201215 17:58:43 <ipython-input-6-edd6cd26e1c9>:200] train Loss: 0.6516 RMSE: 0.8072\n",
      "[I 201215 17:58:43 <ipython-input-6-edd6cd26e1c9>:200] valid Loss: 0.7599 RMSE: 0.8717\n",
      "[I 201215 17:58:43 <ipython-input-6-edd6cd26e1c9>:54] EarlyStopping counter: 1 out of 10\n"
     ]
    },
    {
     "name": "stdout",
     "output_type": "stream",
     "text": [
      "Epoch 20/1000\n",
      "----------\n"
     ]
    },
    {
     "name": "stderr",
     "output_type": "stream",
     "text": [
      "[I 201215 17:58:44 <ipython-input-6-edd6cd26e1c9>:200] train Loss: 0.6307 RMSE: 0.7942\n",
      "[I 201215 17:58:44 <ipython-input-6-edd6cd26e1c9>:200] valid Loss: 0.7334 RMSE: 0.8564\n",
      "[I 201215 17:58:44 <ipython-input-6-edd6cd26e1c9>:65] Validation loss decreased (0.751938 --> 0.733365).  Saving model ...\n",
      "[I 201215 17:58:44 <ipython-input-6-edd6cd26e1c9>:200] train Loss: 0.6373 RMSE: 0.7983\n",
      "[I 201215 17:58:44 <ipython-input-6-edd6cd26e1c9>:200] valid Loss: 0.7366 RMSE: 0.8583\n",
      "[I 201215 17:58:44 <ipython-input-6-edd6cd26e1c9>:54] EarlyStopping counter: 1 out of 10\n",
      "[I 201215 17:58:44 <ipython-input-6-edd6cd26e1c9>:200] train Loss: 0.6355 RMSE: 0.7972\n",
      "[I 201215 17:58:44 <ipython-input-6-edd6cd26e1c9>:200] valid Loss: 0.7443 RMSE: 0.8627\n",
      "[I 201215 17:58:44 <ipython-input-6-edd6cd26e1c9>:54] EarlyStopping counter: 2 out of 10\n",
      "[I 201215 17:58:44 <ipython-input-6-edd6cd26e1c9>:200] train Loss: 0.6313 RMSE: 0.7945\n",
      "[I 201215 17:58:44 <ipython-input-6-edd6cd26e1c9>:200] valid Loss: 0.7492 RMSE: 0.8655\n",
      "[I 201215 17:58:44 <ipython-input-6-edd6cd26e1c9>:54] EarlyStopping counter: 3 out of 10\n",
      "[I 201215 17:58:44 <ipython-input-6-edd6cd26e1c9>:200] train Loss: 0.6188 RMSE: 0.7867\n",
      "[I 201215 17:58:44 <ipython-input-6-edd6cd26e1c9>:200] valid Loss: 0.7456 RMSE: 0.8635\n",
      "[I 201215 17:58:44 <ipython-input-6-edd6cd26e1c9>:54] EarlyStopping counter: 4 out of 10\n",
      "[I 201215 17:58:44 <ipython-input-6-edd6cd26e1c9>:200] train Loss: 0.6183 RMSE: 0.7863\n",
      "[I 201215 17:58:44 <ipython-input-6-edd6cd26e1c9>:200] valid Loss: 0.7405 RMSE: 0.8605\n",
      "[I 201215 17:58:44 <ipython-input-6-edd6cd26e1c9>:54] EarlyStopping counter: 5 out of 10\n",
      "[I 201215 17:58:44 <ipython-input-6-edd6cd26e1c9>:200] train Loss: 0.6001 RMSE: 0.7747\n",
      "[I 201215 17:58:44 <ipython-input-6-edd6cd26e1c9>:200] valid Loss: 0.7377 RMSE: 0.8589\n",
      "[I 201215 17:58:44 <ipython-input-6-edd6cd26e1c9>:54] EarlyStopping counter: 6 out of 10\n",
      "[I 201215 17:58:44 <ipython-input-6-edd6cd26e1c9>:200] train Loss: 0.6002 RMSE: 0.7747\n",
      "[I 201215 17:58:44 <ipython-input-6-edd6cd26e1c9>:200] valid Loss: 0.7380 RMSE: 0.8590\n",
      "[I 201215 17:58:44 <ipython-input-6-edd6cd26e1c9>:54] EarlyStopping counter: 7 out of 10\n",
      "[I 201215 17:58:44 <ipython-input-6-edd6cd26e1c9>:200] train Loss: 0.6056 RMSE: 0.7782\n",
      "[I 201215 17:58:44 <ipython-input-6-edd6cd26e1c9>:200] valid Loss: 0.7429 RMSE: 0.8619\n",
      "[I 201215 17:58:44 <ipython-input-6-edd6cd26e1c9>:54] EarlyStopping counter: 8 out of 10\n",
      "[I 201215 17:58:44 <ipython-input-6-edd6cd26e1c9>:200] train Loss: 0.6130 RMSE: 0.7830\n",
      "[I 201215 17:58:44 <ipython-input-6-edd6cd26e1c9>:200] valid Loss: 0.7397 RMSE: 0.8601\n",
      "[I 201215 17:58:44 <ipython-input-6-edd6cd26e1c9>:54] EarlyStopping counter: 9 out of 10\n"
     ]
    },
    {
     "name": "stdout",
     "output_type": "stream",
     "text": [
      "Epoch 30/1000\n",
      "----------\n"
     ]
    },
    {
     "name": "stderr",
     "output_type": "stream",
     "text": [
      "[I 201215 17:58:45 <ipython-input-6-edd6cd26e1c9>:200] train Loss: 0.6140 RMSE: 0.7836\n",
      "[I 201215 17:58:45 <ipython-input-6-edd6cd26e1c9>:200] valid Loss: 0.7405 RMSE: 0.8605\n",
      "[I 201215 17:58:45 <ipython-input-6-edd6cd26e1c9>:54] EarlyStopping counter: 10 out of 10\n",
      "[I 201215 17:58:45 <ipython-input-6-edd6cd26e1c9>:210] Early stopping\n"
     ]
    },
    {
     "name": "stdout",
     "output_type": "stream",
     "text": [
      "\n"
     ]
    }
   ],
   "source": [
    "oof_df = pd.DataFrame()\n",
    "y_pred_df = pd.DataFrame()\n",
    "#'NA_Sales', 'EU_Sales', 'JP_Sales', 'Other_Sales', \n",
    "for objective in tqdm(['Global_Sales']):\n",
    "    y_train = np.log1p(train[objective])\n",
    "    \n",
    "    stratified_y = pd.cut(y_train, 10, labels=False)\n",
    "    \n",
    "    #kf = GroupKFold(n_splits=5)\n",
    "    kf = StratifiedGroupKFold(n_splits=5, random_state=0)\n",
    "    oof = np.zeros(X_train.shape[0])\n",
    "    y_pred = np.zeros(X_test.shape[0])\n",
    "    models = []\n",
    "\n",
    "    for i, (train_index, valid_index) in enumerate(kf.split(X_train, y=stratified_y, groups=groups)):\n",
    "        print(f'Start {i+1} fold')\n",
    "        print('-' * 20)\n",
    "        X_tr, y_tr = X_train.iloc[train_index, :], y_train.iloc[train_index]\n",
    "        X_val, y_val = X_train.iloc[valid_index, :], y_train.iloc[valid_index]\n",
    "        X_tes = X_test.copy()\n",
    "\n",
    "        net = NetRegressor(in_features=X_train.shape[1], out_features=1)\n",
    "        model = MLPRegressor(net, X_tr, y_tr, X_val, y_val, X_tes, num_labels=1, batch_size=512, num_epochs=1000)\n",
    "        model.fit() \n",
    "        oof[valid_index] = model.predict('valid').reshape(-1)\n",
    "        y_pred += model.predict('test').reshape(-1) / 5\n",
    "        models.append(model)\n",
    "        \n",
    "    oof = np.where(oof < 0, 0, oof)\n",
    "    y_pred = np.where(y_pred < 0, 0, y_pred)\n",
    "    oof = np.expm1(oof)\n",
    "    y_pred = np.expm1(y_pred)\n",
    "    oof_df[objective] = oof\n",
    "    y_pred_df[objective] = y_pred"
   ]
  },
  {
   "cell_type": "code",
   "execution_count": 11,
   "metadata": {
    "ExecuteTime": {
     "end_time": "2020-12-15T08:58:45.110010Z",
     "start_time": "2020-12-15T08:58:45.104109Z"
    }
   },
   "outputs": [
    {
     "data": {
      "text/plain": [
       "['../output/MLP_oof_preds.joblib']"
      ]
     },
     "execution_count": 11,
     "metadata": {},
     "output_type": "execute_result"
    }
   ],
   "source": [
    "joblib.dump((oof_df['Global_Sales'].values, y_pred_df['Global_Sales'].values), '../output/MLP_oof_preds.joblib')"
   ]
  },
  {
   "cell_type": "code",
   "execution_count": 12,
   "metadata": {
    "ExecuteTime": {
     "end_time": "2020-12-15T08:58:45.120672Z",
     "start_time": "2020-12-15T08:58:45.110783Z"
    }
   },
   "outputs": [
    {
     "name": "stdout",
     "output_type": "stream",
     "text": [
      "0.8966913673892108\n"
     ]
    }
   ],
   "source": [
    "oof = oof_df['Global_Sales'].values\n",
    "\n",
    "oof = np.where(oof < 0, 0, oof)\n",
    "#y_pred = np.where(y_pred < 0, 0, y_pred)\n",
    "\n",
    "y_train = np.expm1(y_train)\n",
    "#oof = np.expm1(oof)\n",
    "#y_pred = np.expm1(y_pred)\n",
    "\n",
    "print(mean_squared_log_error(y_train, oof) ** .5)"
   ]
  }
 ],
 "metadata": {
  "kernelspec": {
   "display_name": "Python 3",
   "language": "python",
   "name": "python3"
  },
  "language_info": {
   "codemirror_mode": {
    "name": "ipython",
    "version": 3
   },
   "file_extension": ".py",
   "mimetype": "text/x-python",
   "name": "python",
   "nbconvert_exporter": "python",
   "pygments_lexer": "ipython3",
   "version": "3.7.4"
  }
 },
 "nbformat": 4,
 "nbformat_minor": 4
}
