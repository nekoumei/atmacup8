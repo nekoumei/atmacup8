{
 "cells": [
  {
   "cell_type": "code",
   "execution_count": 1,
   "metadata": {
    "ExecuteTime": {
     "end_time": "2020-12-15T09:25:49.416230Z",
     "start_time": "2020-12-15T09:25:48.301717Z"
    }
   },
   "outputs": [],
   "source": [
    "import numpy as np\n",
    "import pandas as pd\n",
    "import lightgbm as lgb\n",
    "from sklearn.model_selection import KFold, StratifiedKFold, GroupKFold\n",
    "from sklearn.metrics import mean_squared_log_error\n",
    "from gensim.models import word2vec\n",
    "import jpholiday\n",
    "import swifter\n",
    "import datetime\n",
    "from tqdm.notebook import tqdm\n",
    "from sklearn.linear_model import BayesianRidge\n",
    "from sklearn.feature_extraction.text import TfidfVectorizer\n",
    "import matplotlib.pyplot as plt\n",
    "import seaborn as sns\n",
    "import joblib\n",
    "%matplotlib inline\n",
    "from utils import StratifiedGroupKFold\n",
    "pd.options.display.max_rows = 1000"
   ]
  },
  {
   "cell_type": "code",
   "execution_count": 2,
   "metadata": {
    "ExecuteTime": {
     "end_time": "2020-12-15T09:25:49.425061Z",
     "start_time": "2020-12-15T09:25:49.417287Z"
    }
   },
   "outputs": [],
   "source": [
    "files = [\n",
    "    '../output/MLP_oof_preds.joblib',\n",
    "    '../output/LGB_oof_ypred.joblib',\n",
    "    '../output/CBT_oof_preds.joblib',\n",
    "    '../output/TabNet_oof_preds.joblib',\n",
    "    '../output/XGB_oof_preds.joblib',\n",
    "    #'../output/RFR_oof_preds.joblib',\n",
    "    #'../output/EXR_oof_preds.joblib',\n",
    "    #'../output/BYR_oof_preds.joblib'\n",
    "]\n",
    "oofs = []\n",
    "y_preds = []\n",
    "for file in files:\n",
    "    oof, y_pred = joblib.load(file)\n",
    "    oofs.append(pd.DataFrame(np.log1p(oof), columns=['Global_Sales']).add_prefix(file.split('/')[2][:3]))\n",
    "    y_preds.append(pd.DataFrame(np.log1p(y_pred), columns=['Global_Sales']).add_prefix(file.split('/')[2][:3]))"
   ]
  },
  {
   "cell_type": "code",
   "execution_count": 3,
   "metadata": {
    "ExecuteTime": {
     "end_time": "2020-12-15T09:25:50.457861Z",
     "start_time": "2020-12-15T09:25:50.451976Z"
    }
   },
   "outputs": [],
   "source": [
    "oof = pd.concat(oofs, axis=1)\n",
    "y_pred = pd.concat(y_preds, axis=1)"
   ]
  },
  {
   "cell_type": "code",
   "execution_count": 4,
   "metadata": {
    "ExecuteTime": {
     "end_time": "2020-12-15T09:25:50.747263Z",
     "start_time": "2020-12-15T09:25:50.731249Z"
    }
   },
   "outputs": [
    {
     "data": {
      "text/html": [
       "<div>\n",
       "<style scoped>\n",
       "    .dataframe tbody tr th:only-of-type {\n",
       "        vertical-align: middle;\n",
       "    }\n",
       "\n",
       "    .dataframe tbody tr th {\n",
       "        vertical-align: top;\n",
       "    }\n",
       "\n",
       "    .dataframe thead th {\n",
       "        text-align: right;\n",
       "    }\n",
       "</style>\n",
       "<table border=\"1\" class=\"dataframe\">\n",
       "  <thead>\n",
       "    <tr style=\"text-align: right;\">\n",
       "      <th></th>\n",
       "      <th>MLPGlobal_Sales</th>\n",
       "      <th>LGBGlobal_Sales</th>\n",
       "      <th>CBTGlobal_Sales</th>\n",
       "      <th>TabGlobal_Sales</th>\n",
       "      <th>XGBGlobal_Sales</th>\n",
       "    </tr>\n",
       "  </thead>\n",
       "  <tbody>\n",
       "    <tr>\n",
       "      <th>MLPGlobal_Sales</th>\n",
       "      <td>1.000000</td>\n",
       "      <td>0.912367</td>\n",
       "      <td>0.906062</td>\n",
       "      <td>0.904264</td>\n",
       "      <td>0.904177</td>\n",
       "    </tr>\n",
       "    <tr>\n",
       "      <th>LGBGlobal_Sales</th>\n",
       "      <td>0.912367</td>\n",
       "      <td>1.000000</td>\n",
       "      <td>0.945817</td>\n",
       "      <td>0.869775</td>\n",
       "      <td>0.971774</td>\n",
       "    </tr>\n",
       "    <tr>\n",
       "      <th>CBTGlobal_Sales</th>\n",
       "      <td>0.906062</td>\n",
       "      <td>0.945817</td>\n",
       "      <td>1.000000</td>\n",
       "      <td>0.859822</td>\n",
       "      <td>0.947722</td>\n",
       "    </tr>\n",
       "    <tr>\n",
       "      <th>TabGlobal_Sales</th>\n",
       "      <td>0.904264</td>\n",
       "      <td>0.869775</td>\n",
       "      <td>0.859822</td>\n",
       "      <td>1.000000</td>\n",
       "      <td>0.862175</td>\n",
       "    </tr>\n",
       "    <tr>\n",
       "      <th>XGBGlobal_Sales</th>\n",
       "      <td>0.904177</td>\n",
       "      <td>0.971774</td>\n",
       "      <td>0.947722</td>\n",
       "      <td>0.862175</td>\n",
       "      <td>1.000000</td>\n",
       "    </tr>\n",
       "  </tbody>\n",
       "</table>\n",
       "</div>"
      ],
      "text/plain": [
       "                 MLPGlobal_Sales  LGBGlobal_Sales  CBTGlobal_Sales  \\\n",
       "MLPGlobal_Sales         1.000000         0.912367         0.906062   \n",
       "LGBGlobal_Sales         0.912367         1.000000         0.945817   \n",
       "CBTGlobal_Sales         0.906062         0.945817         1.000000   \n",
       "TabGlobal_Sales         0.904264         0.869775         0.859822   \n",
       "XGBGlobal_Sales         0.904177         0.971774         0.947722   \n",
       "\n",
       "                 TabGlobal_Sales  XGBGlobal_Sales  \n",
       "MLPGlobal_Sales         0.904264         0.904177  \n",
       "LGBGlobal_Sales         0.869775         0.971774  \n",
       "CBTGlobal_Sales         0.859822         0.947722  \n",
       "TabGlobal_Sales         1.000000         0.862175  \n",
       "XGBGlobal_Sales         0.862175         1.000000  "
      ]
     },
     "execution_count": 4,
     "metadata": {},
     "output_type": "execute_result"
    }
   ],
   "source": [
    "oof.corr()"
   ]
  },
  {
   "cell_type": "code",
   "execution_count": 5,
   "metadata": {
    "ExecuteTime": {
     "end_time": "2020-12-15T09:25:54.097678Z",
     "start_time": "2020-12-15T09:25:54.036154Z"
    }
   },
   "outputs": [],
   "source": [
    "train, test, groups = joblib.load('../output/features.joblib')"
   ]
  },
  {
   "cell_type": "code",
   "execution_count": 6,
   "metadata": {
    "ExecuteTime": {
     "end_time": "2020-12-15T09:25:54.553262Z",
     "start_time": "2020-12-15T09:25:54.547936Z"
    }
   },
   "outputs": [],
   "source": [
    "y_train = np.log1p(train['Global_Sales'])\n"
   ]
  },
  {
   "cell_type": "code",
   "execution_count": 7,
   "metadata": {
    "ExecuteTime": {
     "end_time": "2020-12-15T09:25:55.480083Z",
     "start_time": "2020-12-15T09:25:55.469631Z"
    }
   },
   "outputs": [
    {
     "name": "stdout",
     "output_type": "stream",
     "text": [
      "MLPGlobal_Sales: 0.8966913673892108\n",
      "LGBGlobal_Sales: 0.827341756904246\n",
      "CBTGlobal_Sales: 0.865501207218099\n",
      "TabGlobal_Sales: 0.927090275353453\n",
      "XGBGlobal_Sales: 0.827261109202819\n"
     ]
    }
   ],
   "source": [
    "for i in range(oof.shape[1]):\n",
    "    print(f'{oof.columns[i]}: ', end='')\n",
    "    print(mean_squared_log_error(np.expm1(y_train.values), np.expm1(oof.iloc[:, i].values)) ** .5)"
   ]
  },
  {
   "cell_type": "code",
   "execution_count": 8,
   "metadata": {
    "ExecuteTime": {
     "end_time": "2020-12-15T09:25:59.061860Z",
     "start_time": "2020-12-15T09:25:59.054544Z"
    }
   },
   "outputs": [],
   "source": [
    "#X_train = np.log1p(oof.copy())\n",
    "X_train = oof.copy()\n",
    "y_train = np.log1p(train['Global_Sales'])\n",
    "#X_test = np.log1p(y_pred.copy())\n",
    "X_test = y_pred.copy()\n",
    "\n",
    "X_train = X_train.loc[:, X_train.columns.str.contains('Global')]\n",
    "X_test = X_test.loc[:, X_test.columns.str.contains('Global')]\n",
    "\n"
   ]
  },
  {
   "cell_type": "code",
   "execution_count": 9,
   "metadata": {
    "ExecuteTime": {
     "end_time": "2020-12-15T09:25:59.573811Z",
     "start_time": "2020-12-15T09:25:59.565932Z"
    }
   },
   "outputs": [],
   "source": [
    "def train_lgb(X_train, y_train, X_test):\n",
    "    stratified_y = pd.cut(y_train, 10, labels=False)\n",
    "    #kf = KFold(n_splits=5, shuffle=True, random_state=0)\n",
    "    #kf = GroupKFold(n_splits=5)\n",
    "    kf = StratifiedGroupKFold(n_splits=5, random_state=0)\n",
    "    #kf = StratifiedKFold(n_splits=5, shuffle=True, random_state=0)\n",
    "    oof = np.zeros(X_train.shape[0])\n",
    "    y_pred = np.zeros(X_test.shape[0])\n",
    "    models = []\n",
    "\n",
    "    for i, (train_index, valid_index) in enumerate(kf.split(X_train, y=stratified_y, groups=groups)):\n",
    "        print(f'Start {i+1} fold')\n",
    "        print('-' * 20)\n",
    "        X_tr, y_tr = X_train.iloc[train_index, :], y_train.iloc[train_index]\n",
    "        X_val, y_val = X_train.iloc[valid_index, :], y_train.iloc[valid_index]\n",
    "        X_tes = X_test.copy()\n",
    "        \n",
    "        if False:\n",
    "            lgb_train = lgb.Dataset(X_tr, y_tr)\n",
    "            lgb_valid = lgb.Dataset(X_val, y_val, reference=lgb_train)\n",
    "            lgb_params = {\n",
    "                'objective': 'rmse',\n",
    "                'metric': 'rmse',\n",
    "                'max_depth': 3,\n",
    "                'num_leaves': 2 ** 8,\n",
    "                'learning_rate': 0.01,\n",
    "                'bagging_fraction': 0.8,\n",
    "                'feature_fraction': 1,\n",
    "                'random_state': 0,\n",
    "                'verbosity': -1\n",
    "                }\n",
    "            model = lgb.train(\n",
    "                lgb_params,\n",
    "                lgb_train,\n",
    "                valid_sets=(lgb_train, lgb_valid),\n",
    "                num_boost_round=100000000,\n",
    "                early_stopping_rounds=1000,\n",
    "                verbose_eval=1000\n",
    "            )\n",
    "        else:\n",
    "            model = BayesianRidge(n_iter=1000)\n",
    "            model.fit(X_tr, y_tr)\n",
    "        oof[valid_index] = model.predict(X_val)\n",
    "        y_pred += model.predict(X_tes) / 5\n",
    "        models.append(model)\n",
    "    \n",
    "    return oof, y_pred, models"
   ]
  },
  {
   "cell_type": "code",
   "execution_count": 10,
   "metadata": {
    "ExecuteTime": {
     "end_time": "2020-12-15T09:26:05.290264Z",
     "start_time": "2020-12-15T09:26:00.487450Z"
    },
    "scrolled": true
   },
   "outputs": [
    {
     "name": "stdout",
     "output_type": "stream",
     "text": [
      "Start 1 fold\n",
      "--------------------\n",
      "Start 2 fold\n",
      "--------------------\n",
      "Start 3 fold\n",
      "--------------------\n",
      "Start 4 fold\n",
      "--------------------\n",
      "Start 5 fold\n",
      "--------------------\n"
     ]
    }
   ],
   "source": [
    "oof_st, y_pred_st, models = train_lgb(X_train, y_train, X_test)"
   ]
  },
  {
   "cell_type": "code",
   "execution_count": 12,
   "metadata": {
    "ExecuteTime": {
     "end_time": "2020-12-15T09:26:05.306059Z",
     "start_time": "2020-12-15T09:26:05.293998Z"
    }
   },
   "outputs": [
    {
     "name": "stdout",
     "output_type": "stream",
     "text": [
      "0.818679743744194\n"
     ]
    }
   ],
   "source": [
    "oof_st = np.where(oof_st < 0, 0, oof_st)\n",
    "y_pred_st = np.where(y_pred_st < 0, 0, y_pred_st)\n",
    "\n",
    "y_train = np.expm1(y_train)\n",
    "oof_st = np.expm1(oof_st)\n",
    "y_pred_st = np.expm1(y_pred_st)\n",
    "\n",
    "print(mean_squared_log_error(y_train, oof_st) ** .5)"
   ]
  },
  {
   "cell_type": "code",
   "execution_count": 13,
   "metadata": {
    "ExecuteTime": {
     "end_time": "2020-12-15T09:26:06.445689Z",
     "start_time": "2020-12-15T09:26:06.426715Z"
    }
   },
   "outputs": [],
   "source": [
    "submit = pd.read_csv('../data/atmaCup8_sample-submission.csv')\n",
    "submit['Global_Sales'] = y_pred_st\n",
    "submit.to_csv('../output/20201214_stacking.csv', index=False)"
   ]
  },
  {
   "cell_type": "code",
   "execution_count": 14,
   "metadata": {
    "ExecuteTime": {
     "end_time": "2020-12-15T09:26:07.529312Z",
     "start_time": "2020-12-15T09:26:07.244333Z"
    }
   },
   "outputs": [
    {
     "data": {
      "image/png": "[encoded data removed]",
      "text/plain": [
       "<Figure size 576x576 with 1 Axes>"
      ]
     },
     "metadata": {
      "needs_background": "light"
     },
     "output_type": "display_data"
    }
   ],
   "source": [
    "fig, ax = plt.subplots(figsize=(8, 8))\n",
    "sns.distplot(np.log1p(y_pred_st), label='Test Predict')\n",
    "sns.distplot(np.log1p(oof_st), label='Out Of Fold')\n",
    "ax.legend()\n",
    "ax.grid()"
   ]
  },
  {
   "cell_type": "code",
   "execution_count": null,
   "metadata": {},
   "outputs": [],
   "source": []
  }
 ],
 "metadata": {
  "kernelspec": {
   "display_name": "Python 3",
   "language": "python",
   "name": "python3"
  },
  "language_info": {
   "codemirror_mode": {
    "name": "ipython",
    "version": 3
   },
   "file_extension": ".py",
   "mimetype": "text/x-python",
   "name": "python",
   "nbconvert_exporter": "python",
   "pygments_lexer": "ipython3",
   "version": "3.7.4"
  }
 },
 "nbformat": 4,
 "nbformat_minor": 4
}
